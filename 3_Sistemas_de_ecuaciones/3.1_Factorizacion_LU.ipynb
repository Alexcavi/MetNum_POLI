{
 "cells": [
  {
   "cell_type": "code",
   "execution_count": 1,
   "outputs": [],
   "source": [
    "from math import *\n",
    "from pprint import pprint\n",
    "from sympy import *\n",
    "\n",
    "\n",
    "def lu(A):\n",
    "    \"\"\"\n",
    "    Implementación del método LU\n",
    "    Entradas:\n",
    "    A -- matriz cuadrada\n",
    "\n",
    "    Salidas:\n",
    "    L, U -- matrices de la descomposición\n",
    "    None -- en caso de no ser posible la descomposición\n",
    "    \"\"\"\n",
    "    n = len(A)\n",
    "    # crear matrices nulas\n",
    "    L = [[0 for x in range(n)] for x in range(n)]\n",
    "    U = [[0 for x in range(n)] for x in range(n)]\n",
    "\n",
    "    # Doolittle\n",
    "    L[0][0] = 1\n",
    "    U[0][0] = A[0][0]\n",
    "\n",
    "    if abs(L[0][0]*U[0][0]) <= 1e-15:\n",
    "        print(\"Imposible descomponer\")\n",
    "        return None\n",
    "\n",
    "    for j in range(1, n):\n",
    "        U[0][j] = A[0][j]/L[0][0]\n",
    "        L[j][0] = A[j][0]/U[0][0]\n",
    "\n",
    "    for i in range(1, n-1):\n",
    "        L[i][i] = 1\n",
    "        s = sum([L[i][k]*U[k][i] for k in range(i)])\n",
    "        U[i][i] = A[i][i] - s\n",
    "\n",
    "        if abs(L[i][i]*U[i][i]) <= 1e-15:\n",
    "            print(\"Imposible descomponer\")\n",
    "            return None\n",
    "\n",
    "        for j in range(i+1, n):\n",
    "            s1 = sum([L[i][k]*U[k][j] for k in range(i)])\n",
    "            s2 = sum([L[j][k]*U[k][i] for k in range(i)])\n",
    "            U[i][j] = A[i][j] - s1\n",
    "            L[j][i] = (A[j][i] - s2)/U[i][i]\n",
    "\n",
    "    L[n-1][n-1] = 1.0\n",
    "    s3 = sum([L[n-1][k]*U[k][n-1] for k in range(n)])\n",
    "    U[n-1][n-1] = A[n-1][n-1] - s3\n",
    "\n",
    "    if abs(L[n-1][n-1]*U[n-1][n-1]) <= 1e-15:\n",
    "        print(\"Imposible descomponer\")\n",
    "        return None\n",
    "\n",
    "    print(\"Matriz L:\\n\")\n",
    "    pprint(Matrix(L))\n",
    "    print(\"Matriz U:\\n\")\n",
    "    pprint(Matrix(U))\n",
    "    return L, U"
   ],
   "metadata": {
    "collapsed": false,
    "pycharm": {
     "name": "#%%\n"
    }
   }
  },
  {
   "cell_type": "code",
   "execution_count": 3,
   "outputs": [
    {
     "name": "stdout",
     "output_type": "stream",
     "text": [
      "Matriz L:\n",
      "\n",
      "⎡  1            0            0 ⎤\n",
      "⎢                              ⎥\n",
      "⎢-0.25          1            0 ⎥\n",
      "⎢                              ⎥\n",
      "⎣  0    -0.124223602484472  1.0⎦\n",
      "Matriz U:\n",
      "\n",
      "⎡4  -1.0         0        ⎤\n",
      "⎢                         ⎥\n",
      "⎢0  8.05        -1.0      ⎥\n",
      "⎢                         ⎥\n",
      "⎣0   0    3.67577639751553⎦\n"
     ]
    }
   ],
   "source": [
    "A= [[4, -1, 0],\n",
    "    [-1, 8.3, -1],\n",
    "    [0, -1, 3.8]]\n",
    "L, U = lu(A)\n"
   ],
   "metadata": {
    "collapsed": false,
    "pycharm": {
     "name": "#%%\n"
    }
   }
  }
 ],
 "metadata": {
  "kernelspec": {
   "display_name": "Python 3",
   "language": "python",
   "name": "python3"
  },
  "language_info": {
   "codemirror_mode": {
    "name": "ipython",
    "version": 2
   },
   "file_extension": ".py",
   "mimetype": "text/x-python",
   "name": "python",
   "nbconvert_exporter": "python",
   "pygments_lexer": "ipython2",
   "version": "2.7.6"
  }
 },
 "nbformat": 4,
 "nbformat_minor": 0
}