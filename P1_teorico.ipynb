{
 "cells": [
  {
   "cell_type": "code",
   "execution_count": 2,
   "metadata": {
    "pycharm": {
     "name": "#%%\n"
    }
   },
   "outputs": [],
   "source": [
    "import numpy as np\n",
    "import pandas as pd\n",
    "from importlib import reload\n",
    "import lib.metodos_solucion_ecuaciones\n",
    "reload(lib.metodos_solucion_ecuaciones)\n",
    "from lib.metodos_solucion_ecuaciones import graficar, met_biseccion, met_regula_falsi, met_newton_raphson, met_punto_fijo\n",
    "from lib.metodos_solucion_ecuaciones import met_secante"
   ]
  },
  {
   "cell_type": "code",
   "execution_count": 155,
   "outputs": [
    {
     "name": "stdout",
     "output_type": "stream",
     "text": [
      "ite 1 : a_0  = 1.0000, b_0  = 3.0000, p_1  = 2.00000 | e_abs: 1.000000e+00\n",
      "ite 2 : a_1  = 1.0000, b_1  = 2.0000, p_2  = 1.50000 | e_abs: 5.000000e-01\n",
      "ite 3 : a_2  = 1.0000, b_2  = 1.5000, p_3  = 1.25000 | e_abs: 2.500000e-01\n",
      "ite 4 : a_3  = 1.2500, b_3  = 1.5000, p_4  = 1.37500 | e_abs: 1.250000e-01\n",
      "ite 5 : a_4  = 1.3750, b_4  = 1.5000, p_5  = 1.43750 | e_abs: 6.250000e-02\n",
      "ite 6 : a_5  = 1.3750, b_5  = 1.4375, p_6  = 1.40625 | e_abs: 3.125000e-02\n",
      "ite 7 : a_6  = 1.3750, b_6  = 1.4062, p_7  = 1.39062 | e_abs: 1.562500e-02\n",
      "ite 8 : a_7  = 1.3750, b_7  = 1.3906, p_8  = 1.38281 | e_abs: 7.812500e-03\n",
      ">>> Solución encontrada después de 8 iteraciones: x->1.382812500000000\n"
     ]
    },
    {
     "data": {
      "text/plain": "1.3828125"
     },
     "execution_count": 155,
     "metadata": {},
     "output_type": "execute_result"
    }
   ],
   "source": [
    "g = lambda x: x**3 + x - 4\n",
    "met_biseccion(g, 1, 3, 1e-2)"
   ],
   "metadata": {
    "collapsed": false,
    "pycharm": {
     "name": "#%%\n"
    }
   }
  },
  {
   "cell_type": "code",
   "execution_count": 158,
   "outputs": [
    {
     "name": "stdout",
     "output_type": "stream",
     "text": [
      "ite 1 : p_0  = 1.0000, p_1  = 1.50000 | e_abs: 5.000000e-01\n",
      "ite 2 : p_1  = 1.5000, p_2  = 1.38710 | e_abs: 1.129032e-01\n",
      "ite 3 : p_2  = 1.3871, p_3  = 1.37884 | e_abs: 8.257827e-03\n",
      "ite 4 : p_3  = 1.3788, p_4  = 1.37880 | e_abs: 4.224637e-05\n",
      ">>> Solución encontrada después de 4 iteraciones: x->1.378796701230898\n"
     ]
    },
    {
     "data": {
      "text/plain": "1.3787967012308981"
     },
     "execution_count": 158,
     "metadata": {},
     "output_type": "execute_result"
    }
   ],
   "source": [
    "dg = lambda x: 3*x**2 + 1\n",
    "met_newton_raphson(g, dg, 1, 1e-3)"
   ],
   "metadata": {
    "collapsed": false,
    "pycharm": {
     "name": "#%%\n"
    }
   }
  },
  {
   "cell_type": "code",
   "execution_count": 163,
   "outputs": [
    {
     "name": "stdout",
     "output_type": "stream",
     "text": [
      "ite 1 : p_0 =1.00000 p_1 =1.5000000 | e_abs: 5.000000e-01\n",
      "ite 2 : p_1 =1.50000 p_2 =1.4166667 | e_abs: 8.333333e-02\n",
      "ite 3 : p_2 =1.41667 p_3 =1.4142157 | e_abs: 2.450980e-03\n",
      ">>> Solución encontrada después de 3 iteraciones: x->1.414215686274510\n"
     ]
    },
    {
     "data": {
      "text/plain": "1.4142156862745097"
     },
     "execution_count": 163,
     "metadata": {},
     "output_type": "execute_result"
    }
   ],
   "source": [
    "g_1 = lambda x: x/2 + 1/x\n",
    "met_punto_fijo(g_1, 1, 1e-2)\n"
   ],
   "metadata": {
    "collapsed": false,
    "pycharm": {
     "name": "#%%\n"
    }
   }
  },
  {
   "cell_type": "code",
   "execution_count": 164,
   "outputs": [
    {
     "name": "stdout",
     "output_type": "stream",
     "text": [
      "ite 1 : p_0 =1.00000 p_1 =1.3333333 | e_abs: 3.333333e-01\n",
      "ite 2 : p_1 =1.33333 p_2 =1.3888889 | e_abs: 5.555556e-02\n",
      "ite 3 : p_2 =1.38889 p_3 =1.4059259 | e_abs: 1.703704e-02\n",
      "ite 4 : p_3 =1.40593 p_4 =1.4114673 | e_abs: 5.541376e-03\n",
      ">>> Solución encontrada después de 4 iteraciones: x->1.411467301512964\n"
     ]
    },
    {
     "data": {
      "text/plain": "1.4114673015129635"
     },
     "execution_count": 164,
     "metadata": {},
     "output_type": "execute_result"
    }
   ],
   "source": [
    "g_2 = lambda x: 2*x/3 + 2/(3*x)\n",
    "met_punto_fijo(g_2, 1, 1e-2)"
   ],
   "metadata": {
    "collapsed": false,
    "pycharm": {
     "name": "#%%\n"
    }
   }
  },
  {
   "cell_type": "code",
   "execution_count": 165,
   "outputs": [
    {
     "name": "stdout",
     "output_type": "stream",
     "text": [
      "ite 1 : p_0 =1.00000 p_1 =1.2500000 | e_abs: 2.500000e-01\n",
      "ite 2 : p_1 =1.25000 p_2 =1.3375000 | e_abs: 8.750000e-02\n",
      "ite 3 : p_2 =1.33750 p_3 =1.3769568 | e_abs: 3.945678e-02\n",
      "ite 4 : p_3 =1.37696 p_4 =1.3958372 | e_abs: 1.888041e-02\n",
      "ite 5 : p_4 =1.39584 p_5 =1.4050859 | e_abs: 9.248670e-03\n",
      ">>> Solución encontrada después de 5 iteraciones: x->1.405085856232615\n"
     ]
    },
    {
     "data": {
      "text/plain": "1.4050858562326147"
     },
     "execution_count": 165,
     "metadata": {},
     "output_type": "execute_result"
    }
   ],
   "source": [
    "g_3 = lambda x: 3*x/4 + 1/(2*x)\n",
    "met_punto_fijo(g_3, 1, 1e-2)"
   ],
   "metadata": {
    "collapsed": false,
    "pycharm": {
     "name": "#%%\n"
    }
   }
  },
  {
   "cell_type": "code",
   "execution_count": null,
   "outputs": [],
   "source": [],
   "metadata": {
    "collapsed": false,
    "pycharm": {
     "name": "#%%\n"
    }
   }
  }
 ],
 "metadata": {
  "kernelspec": {
   "display_name": "Python 3 (ipykernel)",
   "language": "python",
   "name": "python3"
  },
  "language_info": {
   "codemirror_mode": {
    "name": "ipython",
    "version": 3
   },
   "file_extension": ".py",
   "mimetype": "text/x-python",
   "name": "python",
   "nbconvert_exporter": "python",
   "pygments_lexer": "ipython3",
   "version": "3.9.12"
  }
 },
 "nbformat": 4,
 "nbformat_minor": 1
}