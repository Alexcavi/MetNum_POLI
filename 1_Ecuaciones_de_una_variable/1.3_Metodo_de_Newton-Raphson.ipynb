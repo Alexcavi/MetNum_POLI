{
 "cells": [
  {
   "cell_type": "markdown",
   "metadata": {
    "collapsed": true,
    "pycharm": {
     "name": "#%% md\n"
    }
   },
   "source": [
    "# 1.3 Método de *Newton-Raphson*"
   ]
  },
  {
   "cell_type": "markdown",
   "metadata": {
    "pycharm": {
     "name": "#%% md\n"
    }
   },
   "source": [
    "[![Open In Colab](https://colab.research.google.com/assets/colab-badge.svg)](https://colab.research.google.com/github/caramirezs/MetNum_202210/blob/main/1_Ecuaciones_de_una_variable/1.3_Metodo_de_Newton-Raphson.ipynb)"
   ]
  },
  {
   "cell_type": "markdown",
   "metadata": {
    "pycharm": {
     "name": "#%% md\n"
    }
   },
   "source": [
    "## Algoritmo"
   ]
  },
  {
   "cell_type": "code",
   "execution_count": 2,
   "metadata": {
    "pycharm": {
     "name": "#%%\n"
    }
   },
   "outputs": [],
   "source": [
    "import numpy as np\n",
    "import sympy as sp"
   ]
  },
  {
   "cell_type": "code",
   "execution_count": 3,
   "metadata": {
    "pycharm": {
     "name": "#%%\n"
    }
   },
   "outputs": [],
   "source": [
    "def met_newton_raphson(f, df, p_0, tol=1e-4, n=50):\n",
    "    \"\"\"\n",
    "    Método de Newton-Rapphson\n",
    "    :param f: Funcion a la que se le intenta encontrar una solucion\n",
    "    para la ecuacion f(x)=0, previamente definida\n",
    "    :param df: Derivada de la función\n",
    "    :param p_0: semilla, valor inicial\n",
    "    :param tol: toleracia, criterio de parada\n",
    "    :param n: número máximo de iteraciones, criterio de parada\n",
    "    :return: solución exacta o aproximada, si tiene.\n",
    "    \"\"\"\n",
    "    i = 1\n",
    "    while i<=n:\n",
    "        if df(p_0) == 0:\n",
    "            print('Solución no encontrada (df(x)=0)')\n",
    "            return None\n",
    "\n",
    "        p_i = p_0 - f(p_0)/df(p_0)\n",
    "\n",
    "        print('ite {:<2}: p_{:<2} = {:.4f}, p_{:<2} = {:.5f}'.format(i, i-1, p_0, i, p_i))\n",
    "        if f(p_i) == 0:\n",
    "            print('solución exacta encontrada')\n",
    "            return p_i\n",
    "\n",
    "        e_abs = abs(p_0 - p_i)\n",
    "\n",
    "        if e_abs < tol:\n",
    "            print('solución encontrada')\n",
    "            return p_i\n",
    "\n",
    "        p_0 = p_i\n",
    "        i += 1\n",
    "\n",
    "    print('solución no encontrada, iteraciones agotadas')\n",
    "    return None"
   ]
  },
  {
   "cell_type": "code",
   "execution_count": 7,
   "metadata": {
    "pycharm": {
     "name": "#%%\n"
    }
   },
   "outputs": [
    {
     "name": "stdout",
     "output_type": "stream",
     "text": [
      "ite 1 : p_0  = -1.0000, p_1  = -1.15140\n",
      "ite 2 : p_1  = -1.1514, p_2  = -1.15695\n",
      "ite 3 : p_2  = -1.1569, p_3  = -1.15697\n",
      "ite 4 : p_3  = -1.1570, p_4  = -1.15697\n",
      "ite 5 : p_4  = -1.1570, p_5  = -1.15697\n",
      "solución encontrada\n"
     ]
    },
    {
     "data": {
      "text/plain": [
       "-1.1569692546692865"
      ]
     },
     "execution_count": 7,
     "metadata": {},
     "output_type": "execute_result"
    }
   ],
   "source": [
    "f = lambda x: np.sin(3*x) - np.cos(2*x) -1\n",
    "df= lambda x: 3*np.cos(3*x) + 2*np.sin(2*x)\n",
    "met_newton_raphson(f, df, -1, 1e-10)"
   ]
  },
  {
   "cell_type": "code",
   "execution_count": null,
   "metadata": {
    "pycharm": {
     "name": "#%%\n"
    }
   },
   "outputs": [],
   "source": []
  }
 ],
 "metadata": {
  "kernelspec": {
   "display_name": "Python 3 (ipykernel)",
   "language": "python",
   "name": "python3"
  },
  "language_info": {
   "codemirror_mode": {
    "name": "ipython",
    "version": 3
   },
   "file_extension": ".py",
   "mimetype": "text/x-python",
   "name": "python",
   "nbconvert_exporter": "python",
   "pygments_lexer": "ipython3",
   "version": "3.9.12"
  }
 },
 "nbformat": 4,
 "nbformat_minor": 1
}