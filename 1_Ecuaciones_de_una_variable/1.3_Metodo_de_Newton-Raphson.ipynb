{
 "cells": [
  {
   "cell_type": "markdown",
   "metadata": {
    "collapsed": true,
    "pycharm": {
     "name": "#%% md\n"
    }
   },
   "source": [
    "# 1.3 Método de *Newton-Raphson*"
   ]
  },
  {
   "cell_type": "markdown",
   "source": [
    "[![Open In Colab](https://colab.research.google.com/assets/colab-badge.svg)](https://colab.research.google.com/github/caramirezs/MetNum_202210/blob/main/1_Ecuaciones_de_una_variable/1.3_Metodo_de_Newton-Raphson.ipynb)"
   ],
   "metadata": {
    "collapsed": false,
    "pycharm": {
     "name": "#%% md\n"
    }
   }
  },
  {
   "cell_type": "markdown",
   "source": [
    "## Algoritmo"
   ],
   "metadata": {
    "collapsed": false,
    "pycharm": {
     "name": "#%% md\n"
    }
   }
  },
  {
   "cell_type": "code",
   "execution_count": 2,
   "outputs": [],
   "source": [
    "import numpy as np\n",
    "import sympy as sp"
   ],
   "metadata": {
    "collapsed": false,
    "pycharm": {
     "name": "#%%\n"
    }
   }
  },
  {
   "cell_type": "code",
   "execution_count": 3,
   "outputs": [],
   "source": [
    "def met_newton_raphson(f, df, p_0, tol=1e-4, n=50):\n",
    "    \"\"\"\n",
    "    Método de Newton-Rapphson\n",
    "    :param f: Funcion a la que se le intenta encontrar una solucion\n",
    "    para la ecuacion f(x)=0, previamente definida\n",
    "    :param df: Derivada de la función\n",
    "    :param p_0: semilla, valor inicial\n",
    "    :param tol: toleracia, criterio de parada\n",
    "    :param n: número máximo de iteraciones, criterio de parada\n",
    "    :return: solución exacta o aproximada, si tiene.\n",
    "    \"\"\"\n",
    "    i = 1\n",
    "    while i<=n:\n",
    "        if df(p_0) == 0:\n",
    "            print('Solución no encontrada (df(x)=0)')\n",
    "            return None\n",
    "\n",
    "        p_i = p_0 - f(p_0)/df(p_0)\n",
    "\n",
    "        print('ite {:<2}: p_{:<2} = {:.4f}, p_{:<2} = {:.5f}'.format(i, i-1, p_0, i, p_i))\n",
    "        if f(p_i) == 0:\n",
    "            print('solución exacta encontrada')\n",
    "            return p_i\n",
    "\n",
    "        e_abs = abs(p_0 - p_i)\n",
    "\n",
    "        if e_abs < tol:\n",
    "            print('solución encontrada')\n",
    "            return p_i\n",
    "\n",
    "        p_0 = p_i\n",
    "        i += 1\n",
    "\n",
    "    print('solución no encontrada, iteraciones agotadas')\n",
    "    return None"
   ],
   "metadata": {
    "collapsed": false,
    "pycharm": {
     "name": "#%%\n"
    }
   }
  },
  {
   "cell_type": "code",
   "execution_count": 6,
   "outputs": [
    {
     "name": "stdout",
     "output_type": "stream",
     "text": [
      "ite 1 : p_0  = 2.5000, p_1  = 2.25081\n",
      "ite 2 : p_1  = 2.2508, p_2  = 2.20186\n",
      "ite 3 : p_2  = 2.2019, p_3  = 2.20006\n",
      "ite 4 : p_3  = 2.2001, p_4  = 2.20006\n",
      "ite 5 : p_4  = 2.2001, p_5  = 2.20006\n",
      "solución exacta encontrada\n"
     ]
    },
    {
     "data": {
      "text/plain": "2.2000610602207424"
     },
     "execution_count": 6,
     "metadata": {},
     "output_type": "execute_result"
    }
   ],
   "source": [
    "f = lambda x: np.e**x - 3*np.sin(x) - 3*x\n",
    "df = lambda x: np.e**x - 3*np.cos(x) - 3\n",
    "met_newton_raphson(f, df, 2.5, tol=1e-14, n=1000)"
   ],
   "metadata": {
    "collapsed": false,
    "pycharm": {
     "name": "#%%\n"
    }
   }
  },
  {
   "cell_type": "code",
   "execution_count": 57,
   "outputs": [],
   "source": [
    "def newton_raphson_2(f, p_0, tol=1e-4, n=50):\n",
    "    #Calculamos la derivada de la función\n",
    "    df =sp.diff(f)\n",
    "    f  =sp.lambdify(x, f)\n",
    "    df =sp.lambdify(x,df)\n",
    "    #Recorremos a traves del rango del número maximo de iteraciones\n",
    "    i = 1\n",
    "    while i <= n:\n",
    "        if df(p_0) == 0:\n",
    "            print('Solución no encontrada (df(x)=0)')\n",
    "            return None\n",
    "        p_1 = p_0 - f(p_0)/df(p_0)\n",
    "        e_abs = abs(p_1 - p_0)\n",
    "        print('ite {:<2}: p_{:<2}={:.7f} , e_abs={:.10}'.format(i,i,p_1,e_abs))\n",
    "        if e_abs < tol:\n",
    "            print('Solución aproximada encontrada')\n",
    "            return p_1\n",
    "        p_0 = p_1\n",
    "        i += 1\n",
    "    print('Solución no encontrada, iteraciones agotadas'),\n",
    "    return None"
   ],
   "metadata": {
    "collapsed": false,
    "pycharm": {
     "name": "#%%\n"
    }
   }
  },
  {
   "cell_type": "code",
   "execution_count": 58,
   "outputs": [
    {
     "name": "stdout",
     "output_type": "stream",
     "text": [
      "ite 1 : p_1 =2.2508116 , e_abs=0.2491883537\n",
      "ite 2 : p_2 =2.2018588 , e_abs=0.0489528247\n",
      "ite 3 : p_3 =2.2000634 , e_abs=0.001795390845\n",
      "ite 4 : p_4 =2.2000611 , e_abs=2.370570737e-06\n",
      "Solución aproximada encontrada\n"
     ]
    },
    {
     "data": {
      "text/plain": "2.2000610602248676"
     },
     "execution_count": 58,
     "metadata": {},
     "output_type": "execute_result"
    }
   ],
   "source": [
    "import math\n",
    "x = sp.symbols('x')\n",
    "f = pow(np.e, x) - 3*sp.sin(x) - 3*x\n",
    "newton_raphson_2(f, 2.5)"
   ],
   "metadata": {
    "collapsed": false,
    "pycharm": {
     "name": "#%%\n"
    }
   }
  },
  {
   "cell_type": "code",
   "execution_count": null,
   "outputs": [],
   "source": [],
   "metadata": {
    "collapsed": false,
    "pycharm": {
     "name": "#%%\n"
    }
   }
  }
 ],
 "metadata": {
  "kernelspec": {
   "display_name": "Python 3",
   "language": "python",
   "name": "python3"
  },
  "language_info": {
   "codemirror_mode": {
    "name": "ipython",
    "version": 2
   },
   "file_extension": ".py",
   "mimetype": "text/x-python",
   "name": "python",
   "nbconvert_exporter": "python",
   "pygments_lexer": "ipython2",
   "version": "2.7.6"
  }
 },
 "nbformat": 4,
 "nbformat_minor": 0
}