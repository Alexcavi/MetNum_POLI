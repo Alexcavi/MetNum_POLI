{
 "cells": [
  {
   "cell_type": "markdown",
   "metadata": {
    "collapsed": true,
    "pycharm": {
     "name": "#%% md\n"
    }
   },
   "source": [
    "# 1.2 Método *regula falsi*"
   ]
  },
  {
   "cell_type": "markdown",
   "source": [
    "[![Open In Colab](https://colab.research.google.com/assets/colab-badge.svg)](https://colab.research.google.com/github/caramirezs/MetNum_202210/blob/main/1_Ecuaciones_de_una_variable/1.2_Metodo_regula_falsi.ipynb)"
   ],
   "metadata": {
    "collapsed": false,
    "pycharm": {
     "name": "#%% md\n"
    }
   }
  },
  {
   "cell_type": "markdown",
   "source": [
    "## Algoritmo"
   ],
   "metadata": {
    "collapsed": false,
    "pycharm": {
     "name": "#%% md\n"
    }
   }
  },
  {
   "cell_type": "code",
   "execution_count": 2,
   "outputs": [],
   "source": [
    "import numpy as np"
   ],
   "metadata": {
    "collapsed": false,
    "pycharm": {
     "name": "#%%\n"
    }
   }
  },
  {
   "cell_type": "code",
   "execution_count": 3,
   "outputs": [],
   "source": [
    "def met_regula_falsi(f, a, b, tol=1e-4, n=50):\n",
    "    \"\"\"\n",
    "    Método de regula falsi\n",
    "    :param f: Funcion a la que se le intenta encontrar una solucion\n",
    "    para la ecuacion f(x)=0, previamente definida\n",
    "    :param a: límite inferior\n",
    "    :param b: límite superior\n",
    "    :param tol: toleracia, criterio de parada\n",
    "    :param n: número máximo de iteraciones, criterio de parada\n",
    "    :return: solución exacta o aproximada, si tiene.\n",
    "    \"\"\"\n",
    "    if not f(a)*f(b)<0:\n",
    "        print('El intervalo no funciona: f({})={:.2f}, f({})={:.2f}'.format(a, f(a), b, f(b)))\n",
    "        return None\n",
    "    i = 1\n",
    "    while i<=n:\n",
    "        p_0 = a # puede ser a o b\n",
    "        p_i = a - (f(a)*(b - a))/(f(b) - f(a))  # punto medio\n",
    "        print('ite {:<2}: a_{:<2} = {:.4f}, b_{:<2} = {:.4f}, p_{:<2} = {:.5f}'.format(i, i-1, a, i-1, b, i, p_i))\n",
    "        if f(p_i) == 0:\n",
    "            print('solución exacta encontrada')\n",
    "            return p_i\n",
    "        if f(a)*f(p_i) < 0:\n",
    "            b = p_i\n",
    "        else:\n",
    "            a = p_i\n",
    "        e_abs = abs(p_0 - p_i)\n",
    "        p_0 = p_i\n",
    "        if e_abs < tol:\n",
    "            print('solución encontrada')\n",
    "            return p_i\n",
    "        i += 1\n",
    "\n",
    "    print('solución no encontrada, iteraciones agotadas')\n",
    "    return None"
   ],
   "metadata": {
    "collapsed": false,
    "pycharm": {
     "name": "#%%\n"
    }
   }
  },
  {
   "cell_type": "code",
   "execution_count": 10,
   "outputs": [
    {
     "name": "stdout",
     "output_type": "stream",
     "text": [
      "ite 1 : a_0  = 0.0000, b_0  = 0.5000, p_1  = 0.21838\n",
      "ite 2 : a_1  = 0.0000, b_1  = 0.2184, p_2  = 0.20582\n",
      "ite 3 : a_2  = 0.0000, b_2  = 0.2058, p_3  = 0.20540\n",
      "ite 4 : a_3  = 0.0000, b_3  = 0.2054, p_4  = 0.20539\n",
      "ite 5 : a_4  = 0.0000, b_4  = 0.2054, p_5  = 0.20539\n",
      "ite 6 : a_5  = 0.0000, b_5  = 0.2054, p_6  = 0.20539\n",
      "ite 7 : a_6  = 0.0000, b_6  = 0.2054, p_7  = 0.20539\n",
      "ite 8 : a_7  = 0.0000, b_7  = 0.2054, p_8  = 0.20539\n",
      "ite 9 : a_8  = 0.0000, b_8  = 0.2054, p_9  = 0.20539\n",
      "ite 10: a_9  = 0.0000, b_9  = 0.2054, p_10 = 0.20539\n",
      "ite 11: a_10 = 0.0000, b_10 = 0.2054, p_11 = 0.20539\n",
      "ite 12: a_11 = 0.2054, b_11 = 0.2054, p_12 = 0.20539\n",
      "solución encontrada\n"
     ]
    },
    {
     "data": {
      "text/plain": "0.20538723048488386"
     },
     "execution_count": 10,
     "metadata": {},
     "output_type": "execute_result"
    }
   ],
   "source": [
    "f = lambda x: np.e**x - 3*np.sin(x) - 3*x\n",
    "met_regula_falsi(f, 0, 0.5, tol=1e-4)"
   ],
   "metadata": {
    "collapsed": false,
    "pycharm": {
     "name": "#%%\n"
    }
   }
  },
  {
   "cell_type": "code",
   "execution_count": 9,
   "outputs": [
    {
     "name": "stdout",
     "output_type": "stream",
     "text": [
      "ite 1 : a_0  = 2.0000, b_0  = 2.5000, p_1  = 2.15841\n",
      "ite 2 : a_1  = 2.1584, b_1  = 2.5000, p_2  = 2.19198\n",
      "ite 3 : a_2  = 2.1920, b_2  = 2.5000, p_3  = 2.19852\n",
      "ite 4 : a_3  = 2.1985, b_3  = 2.5000, p_4  = 2.19977\n",
      "ite 5 : a_4  = 2.1998, b_4  = 2.5000, p_5  = 2.20000\n",
      "ite 6 : a_5  = 2.2000, b_5  = 2.5000, p_6  = 2.20005\n",
      "solución encontrada\n"
     ]
    },
    {
     "data": {
      "text/plain": "2.2000503582563096"
     },
     "execution_count": 9,
     "metadata": {},
     "output_type": "execute_result"
    }
   ],
   "source": [
    "f = lambda x: np.e**x - 3*np.sin(x) - 3*x\n",
    "met_regula_falsi(f, 2, 2.5, tol=1e-4)"
   ],
   "metadata": {
    "collapsed": false,
    "pycharm": {
     "name": "#%%\n"
    }
   }
  },
  {
   "cell_type": "code",
   "execution_count": 7,
   "outputs": [
    {
     "name": "stdout",
     "output_type": "stream",
     "text": [
      "ite 1 : a_0  = 0.0000, b_0  = 1.2000, p_1  = 0.19381\n",
      "ite 2 : a_1  = 0.1938, b_1  = 1.2000, p_2  = 0.35631\n",
      "ite 3 : a_2  = 0.3563, b_2  = 1.2000, p_3  = 0.49257\n",
      "ite 4 : a_3  = 0.4926, b_3  = 1.2000, p_4  = 0.60674\n",
      "ite 5 : a_4  = 0.6067, b_4  = 1.2000, p_5  = 0.70201\n",
      "ite 6 : a_5  = 0.7020, b_5  = 1.2000, p_6  = 0.78047\n",
      "ite 7 : a_6  = 0.7805, b_6  = 1.2000, p_7  = 0.84340\n",
      "ite 8 : a_7  = 0.8434, b_7  = 1.2000, p_8  = 0.89193\n",
      "ite 9 : a_8  = 0.8919, b_8  = 1.2000, p_9  = 0.92767\n",
      "ite 10: a_9  = 0.9277, b_9  = 1.2000, p_10 = 0.95281\n",
      "ite 11: a_10 = 0.9528, b_10 = 1.2000, p_11 = 0.96981\n",
      "ite 12: a_11 = 0.9698, b_11 = 1.2000, p_12 = 0.98095\n",
      "ite 13: a_12 = 0.9809, b_12 = 1.2000, p_13 = 0.98809\n",
      "ite 14: a_13 = 0.9881, b_13 = 1.2000, p_14 = 0.99260\n",
      "ite 15: a_14 = 0.9926, b_14 = 1.2000, p_15 = 0.99542\n",
      "ite 16: a_15 = 0.9954, b_15 = 1.2000, p_16 = 0.99717\n",
      "ite 17: a_16 = 0.9972, b_16 = 1.2000, p_17 = 0.99826\n",
      "ite 18: a_17 = 0.9983, b_17 = 1.2000, p_18 = 0.99893\n",
      "ite 19: a_18 = 0.9989, b_18 = 1.2000, p_19 = 0.99934\n",
      "ite 20: a_19 = 0.9993, b_19 = 1.2000, p_20 = 0.99959\n",
      "ite 21: a_20 = 0.9996, b_20 = 1.2000, p_21 = 0.99975\n",
      "ite 22: a_21 = 0.9998, b_21 = 1.2000, p_22 = 0.99985\n",
      "ite 23: a_22 = 0.9998, b_22 = 1.2000, p_23 = 0.99991\n",
      "ite 24: a_23 = 0.9999, b_23 = 1.2000, p_24 = 0.99994\n",
      "ite 25: a_24 = 0.9999, b_24 = 1.2000, p_25 = 0.99996\n",
      "ite 26: a_25 = 1.0000, b_25 = 1.2000, p_26 = 0.99998\n",
      "ite 27: a_26 = 1.0000, b_26 = 1.2000, p_27 = 0.99999\n",
      "ite 28: a_27 = 1.0000, b_27 = 1.2000, p_28 = 0.99999\n",
      "ite 29: a_28 = 1.0000, b_28 = 1.2000, p_29 = 0.99999\n",
      "ite 30: a_29 = 1.0000, b_29 = 1.2000, p_30 = 1.00000\n",
      "ite 31: a_30 = 1.0000, b_30 = 1.2000, p_31 = 1.00000\n",
      "ite 32: a_31 = 1.0000, b_31 = 1.2000, p_32 = 1.00000\n",
      "ite 33: a_32 = 1.0000, b_32 = 1.2000, p_33 = 1.00000\n",
      "ite 34: a_33 = 1.0000, b_33 = 1.2000, p_34 = 1.00000\n",
      "ite 35: a_34 = 1.0000, b_34 = 1.2000, p_35 = 1.00000\n",
      "ite 36: a_35 = 1.0000, b_35 = 1.2000, p_36 = 1.00000\n",
      "ite 37: a_36 = 1.0000, b_36 = 1.2000, p_37 = 1.00000\n",
      "ite 38: a_37 = 1.0000, b_37 = 1.2000, p_38 = 1.00000\n",
      "ite 39: a_38 = 1.0000, b_38 = 1.2000, p_39 = 1.00000\n",
      "ite 40: a_39 = 1.0000, b_39 = 1.2000, p_40 = 1.00000\n",
      "ite 41: a_40 = 1.0000, b_40 = 1.2000, p_41 = 1.00000\n",
      "ite 42: a_41 = 1.0000, b_41 = 1.2000, p_42 = 1.00000\n",
      "ite 43: a_42 = 1.0000, b_42 = 1.2000, p_43 = 1.00000\n",
      "ite 44: a_43 = 1.0000, b_43 = 1.2000, p_44 = 1.00000\n",
      "ite 45: a_44 = 1.0000, b_44 = 1.2000, p_45 = 1.00000\n",
      "ite 46: a_45 = 1.0000, b_45 = 1.2000, p_46 = 1.00000\n",
      "ite 47: a_46 = 1.0000, b_46 = 1.2000, p_47 = 1.00000\n",
      "ite 48: a_47 = 1.0000, b_47 = 1.2000, p_48 = 1.00000\n",
      "ite 49: a_48 = 1.0000, b_48 = 1.2000, p_49 = 1.00000\n",
      "ite 50: a_49 = 1.0000, b_49 = 1.2000, p_50 = 1.00000\n",
      "ite 51: a_50 = 1.0000, b_50 = 1.2000, p_51 = 1.00000\n",
      "ite 52: a_51 = 1.0000, b_51 = 1.2000, p_52 = 1.00000\n",
      "ite 53: a_52 = 1.0000, b_52 = 1.2000, p_53 = 1.00000\n",
      "ite 54: a_53 = 1.0000, b_53 = 1.2000, p_54 = 1.00000\n",
      "ite 55: a_54 = 1.0000, b_54 = 1.2000, p_55 = 1.00000\n",
      "ite 56: a_55 = 1.0000, b_55 = 1.2000, p_56 = 1.00000\n",
      "ite 57: a_56 = 1.0000, b_56 = 1.2000, p_57 = 1.00000\n",
      "ite 58: a_57 = 1.0000, b_57 = 1.2000, p_58 = 1.00000\n",
      "ite 59: a_58 = 1.0000, b_58 = 1.2000, p_59 = 1.00000\n",
      "ite 60: a_59 = 1.0000, b_59 = 1.2000, p_60 = 1.00000\n",
      "ite 61: a_60 = 1.0000, b_60 = 1.2000, p_61 = 1.00000\n",
      "ite 62: a_61 = 1.0000, b_61 = 1.2000, p_62 = 1.00000\n",
      "ite 63: a_62 = 1.0000, b_62 = 1.2000, p_63 = 1.00000\n",
      "ite 64: a_63 = 1.0000, b_63 = 1.2000, p_64 = 1.00000\n",
      "ite 65: a_64 = 1.0000, b_64 = 1.2000, p_65 = 1.00000\n",
      "ite 66: a_65 = 1.0000, b_65 = 1.2000, p_66 = 1.00000\n",
      "ite 67: a_66 = 1.0000, b_66 = 1.2000, p_67 = 1.00000\n",
      "ite 68: a_67 = 1.0000, b_67 = 1.2000, p_68 = 1.00000\n",
      "ite 69: a_68 = 1.0000, b_68 = 1.2000, p_69 = 1.00000\n",
      "ite 70: a_69 = 1.0000, b_69 = 1.2000, p_70 = 1.00000\n",
      "ite 71: a_70 = 1.0000, b_70 = 1.2000, p_71 = 1.00000\n",
      "ite 72: a_71 = 1.0000, b_71 = 1.2000, p_72 = 1.00000\n",
      "ite 73: a_72 = 1.0000, b_72 = 1.2000, p_73 = 1.00000\n",
      "ite 74: a_73 = 1.0000, b_73 = 1.2000, p_74 = 1.00000\n",
      "solución encontrada\n"
     ]
    },
    {
     "data": {
      "text/plain": "0.9999999999999984"
     },
     "execution_count": 7,
     "metadata": {},
     "output_type": "execute_result"
    }
   ],
   "source": [
    "f = lambda x: x**10 - 1\n",
    "met_regula_falsi(f, 0, 1.2, tol=1e-15, n=500)"
   ],
   "metadata": {
    "collapsed": false,
    "pycharm": {
     "name": "#%%\n"
    }
   }
  },
  {
   "cell_type": "code",
   "execution_count": 8,
   "outputs": [
    {
     "name": "stdout",
     "output_type": "stream",
     "text": [
      "ite 1 : a_0  = -1.0000, b_0  = 1.0000, p_1  = -0.31669\n",
      "ite 2 : a_1  = -1.0000, b_1  = -0.3167, p_2  = -0.31706\n",
      "ite 3 : a_2  = -1.0000, b_2  = -0.3171, p_3  = -0.31706\n",
      "ite 4 : a_3  = -1.0000, b_3  = -0.3171, p_4  = -0.31706\n",
      "ite 5 : a_4  = -1.0000, b_4  = -0.3171, p_5  = -0.31706\n",
      "ite 6 : a_5  = -1.0000, b_5  = -0.3171, p_6  = -0.31706\n",
      "ite 7 : a_6  = -0.3171, b_6  = -0.3171, p_7  = -0.31706\n",
      "solución encontrada\n"
     ]
    },
    {
     "data": {
      "text/plain": "-0.3170617745310881"
     },
     "execution_count": 8,
     "metadata": {},
     "output_type": "execute_result"
    }
   ],
   "source": [
    "g = 32.17\n",
    "x = 1.7\n",
    "t = 1\n",
    "f = lambda w: -g/(2*w**2) * ((np.exp(w*t) - np.exp(-w*t))/(2)-np.sin(w*t)) - x\n",
    "met_regula_falsi(f, -1, 1, tol=1e-5)"
   ],
   "metadata": {
    "collapsed": false,
    "pycharm": {
     "name": "#%%\n"
    }
   }
  }
 ],
 "metadata": {
  "kernelspec": {
   "display_name": "Python 3",
   "language": "python",
   "name": "python3"
  },
  "language_info": {
   "codemirror_mode": {
    "name": "ipython",
    "version": 2
   },
   "file_extension": ".py",
   "mimetype": "text/x-python",
   "name": "python",
   "nbconvert_exporter": "python",
   "pygments_lexer": "ipython2",
   "version": "2.7.6"
  }
 },
 "nbformat": 4,
 "nbformat_minor": 0
}