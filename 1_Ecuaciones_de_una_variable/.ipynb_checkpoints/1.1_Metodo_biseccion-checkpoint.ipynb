{
 "cells": [
  {
   "cell_type": "markdown",
   "metadata": {
    "pycharm": {
     "name": "#%% md\n"
    }
   },
   "source": [
    "# 1.1 Método de *bisección*"
   ]
  },
  {
   "cell_type": "markdown",
   "metadata": {
    "pycharm": {
     "name": "#%% md\n"
    }
   },
   "source": [
    "[![Open In Colab](https://colab.research.google.com/assets/colab-badge.svg)](https://colab.research.google.com/github/caramirezs/MetNum_202210/blob/main/1_Ecuaciones_de_una_variable/1.1_Metodo_biseccion.ipynb)"
   ]
  },
  {
   "cell_type": "markdown",
   "metadata": {
    "pycharm": {
     "name": "#%% md\n"
    }
   },
   "source": [
    "## Algoritmo"
   ]
  },
  {
   "cell_type": "code",
   "execution_count": 3,
   "metadata": {
    "pycharm": {
     "is_executing": true,
     "name": "#%%\n"
    }
   },
   "outputs": [],
   "source": [
    "import numpy as np"
   ]
  },
  {
   "cell_type": "code",
   "execution_count": 14,
   "metadata": {
    "pycharm": {
     "name": "#%%\n"
    }
   },
   "outputs": [],
   "source": [
    "def met_biseccion(f, a, b, tol=1e-4, n=50):\n",
    "    \"\"\"\n",
    "    Método de bisección\n",
    "    :param f: Funcion a la que se le intenta encontrar una solucion\n",
    "    para la ecuacion f(x)=0, previamente definida\n",
    "    :param a: límite inferior\n",
    "    :param b: límite superior\n",
    "    :param tol: toleracia, criterio de parada\n",
    "    :param n: número máximo de iteraciones, criterio de parada\n",
    "    :return: solución exacta o aproximada, si tiene.\n",
    "    \"\"\"\n",
    "    if not f(a)*f(b)<0:\n",
    "        print(f'El intervalo no funciona: f({a})={f(a):.2f}, f({b})={f(b):.2f}')\n",
    "        return None\n",
    "    i = 1\n",
    "    while i<=n:\n",
    "        p_i = (b + a)/2  # punto medio\n",
    "        e_abs = abs(b - a)\n",
    "        print(f'ite {i:<2}: a_{i-1:<2} = {a:.4f}, b_{i-1:<2} = {b:.4f}, p_{i:<2} = {p_i:.5f}, err_abs={e_abs}')\n",
    "        if f(p_i) == 0:\n",
    "            print('solución exacta encontrada')\n",
    "            return p_i\n",
    "        if f(a)*f(p_i) < 0:\n",
    "            b = p_i\n",
    "        else:\n",
    "            a = p_i\n",
    "        \n",
    "        print(f'ite {i:<2}: a_{i-1:<2} = {a:.4f}, b_{i-1:<2} = {b:.4f}, p_{i:<2} = {p_i:.5f}, err_abs={e_abs}')\n",
    "        \n",
    "        if e_abs < tol:\n",
    "            print('solución encontrada')\n",
    "            return p_i\n",
    "        \n",
    "        i += 1\n",
    "\n",
    "    print('solución no encontrada, iteraciones agotadas')\n",
    "    return None"
   ]
  },
  {
   "cell_type": "code",
   "execution_count": 15,
   "metadata": {},
   "outputs": [
    {
     "name": "stdout",
     "output_type": "stream",
     "text": [
      "ite 1 : a_0  = -4.0000, b_0  = 0.0000, p_1  = -2.00000, err_abs=4\n",
      "ite 1 : a_0  = -2.0000, b_0  = 0.0000, p_1  = -2.00000, err_abs=4\n",
      "ite 2 : a_1  = -2.0000, b_1  = 0.0000, p_2  = -1.00000, err_abs=2.0\n",
      "ite 2 : a_1  = -2.0000, b_1  = -1.0000, p_2  = -1.00000, err_abs=2.0\n",
      "ite 3 : a_2  = -2.0000, b_2  = -1.0000, p_3  = -1.50000, err_abs=1.0\n",
      "ite 3 : a_2  = -2.0000, b_2  = -1.5000, p_3  = -1.50000, err_abs=1.0\n",
      "ite 4 : a_3  = -2.0000, b_3  = -1.5000, p_4  = -1.75000, err_abs=0.5\n",
      "ite 4 : a_3  = -1.7500, b_3  = -1.5000, p_4  = -1.75000, err_abs=0.5\n",
      "ite 5 : a_4  = -1.7500, b_4  = -1.5000, p_5  = -1.62500, err_abs=0.25\n",
      "ite 5 : a_4  = -1.6250, b_4  = -1.5000, p_5  = -1.62500, err_abs=0.25\n",
      "ite 6 : a_5  = -1.6250, b_5  = -1.5000, p_6  = -1.56250, err_abs=0.125\n",
      "ite 6 : a_5  = -1.6250, b_5  = -1.5625, p_6  = -1.56250, err_abs=0.125\n",
      "ite 7 : a_6  = -1.6250, b_6  = -1.5625, p_7  = -1.59375, err_abs=0.0625\n",
      "ite 7 : a_6  = -1.6250, b_6  = -1.5938, p_7  = -1.59375, err_abs=0.0625\n",
      "ite 8 : a_7  = -1.6250, b_7  = -1.5938, p_8  = -1.60938, err_abs=0.03125\n",
      "ite 8 : a_7  = -1.6250, b_7  = -1.6094, p_8  = -1.60938, err_abs=0.03125\n",
      "ite 9 : a_8  = -1.6250, b_8  = -1.6094, p_9  = -1.61719, err_abs=0.015625\n",
      "ite 9 : a_8  = -1.6250, b_8  = -1.6172, p_9  = -1.61719, err_abs=0.015625\n",
      "ite 10: a_9  = -1.6250, b_9  = -1.6172, p_10 = -1.62109, err_abs=0.0078125\n",
      "ite 10: a_9  = -1.6211, b_9  = -1.6172, p_10 = -1.62109, err_abs=0.0078125\n",
      "ite 11: a_10 = -1.6211, b_10 = -1.6172, p_11 = -1.61914, err_abs=0.00390625\n",
      "ite 11: a_10 = -1.6191, b_10 = -1.6172, p_11 = -1.61914, err_abs=0.00390625\n",
      "ite 12: a_11 = -1.6191, b_11 = -1.6172, p_12 = -1.61816, err_abs=0.001953125\n",
      "ite 12: a_11 = -1.6182, b_11 = -1.6172, p_12 = -1.61816, err_abs=0.001953125\n",
      "ite 13: a_12 = -1.6182, b_12 = -1.6172, p_13 = -1.61768, err_abs=0.0009765625\n",
      "ite 13: a_12 = -1.6182, b_12 = -1.6177, p_13 = -1.61768, err_abs=0.0009765625\n",
      "ite 14: a_13 = -1.6182, b_13 = -1.6177, p_14 = -1.61792, err_abs=0.00048828125\n",
      "ite 14: a_13 = -1.6179, b_13 = -1.6177, p_14 = -1.61792, err_abs=0.00048828125\n",
      "ite 15: a_14 = -1.6179, b_14 = -1.6177, p_15 = -1.61780, err_abs=0.000244140625\n",
      "ite 15: a_14 = -1.6178, b_14 = -1.6177, p_15 = -1.61780, err_abs=0.000244140625\n",
      "ite 16: a_15 = -1.6178, b_15 = -1.6177, p_16 = -1.61774, err_abs=0.0001220703125\n",
      "ite 16: a_15 = -1.6178, b_15 = -1.6177, p_16 = -1.61774, err_abs=0.0001220703125\n",
      "ite 17: a_16 = -1.6178, b_16 = -1.6177, p_17 = -1.61777, err_abs=6.103515625e-05\n",
      "ite 17: a_16 = -1.6178, b_16 = -1.6178, p_17 = -1.61777, err_abs=6.103515625e-05\n",
      "solución encontrada\n"
     ]
    },
    {
     "data": {
      "text/plain": [
       "-1.617767333984375"
      ]
     },
     "execution_count": 15,
     "metadata": {},
     "output_type": "execute_result"
    }
   ],
   "source": [
    "f = lambda x: np.sin(x) + 2*x**2 + 2*x -1\n",
    "met_biseccion(f, -4, 0, tol=1e-4)"
   ]
  },
  {
   "cell_type": "code",
   "execution_count": null,
   "metadata": {},
   "outputs": [],
   "source": []
  }
 ],
 "metadata": {
  "kernelspec": {
   "display_name": "Python 3",
   "language": "python",
   "name": "python3"
  },
  "language_info": {
   "codemirror_mode": {
    "name": "ipython",
    "version": 3
   },
   "file_extension": ".py",
   "mimetype": "text/x-python",
   "name": "python",
   "nbconvert_exporter": "python",
   "pygments_lexer": "ipython3",
   "version": "3.7.4"
  }
 },
 "nbformat": 4,
 "nbformat_minor": 1
}
