{
 "cells": [
  {
   "cell_type": "markdown",
   "metadata": {
    "collapsed": true,
    "pycharm": {
     "name": "#%% md\n"
    }
   },
   "source": [
    "# 1.2 Método *regula falsi*"
   ]
  },
  {
   "cell_type": "markdown",
   "metadata": {
    "pycharm": {
     "name": "#%% md\n"
    }
   },
   "source": [
    "[![Open In Colab](https://colab.research.google.com/assets/colab-badge.svg)](https://colab.research.google.com/github/caramirezs/MetNum_202210/blob/main/1_Ecuaciones_de_una_variable/1.2_Metodo_regula_falsi.ipynb)"
   ]
  },
  {
   "cell_type": "markdown",
   "metadata": {
    "pycharm": {
     "name": "#%% md\n"
    }
   },
   "source": [
    "## Algoritmo"
   ]
  },
  {
   "cell_type": "code",
   "execution_count": 1,
   "metadata": {
    "pycharm": {
     "name": "#%%\n"
    }
   },
   "outputs": [],
   "source": [
    "import numpy as np"
   ]
  },
  {
   "cell_type": "code",
   "execution_count": 2,
   "metadata": {
    "pycharm": {
     "name": "#%%\n"
    }
   },
   "outputs": [],
   "source": [
    "def met_regula_falsi(f, a, b, tol=1e-5, n=50):\n",
    "    \"\"\"\n",
    "    Método de regula falsi\n",
    "    :param f: Funcion a la que se le intenta encontrar una solucion\n",
    "    para la ecuacion f(x)=0, previamente definida\n",
    "    :param a: límite inferior\n",
    "    :param b: límite superior\n",
    "    :param tol: toleracia, criterio de parada\n",
    "    :param n: número máximo de iteraciones, criterio de parada\n",
    "    :return: solución exacta o aproximada, si tiene.\n",
    "    \"\"\"\n",
    "    if not f(a)*f(b)<0:\n",
    "        print(f'El intervalo no funciona: f({a})={f(a):.2f}, f({b})={f(b):.2f}')\n",
    "        return None\n",
    "    i = 1\n",
    "    while i<=n:\n",
    "        p_0 = a # puede ser a o b\n",
    "        p_i = a - (f(a)*(b - a))/(f(b) - f(a))  # falsa posición\n",
    "        print(f'ite {i:<2}: a_{i-1:<2} = {a:.5f}, b_{i-1:<2} = {b:.5f}, p_{i:<2} = {p_i:.5f}')\n",
    "        if f(p_i) == 0:\n",
    "            print('solución exacta encontrada')\n",
    "            return p_i\n",
    "        if f(a)*f(p_i) < 0:\n",
    "            b = p_i\n",
    "        else:\n",
    "            a = p_i\n",
    "        e_abs = abs(p_0 - p_i)\n",
    "        p_0 = p_i\n",
    "        if e_abs < tol:\n",
    "            print('solución encontrada')\n",
    "            return p_i\n",
    "        i += 1\n",
    "\n",
    "    print('solución no encontrada, iteraciones agotadas')\n",
    "    return None"
   ]
  },
  {
   "cell_type": "code",
   "execution_count": 30,
   "metadata": {
    "pycharm": {
     "name": "#%%\n"
    }
   },
   "outputs": [
    {
     "name": "stdout",
     "output_type": "stream",
     "text": [
      "ite 1 : a_0  = 0.00000, b_0  = 0.50000, p_1  = 0.21838\n",
      "ite 2 : a_1  = 0.00000, b_1  = 0.21838, p_2  = 0.20582\n",
      "ite 3 : a_2  = 0.00000, b_2  = 0.20582, p_3  = 0.20540\n",
      "ite 4 : a_3  = 0.00000, b_3  = 0.20540, p_4  = 0.20539\n",
      "ite 5 : a_4  = 0.00000, b_4  = 0.20539, p_5  = 0.20539\n",
      "ite 6 : a_5  = 0.00000, b_5  = 0.20539, p_6  = 0.20539\n",
      "ite 7 : a_6  = 0.00000, b_6  = 0.20539, p_7  = 0.20539\n",
      "ite 8 : a_7  = 0.00000, b_7  = 0.20539, p_8  = 0.20539\n",
      "ite 9 : a_8  = 0.00000, b_8  = 0.20539, p_9  = 0.20539\n",
      "ite 10: a_9  = 0.00000, b_9  = 0.20539, p_10 = 0.20539\n",
      "ite 11: a_10 = 0.00000, b_10 = 0.20539, p_11 = 0.20539\n",
      "ite 12: a_11 = 0.20539, b_11 = 0.20539, p_12 = 0.20539\n",
      "solución encontrada\n"
     ]
    },
    {
     "data": {
      "text/plain": [
       "0.20538723048488386"
      ]
     },
     "execution_count": 30,
     "metadata": {},
     "output_type": "execute_result"
    }
   ],
   "source": [
    "f = lambda x: np.e**x - 3*np.sin(x) - 3*x\n",
    "met_regula_falsi(f, 0, 0.5, tol=1e-15)"
   ]
  },
  {
   "cell_type": "code",
   "execution_count": 31,
   "metadata": {
    "pycharm": {
     "name": "#%%\n"
    }
   },
   "outputs": [
    {
     "name": "stdout",
     "output_type": "stream",
     "text": [
      "ite 1 : a_0  = 2.00000, b_0  = 2.50000, p_1  = 2.15841\n",
      "ite 2 : a_1  = 2.15841, b_1  = 2.50000, p_2  = 2.19198\n",
      "ite 3 : a_2  = 2.19198, b_2  = 2.50000, p_3  = 2.19852\n",
      "ite 4 : a_3  = 2.19852, b_3  = 2.50000, p_4  = 2.19977\n",
      "ite 5 : a_4  = 2.19977, b_4  = 2.50000, p_5  = 2.20000\n",
      "ite 6 : a_5  = 2.20000, b_5  = 2.50000, p_6  = 2.20005\n",
      "solución encontrada\n"
     ]
    },
    {
     "data": {
      "text/plain": [
       "2.2000503582563096"
      ]
     },
     "execution_count": 31,
     "metadata": {},
     "output_type": "execute_result"
    }
   ],
   "source": [
    "f = lambda x: np.e**x - 3*np.sin(x) - 3*x\n",
    "met_regula_falsi(f, 2, 2.5, tol=1e-4)"
   ]
  },
  {
   "cell_type": "code",
   "execution_count": 34,
   "metadata": {
    "pycharm": {
     "name": "#%%\n"
    }
   },
   "outputs": [
    {
     "name": "stdout",
     "output_type": "stream",
     "text": [
      "ite 1 : a_0  = 0.00000, b_0  = 1.20000, p_1  = 0.03130\n",
      "ite 2 : a_1  = 0.03130, b_1  = 1.20000, p_2  = 0.06179\n",
      "ite 3 : a_2  = 0.06179, b_2  = 1.20000, p_3  = 0.09147\n",
      "ite 4 : a_3  = 0.09147, b_3  = 1.20000, p_4  = 0.12039\n",
      "ite 5 : a_4  = 0.12039, b_4  = 1.20000, p_5  = 0.14855\n",
      "ite 6 : a_5  = 0.14855, b_5  = 1.20000, p_6  = 0.17598\n",
      "ite 7 : a_6  = 0.17598, b_6  = 1.20000, p_7  = 0.20269\n",
      "ite 8 : a_7  = 0.20269, b_7  = 1.20000, p_8  = 0.22870\n",
      "ite 9 : a_8  = 0.22870, b_8  = 1.20000, p_9  = 0.25404\n",
      "ite 10: a_9  = 0.25404, b_9  = 1.20000, p_10 = 0.27871\n",
      "ite 11: a_10 = 0.27871, b_10 = 1.20000, p_11 = 0.30274\n",
      "ite 12: a_11 = 0.30274, b_11 = 1.20000, p_12 = 0.32615\n",
      "ite 13: a_12 = 0.32615, b_12 = 1.20000, p_13 = 0.34894\n",
      "ite 14: a_13 = 0.34894, b_13 = 1.20000, p_14 = 0.37114\n",
      "ite 15: a_14 = 0.37114, b_14 = 1.20000, p_15 = 0.39276\n",
      "ite 16: a_15 = 0.39276, b_15 = 1.20000, p_16 = 0.41381\n",
      "ite 17: a_16 = 0.41381, b_16 = 1.20000, p_17 = 0.43432\n",
      "ite 18: a_17 = 0.43432, b_17 = 1.20000, p_18 = 0.45429\n",
      "ite 19: a_18 = 0.45429, b_18 = 1.20000, p_19 = 0.47374\n",
      "ite 20: a_19 = 0.47374, b_19 = 1.20000, p_20 = 0.49269\n",
      "ite 21: a_20 = 0.49269, b_20 = 1.20000, p_21 = 0.51114\n",
      "ite 22: a_21 = 0.51114, b_21 = 1.20000, p_22 = 0.52911\n",
      "ite 23: a_22 = 0.52911, b_22 = 1.20000, p_23 = 0.54661\n",
      "ite 24: a_23 = 0.54661, b_23 = 1.20000, p_24 = 0.56365\n",
      "ite 25: a_24 = 0.56365, b_24 = 1.20000, p_25 = 0.58025\n",
      "ite 26: a_25 = 0.58025, b_25 = 1.20000, p_26 = 0.59641\n",
      "ite 27: a_26 = 0.59641, b_26 = 1.20000, p_27 = 0.61216\n",
      "ite 28: a_27 = 0.61216, b_27 = 1.20000, p_28 = 0.62749\n",
      "ite 29: a_28 = 0.62749, b_28 = 1.20000, p_29 = 0.64242\n",
      "ite 30: a_29 = 0.64242, b_29 = 1.20000, p_30 = 0.65696\n",
      "ite 31: a_30 = 0.65696, b_30 = 1.20000, p_31 = 0.67112\n",
      "ite 32: a_31 = 0.67112, b_31 = 1.20000, p_32 = 0.68491\n",
      "ite 33: a_32 = 0.68491, b_32 = 1.20000, p_33 = 0.69834\n",
      "ite 34: a_33 = 0.69834, b_33 = 1.20000, p_34 = 0.71142\n",
      "ite 35: a_34 = 0.71142, b_34 = 1.20000, p_35 = 0.72415\n",
      "ite 36: a_35 = 0.72415, b_35 = 1.20000, p_36 = 0.73654\n",
      "ite 37: a_36 = 0.73654, b_36 = 1.20000, p_37 = 0.74861\n",
      "ite 38: a_37 = 0.74861, b_37 = 1.20000, p_38 = 0.76034\n",
      "ite 39: a_38 = 0.76034, b_38 = 1.20000, p_39 = 0.77177\n",
      "ite 40: a_39 = 0.77177, b_39 = 1.20000, p_40 = 0.78288\n",
      "ite 41: a_40 = 0.78288, b_40 = 1.20000, p_41 = 0.79368\n",
      "ite 42: a_41 = 0.79368, b_41 = 1.20000, p_42 = 0.80417\n",
      "ite 43: a_42 = 0.80417, b_42 = 1.20000, p_43 = 0.81437\n",
      "ite 44: a_43 = 0.81437, b_43 = 1.20000, p_44 = 0.82427\n",
      "ite 45: a_44 = 0.82427, b_44 = 1.20000, p_45 = 0.83387\n",
      "ite 46: a_45 = 0.83387, b_45 = 1.20000, p_46 = 0.84317\n",
      "ite 47: a_46 = 0.84317, b_46 = 1.20000, p_47 = 0.85218\n",
      "ite 48: a_47 = 0.85218, b_47 = 1.20000, p_48 = 0.86089\n",
      "ite 49: a_48 = 0.86089, b_48 = 1.20000, p_49 = 0.86931\n",
      "ite 50: a_49 = 0.86931, b_49 = 1.20000, p_50 = 0.87742\n",
      "ite 51: a_50 = 0.87742, b_50 = 1.20000, p_51 = 0.88523\n",
      "ite 52: a_51 = 0.88523, b_51 = 1.20000, p_52 = 0.89274\n",
      "ite 53: a_52 = 0.89274, b_52 = 1.20000, p_53 = 0.89995\n",
      "ite 54: a_53 = 0.89995, b_53 = 1.20000, p_54 = 0.90685\n",
      "ite 55: a_54 = 0.90685, b_54 = 1.20000, p_55 = 0.91344\n",
      "ite 56: a_55 = 0.91344, b_55 = 1.20000, p_56 = 0.91972\n",
      "ite 57: a_56 = 0.91972, b_56 = 1.20000, p_57 = 0.92569\n",
      "ite 58: a_57 = 0.92569, b_57 = 1.20000, p_58 = 0.93134\n",
      "ite 59: a_58 = 0.93134, b_58 = 1.20000, p_59 = 0.93670\n",
      "ite 60: a_59 = 0.93670, b_59 = 1.20000, p_60 = 0.94174\n",
      "ite 61: a_60 = 0.94174, b_60 = 1.20000, p_61 = 0.94649\n",
      "ite 62: a_61 = 0.94649, b_61 = 1.20000, p_62 = 0.95094\n",
      "ite 63: a_62 = 0.95094, b_62 = 1.20000, p_63 = 0.95510\n",
      "ite 64: a_63 = 0.95510, b_63 = 1.20000, p_64 = 0.95898\n",
      "ite 65: a_64 = 0.95898, b_64 = 1.20000, p_65 = 0.96259\n",
      "ite 66: a_65 = 0.96259, b_65 = 1.20000, p_66 = 0.96593\n",
      "ite 67: a_66 = 0.96593, b_66 = 1.20000, p_67 = 0.96902\n",
      "ite 68: a_67 = 0.96902, b_67 = 1.20000, p_68 = 0.97188\n",
      "ite 69: a_68 = 0.97188, b_68 = 1.20000, p_69 = 0.97450\n",
      "ite 70: a_69 = 0.97450, b_69 = 1.20000, p_70 = 0.97691\n",
      "ite 71: a_70 = 0.97691, b_70 = 1.20000, p_71 = 0.97912\n",
      "ite 72: a_71 = 0.97912, b_71 = 1.20000, p_72 = 0.98114\n",
      "ite 73: a_72 = 0.98114, b_72 = 1.20000, p_73 = 0.98298\n",
      "ite 74: a_73 = 0.98298, b_73 = 1.20000, p_74 = 0.98466\n",
      "ite 75: a_74 = 0.98466, b_74 = 1.20000, p_75 = 0.98618\n",
      "ite 76: a_75 = 0.98618, b_75 = 1.20000, p_76 = 0.98756\n",
      "ite 77: a_76 = 0.98756, b_76 = 1.20000, p_77 = 0.98881\n",
      "ite 78: a_77 = 0.98881, b_77 = 1.20000, p_78 = 0.98995\n",
      "ite 79: a_78 = 0.98995, b_78 = 1.20000, p_79 = 0.99097\n",
      "ite 80: a_79 = 0.99097, b_79 = 1.20000, p_80 = 0.99190\n",
      "ite 81: a_80 = 0.99190, b_80 = 1.20000, p_81 = 0.99273\n",
      "ite 82: a_81 = 0.99273, b_81 = 1.20000, p_82 = 0.99348\n",
      "ite 83: a_82 = 0.99348, b_82 = 1.20000, p_83 = 0.99416\n",
      "ite 84: a_83 = 0.99416, b_83 = 1.20000, p_84 = 0.99477\n",
      "ite 85: a_84 = 0.99477, b_84 = 1.20000, p_85 = 0.99531\n",
      "ite 86: a_85 = 0.99531, b_85 = 1.20000, p_86 = 0.99580\n",
      "ite 87: a_86 = 0.99580, b_86 = 1.20000, p_87 = 0.99624\n",
      "ite 88: a_87 = 0.99624, b_87 = 1.20000, p_88 = 0.99664\n",
      "ite 89: a_88 = 0.99664, b_88 = 1.20000, p_89 = 0.99699\n",
      "ite 90: a_89 = 0.99699, b_89 = 1.20000, p_90 = 0.99731\n",
      "ite 91: a_90 = 0.99731, b_90 = 1.20000, p_91 = 0.99759\n",
      "ite 92: a_91 = 0.99759, b_91 = 1.20000, p_92 = 0.99785\n",
      "ite 93: a_92 = 0.99785, b_92 = 1.20000, p_93 = 0.99808\n",
      "ite 94: a_93 = 0.99808, b_93 = 1.20000, p_94 = 0.99828\n",
      "ite 95: a_94 = 0.99828, b_94 = 1.20000, p_95 = 0.99846\n",
      "ite 96: a_95 = 0.99846, b_95 = 1.20000, p_96 = 0.99863\n",
      "ite 97: a_96 = 0.99863, b_96 = 1.20000, p_97 = 0.99877\n",
      "ite 98: a_97 = 0.99877, b_97 = 1.20000, p_98 = 0.99890\n",
      "ite 99: a_98 = 0.99890, b_98 = 1.20000, p_99 = 0.99902\n",
      "ite 100: a_99 = 0.99902, b_99 = 1.20000, p_100 = 0.99912\n",
      "ite 101: a_100 = 0.99912, b_100 = 1.20000, p_101 = 0.99922\n",
      "solución encontrada\n"
     ]
    },
    {
     "data": {
      "text/plain": [
       "0.9992179242096516"
      ]
     },
     "execution_count": 34,
     "metadata": {},
     "output_type": "execute_result"
    }
   ],
   "source": [
    "f = lambda x: x**20 - 1\n",
    "met_regula_falsi(f, 0, 1.2, tol=1e-4, n=500)"
   ]
  },
  {
   "cell_type": "code",
   "execution_count": 6,
   "metadata": {},
   "outputs": [
    {
     "name": "stdout",
     "output_type": "stream",
     "text": [
      "ite 1 : a_0  = -1.50000, b_0  = -0.50000, p_1  = -1.22398\n",
      "ite 2 : a_1  = -1.22398, b_1  = -0.50000, p_2  = -1.15325\n",
      "ite 3 : a_2  = -1.22398, b_2  = -1.15325, p_3  = -1.15716\n",
      "ite 4 : a_3  = -1.15716, b_3  = -1.15325, p_4  = -1.15697\n",
      "ite 5 : a_4  = -1.15697, b_4  = -1.15325, p_5  = -1.15697\n",
      "ite 6 : a_5  = -1.15697, b_5  = -1.15325, p_6  = -1.15697\n",
      "ite 7 : a_6  = -1.15697, b_6  = -1.15325, p_7  = -1.15697\n",
      "solución encontrada\n"
     ]
    },
    {
     "data": {
      "text/plain": [
       "-1.156969254669293"
      ]
     },
     "execution_count": 6,
     "metadata": {},
     "output_type": "execute_result"
    }
   ],
   "source": [
    "f = lambda x: np.sin(3*x) - np.cos(2*x) -1\n",
    "met_regula_falsi(f, -1.5, -0.5, 1e-10, 500)"
   ]
  },
  {
   "cell_type": "code",
   "execution_count": null,
   "metadata": {},
   "outputs": [],
   "source": []
  }
 ],
 "metadata": {
  "kernelspec": {
   "display_name": "Python 3 (ipykernel)",
   "language": "python",
   "name": "python3"
  },
  "language_info": {
   "codemirror_mode": {
    "name": "ipython",
    "version": 3
   },
   "file_extension": ".py",
   "mimetype": "text/x-python",
   "name": "python",
   "nbconvert_exporter": "python",
   "pygments_lexer": "ipython3",
   "version": "3.9.12"
  }
 },
 "nbformat": 4,
 "nbformat_minor": 1
}
