{
 "cells": [
  {
   "cell_type": "markdown",
   "source": [
    "# 1.1 Método de *bisección*"
   ],
   "metadata": {
    "collapsed": false,
    "pycharm": {
     "name": "#%% md\n"
    }
   }
  },
  {
   "cell_type": "markdown",
   "source": [
    "[![Open In Colab](https://colab.research.google.com/assets/colab-badge.svg)](https://colab.research.google.com/github/caramirezs/MetNum_202210/blob/main/1_Ecuaciones_de_una_variable/1.1_Método_biseccion.ipynb)"
   ],
   "metadata": {
    "collapsed": false
   }
  },
  {
   "cell_type": "markdown",
   "source": [
    "## Algoritmo"
   ],
   "metadata": {
    "collapsed": false,
    "pycharm": {
     "name": "#%% md\n"
    }
   }
  },
  {
   "cell_type": "markdown",
   "source": [
    "`10e+4` is a notation for `10 * 10^4`, not an operation."
   ],
   "metadata": {
    "collapsed": false,
    "pycharm": {
     "name": "#%% md\n"
    }
   }
  },
  {
   "cell_type": "code",
   "execution_count": 11,
   "outputs": [],
   "source": [
    "import numpy as np"
   ],
   "metadata": {
    "collapsed": false,
    "pycharm": {
     "name": "#%%\n"
    }
   }
  },
  {
   "cell_type": "code",
   "execution_count": 10,
   "outputs": [],
   "source": [
    "def met_biseccion(f, a, b, tol=10e-4, n=50):\n",
    "    \"\"\"\n",
    "    Método de bisección\n",
    "    :param f: Funcion a la que se le intenta encontrar una solucion\n",
    "    para la ecuacion f(x)=0, previamente definida\n",
    "    :param a: límite inferior\n",
    "    :param b: límite superior\n",
    "    :param tol: toleracia, criterio de parada\n",
    "    :param n: número máximo de iteraciones, criterio de parada\n",
    "    :return: solución exacta o aproximada, si tiene.\n",
    "    \"\"\"\n",
    "    if not f(a)*f(b)<0:\n",
    "        print('El intervalo no funciona: f({})={:.2f}, f({})={:.2f}'.format(a, f(a), b, f(b)))\n",
    "        return None\n",
    "    i = 1\n",
    "    while i<=n:\n",
    "        p_i = (b + a)/2  # punto medio\n",
    "        print('ite {:<2}: a_{:<2} = {:.4f}, b_{:<2} = {:.4f}, p_{:<2} = {:.5f}'.format(i, i-1, a, i-1, b, i, p_i))\n",
    "        if f(p_i) == 0:\n",
    "            print('solución exacta encontrada')\n",
    "            return p_i\n",
    "        if f(a)*f(p_i) < 0:\n",
    "            b = p_i\n",
    "        else:\n",
    "            a = p_i\n",
    "        e_abs = abs(b - a)\n",
    "        if e_abs < tol:\n",
    "            print('solución encontrada')\n",
    "            return p_i\n",
    "        i += 1\n",
    "    print('solución no encontrada, iteraciones agotadas')\n",
    "    return None"
   ],
   "metadata": {
    "collapsed": false,
    "pycharm": {
     "name": "#%%\n"
    }
   }
  },
  {
   "cell_type": "markdown",
   "source": [
    "## Ejercicio 1.\n",
    "Encontrar la solución de la ecuación $e^x - 3 \\sin(x) -3x$ con una tolerancia de $10^5$"
   ],
   "metadata": {
    "collapsed": false,
    "pycharm": {
     "name": "#%% md\n"
    }
   }
  },
  {
   "cell_type": "code",
   "execution_count": 13,
   "outputs": [],
   "source": [
    "f = lambda x: np.e**x - 3*np.sin(x) - 3*x"
   ],
   "metadata": {
    "collapsed": false,
    "pycharm": {
     "name": "#%%\n"
    }
   }
  },
  {
   "cell_type": "code",
   "execution_count": 25,
   "outputs": [
    {
     "name": "stdout",
     "output_type": "stream",
     "text": [
      "ite 1 : a_0  = 0.0000, b_0  = 0.5000, p_1  = 0.25000\n",
      "ite 2 : a_1  = 0.0000, b_1  = 0.2500, p_2  = 0.12500\n",
      "ite 3 : a_2  = 0.1250, b_2  = 0.2500, p_3  = 0.18750\n",
      "ite 4 : a_3  = 0.1875, b_3  = 0.2500, p_4  = 0.21875\n",
      "ite 5 : a_4  = 0.1875, b_4  = 0.2188, p_5  = 0.20312\n",
      "ite 6 : a_5  = 0.2031, b_5  = 0.2188, p_6  = 0.21094\n",
      "ite 7 : a_6  = 0.2031, b_6  = 0.2109, p_7  = 0.20703\n",
      "ite 8 : a_7  = 0.2031, b_7  = 0.2070, p_8  = 0.20508\n",
      "ite 9 : a_8  = 0.2051, b_8  = 0.2070, p_9  = 0.20605\n",
      "ite 10: a_9  = 0.2051, b_9  = 0.2061, p_10 = 0.20557\n",
      "ite 11: a_10 = 0.2051, b_10 = 0.2056, p_11 = 0.20532\n",
      "ite 12: a_11 = 0.2053, b_11 = 0.2056, p_12 = 0.20544\n",
      "ite 13: a_12 = 0.2053, b_12 = 0.2054, p_13 = 0.20538\n",
      "ite 14: a_13 = 0.2054, b_13 = 0.2054, p_14 = 0.20541\n",
      "ite 15: a_14 = 0.2054, b_14 = 0.2054, p_15 = 0.20540\n",
      "ite 16: a_15 = 0.2054, b_15 = 0.2054, p_16 = 0.20539\n",
      "solución encontrada\n"
     ]
    },
    {
     "data": {
      "text/plain": "0.20539093017578125"
     },
     "execution_count": 25,
     "metadata": {},
     "output_type": "execute_result"
    }
   ],
   "source": [
    "met_biseccion(f, 0, 0.5, tol=10e-6)"
   ],
   "metadata": {
    "collapsed": false,
    "pycharm": {
     "name": "#%%\n"
    }
   }
  }
 ],
 "metadata": {
  "kernelspec": {
   "display_name": "Python 3",
   "language": "python",
   "name": "python3"
  },
  "language_info": {
   "codemirror_mode": {
    "name": "ipython",
    "version": 2
   },
   "file_extension": ".py",
   "mimetype": "text/x-python",
   "name": "python",
   "nbconvert_exporter": "python",
   "pygments_lexer": "ipython2",
   "version": "2.7.6"
  }
 },
 "nbformat": 4,
 "nbformat_minor": 0
}