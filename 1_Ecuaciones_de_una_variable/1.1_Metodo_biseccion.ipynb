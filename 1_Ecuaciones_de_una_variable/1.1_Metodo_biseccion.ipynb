{
 "cells": [
  {
   "cell_type": "markdown",
   "source": [
    "# 1.1 Método de *bisección*"
   ],
   "metadata": {
    "collapsed": false,
    "pycharm": {
     "name": "#%% md\n"
    }
   }
  },
  {
   "cell_type": "markdown",
   "source": [
    "[![Open In Colab](https://colab.research.google.com/assets/colab-badge.svg)](https://colab.research.google.com/github/caramirezs/MetNum_202210/blob/main/1_Ecuaciones_de_una_variable/1.1_Método_biseccion.ipynb)"
   ],
   "metadata": {
    "collapsed": false
   }
  },
  {
   "cell_type": "markdown",
   "source": [
    "## Algoritmo"
   ],
   "metadata": {
    "collapsed": false,
    "pycharm": {
     "name": "#%% md\n"
    }
   }
  },
  {
   "cell_type": "code",
   "execution_count": 11,
   "outputs": [],
   "source": [
    "import numpy as np"
   ],
   "metadata": {
    "collapsed": false,
    "pycharm": {
     "name": "#%%\n"
    }
   }
  },
  {
   "cell_type": "markdown",
   "source": [
    "`10e+4` is a notation for `10 * 10^4`, not an operation."
   ],
   "metadata": {
    "collapsed": false,
    "pycharm": {
     "name": "#%% md\n"
    }
   }
  },
  {
   "cell_type": "code",
   "execution_count": 10,
   "outputs": [],
   "source": [
    "def met_biseccion(f, a, b, tol=10e-4, n=50):\n",
    "    \"\"\"\n",
    "    Método de bisección\n",
    "    :param f: Funcion a la que se le intenta encontrar una solucion\n",
    "    para la ecuacion f(x)=0, previamente definida\n",
    "    :param a: límite inferior\n",
    "    :param b: límite superior\n",
    "    :param tol: toleracia, criterio de parada\n",
    "    :param n: número máximo de iteraciones, criterio de parada\n",
    "    :return: solución exacta o aproximada, si tiene.\n",
    "    \"\"\"\n",
    "    if not f(a)*f(b)<0:\n",
    "        print('El intervalo no funciona: f({})={:.2f}, f({})={:.2f}'.format(a, f(a), b, f(b)))\n",
    "        return None\n",
    "    i = 1\n",
    "    while i<=n:\n",
    "        p_i = (b + a)/2  # punto medio\n",
    "        print('ite {:<2}: a_{:<2} = {:.4f}, b_{:<2} = {:.4f}, p_{:<2} = {:.5f}'.format(i, i-1, a, i-1, b, i, p_i))\n",
    "        if f(p_i) == 0:\n",
    "            print('solución exacta encontrada')\n",
    "            return p_i\n",
    "        if f(a)*f(p_i) < 0:\n",
    "            b = p_i\n",
    "        else:\n",
    "            a = p_i\n",
    "        e_abs = abs(b - a)\n",
    "        if e_abs < tol:\n",
    "            print('solución encontrada')\n",
    "            return p_i\n",
    "        i += 1\n",
    "    print('solución no encontrada, iteraciones agotadas')\n",
    "    return None"
   ],
   "metadata": {
    "collapsed": false,
    "pycharm": {
     "name": "#%%\n"
    }
   }
  },
  {
   "cell_type": "code",
   "execution_count": 13,
   "outputs": [],
   "source": [
    "f = lambda x: np.e**x - 3*np.sin(x) - 3*x"
   ],
   "metadata": {
    "collapsed": false,
    "pycharm": {
     "name": "#%%\n"
    }
   }
  },
  {
   "cell_type": "code",
   "execution_count": 24,
   "outputs": [
    {
     "name": "stdout",
     "output_type": "stream",
     "text": [
      "ite 1 : a_0  = 0.0000, b_0  = 0.5000, p_1  = 0.25000\n",
      "ite 2 : a_1  = 0.0000, b_1  = 0.2500, p_2  = 0.12500\n",
      "ite 3 : a_2  = 0.1250, b_2  = 0.2500, p_3  = 0.18750\n",
      "ite 4 : a_3  = 0.1875, b_3  = 0.2500, p_4  = 0.21875\n",
      "ite 5 : a_4  = 0.1875, b_4  = 0.2188, p_5  = 0.20312\n",
      "ite 6 : a_5  = 0.2031, b_5  = 0.2188, p_6  = 0.21094\n",
      "ite 7 : a_6  = 0.2031, b_6  = 0.2109, p_7  = 0.20703\n",
      "ite 8 : a_7  = 0.2031, b_7  = 0.2070, p_8  = 0.20508\n",
      "ite 9 : a_8  = 0.2051, b_8  = 0.2070, p_9  = 0.20605\n",
      "ite 10: a_9  = 0.2051, b_9  = 0.2061, p_10 = 0.20557\n",
      "ite 11: a_10 = 0.2051, b_10 = 0.2056, p_11 = 0.20532\n",
      "ite 12: a_11 = 0.2053, b_11 = 0.2056, p_12 = 0.20544\n",
      "ite 13: a_12 = 0.2053, b_12 = 0.2054, p_13 = 0.20538\n",
      "ite 14: a_13 = 0.2054, b_13 = 0.2054, p_14 = 0.20541\n",
      "ite 15: a_14 = 0.2054, b_14 = 0.2054, p_15 = 0.20540\n",
      "ite 16: a_15 = 0.2054, b_15 = 0.2054, p_16 = 0.20539\n",
      "ite 17: a_16 = 0.2054, b_16 = 0.2054, p_17 = 0.20539\n",
      "ite 18: a_17 = 0.2054, b_17 = 0.2054, p_18 = 0.20539\n",
      "ite 19: a_18 = 0.2054, b_18 = 0.2054, p_19 = 0.20539\n",
      "ite 20: a_19 = 0.2054, b_19 = 0.2054, p_20 = 0.20539\n",
      "ite 21: a_20 = 0.2054, b_20 = 0.2054, p_21 = 0.20539\n",
      "ite 22: a_21 = 0.2054, b_21 = 0.2054, p_22 = 0.20539\n",
      "ite 23: a_22 = 0.2054, b_22 = 0.2054, p_23 = 0.20539\n",
      "ite 24: a_23 = 0.2054, b_23 = 0.2054, p_24 = 0.20539\n",
      "ite 25: a_24 = 0.2054, b_24 = 0.2054, p_25 = 0.20539\n",
      "ite 26: a_25 = 0.2054, b_25 = 0.2054, p_26 = 0.20539\n",
      "ite 27: a_26 = 0.2054, b_26 = 0.2054, p_27 = 0.20539\n",
      "ite 28: a_27 = 0.2054, b_27 = 0.2054, p_28 = 0.20539\n",
      "ite 29: a_28 = 0.2054, b_28 = 0.2054, p_29 = 0.20539\n",
      "ite 30: a_29 = 0.2054, b_29 = 0.2054, p_30 = 0.20539\n",
      "ite 31: a_30 = 0.2054, b_30 = 0.2054, p_31 = 0.20539\n",
      "ite 32: a_31 = 0.2054, b_31 = 0.2054, p_32 = 0.20539\n",
      "ite 33: a_32 = 0.2054, b_32 = 0.2054, p_33 = 0.20539\n",
      "ite 34: a_33 = 0.2054, b_33 = 0.2054, p_34 = 0.20539\n",
      "ite 35: a_34 = 0.2054, b_34 = 0.2054, p_35 = 0.20539\n",
      "ite 36: a_35 = 0.2054, b_35 = 0.2054, p_36 = 0.20539\n",
      "ite 37: a_36 = 0.2054, b_36 = 0.2054, p_37 = 0.20539\n",
      "ite 38: a_37 = 0.2054, b_37 = 0.2054, p_38 = 0.20539\n",
      "ite 39: a_38 = 0.2054, b_38 = 0.2054, p_39 = 0.20539\n",
      "ite 40: a_39 = 0.2054, b_39 = 0.2054, p_40 = 0.20539\n",
      "ite 41: a_40 = 0.2054, b_40 = 0.2054, p_41 = 0.20539\n",
      "ite 42: a_41 = 0.2054, b_41 = 0.2054, p_42 = 0.20539\n",
      "ite 43: a_42 = 0.2054, b_42 = 0.2054, p_43 = 0.20539\n",
      "ite 44: a_43 = 0.2054, b_43 = 0.2054, p_44 = 0.20539\n",
      "ite 45: a_44 = 0.2054, b_44 = 0.2054, p_45 = 0.20539\n",
      "ite 46: a_45 = 0.2054, b_45 = 0.2054, p_46 = 0.20539\n",
      "ite 47: a_46 = 0.2054, b_46 = 0.2054, p_47 = 0.20539\n",
      "ite 48: a_47 = 0.2054, b_47 = 0.2054, p_48 = 0.20539\n",
      "ite 49: a_48 = 0.2054, b_48 = 0.2054, p_49 = 0.20539\n",
      "ite 50: a_49 = 0.2054, b_49 = 0.2054, p_50 = 0.20539\n",
      "solución no encontrada, iteraciones agotadas\n"
     ]
    }
   ],
   "source": [
    "met_biseccion(f, 0, 0.5, tol=10e-105)"
   ],
   "metadata": {
    "collapsed": false,
    "pycharm": {
     "name": "#%%\n"
    }
   }
  }
 ],
 "metadata": {
  "kernelspec": {
   "display_name": "Python 3",
   "language": "python",
   "name": "python3"
  },
  "language_info": {
   "codemirror_mode": {
    "name": "ipython",
    "version": 2
   },
   "file_extension": ".py",
   "mimetype": "text/x-python",
   "name": "python",
   "nbconvert_exporter": "python",
   "pygments_lexer": "ipython2",
   "version": "2.7.6"
  }
 },
 "nbformat": 4,
 "nbformat_minor": 0
}