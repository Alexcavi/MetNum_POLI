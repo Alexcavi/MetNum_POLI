{
 "cells": [
  {
   "cell_type": "markdown",
   "source": [
    "# 1.1 Método de *bisección*"
   ],
   "metadata": {
    "collapsed": false,
    "pycharm": {
     "name": "#%% md\n"
    }
   }
  },
  {
   "cell_type": "markdown",
   "source": [
    "[![Open In Colab](https://colab.research.google.com/assets/colab-badge.svg)](https://colab.research.google.com/github/caramirezs/MetNum_202210/blob/main/1_Ecuaciones_de_una_variable/1.1_Metodo_biseccion.ipynb)"
   ],
   "metadata": {
    "collapsed": false,
    "pycharm": {
     "name": "#%% md\n"
    }
   }
  },
  {
   "cell_type": "markdown",
   "source": [
    "## Algoritmo"
   ],
   "metadata": {
    "collapsed": false,
    "pycharm": {
     "name": "#%% md\n"
    }
   }
  },
  {
   "cell_type": "code",
   "execution_count": 17,
   "outputs": [],
   "source": [
    "import numpy as np"
   ],
   "metadata": {
    "collapsed": false,
    "pycharm": {
     "name": "#%%\n"
    }
   }
  },
  {
   "cell_type": "code",
   "execution_count": null,
   "outputs": [],
   "source": [
    "def met_biseccion(f, a, b, tol=1e-4, n=50):\n",
    "    \"\"\"\n",
    "    Método de bisección\n",
    "    :param f: Funcion a la que se le intenta encontrar una solucion\n",
    "    para la ecuacion f(x)=0, previamente definida\n",
    "    :param a: límite inferior\n",
    "    :param b: límite superior\n",
    "    :param tol: toleracia, criterio de parada\n",
    "    :param n: número máximo de iteraciones, criterio de parada\n",
    "    :return: solución exacta o aproximada, si tiene.\n",
    "    \"\"\"\n",
    "    if not f(a)*f(b)<0:\n",
    "        print('El intervalo no funciona: f({})={:.2f}, f({})={:.2f}'.format(a, f(a), b, f(b)))\n",
    "        return None\n",
    "    i = 1\n",
    "    while i<=n:\n",
    "        p_i = (b + a)/2  # punto medio\n",
    "        print('ite {:<2}: a_{:<2} = {:.4f}, b_{:<2} = {:.4f}, p_{:<2} = {:.5f}'.format(i, i-1, a, i-1, b, i, p_i))\n",
    "        if f(p_i) == 0:\n",
    "            print('solución exacta encontrada')\n",
    "            return p_i\n",
    "        if f(a)*f(p_i) < 0:\n",
    "            b = p_i\n",
    "        else:\n",
    "            a = p_i\n",
    "        e_abs = abs(b - a)\n",
    "        if e_abs < tol:\n",
    "            print('solución encontrada')\n",
    "            return p_i\n",
    "        i += 1\n",
    "\n",
    "    print('solución no encontrada, iteraciones agotadas')\n",
    "    return None"
   ],
   "metadata": {
    "collapsed": false,
    "pycharm": {
     "name": "#%%\n"
    }
   }
  }
 ],
 "metadata": {
  "kernelspec": {
   "display_name": "Python 3",
   "language": "python",
   "name": "python3"
  },
  "language_info": {
   "codemirror_mode": {
    "name": "ipython",
    "version": 2
   },
   "file_extension": ".py",
   "mimetype": "text/x-python",
   "name": "python",
   "nbconvert_exporter": "python",
   "pygments_lexer": "ipython2",
   "version": "2.7.6"
  }
 },
 "nbformat": 4,
 "nbformat_minor": 0
}