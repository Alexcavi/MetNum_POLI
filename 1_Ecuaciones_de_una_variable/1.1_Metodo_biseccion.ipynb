{
 "cells": [
  {
   "cell_type": "markdown",
   "metadata": {
    "pycharm": {
     "name": "#%% md\n"
    }
   },
   "source": [
    "# 1.1 Método de *bisección*"
   ]
  },
  {
   "cell_type": "markdown",
   "metadata": {
    "pycharm": {
     "name": "#%% md\n"
    }
   },
   "source": [
    "[![Open In Colab](https://colab.research.google.com/assets/colab-badge.svg)](https://colab.research.google.com/github/caramirezs/MetNum_202210/blob/main/1_Ecuaciones_de_una_variable/1.1_Metodo_biseccion.ipynb)"
   ]
  },
  {
   "cell_type": "markdown",
   "metadata": {
    "pycharm": {
     "name": "#%% md\n"
    }
   },
   "source": [
    "## Algoritmo"
   ]
  },
  {
   "cell_type": "code",
   "execution_count": 2,
   "metadata": {
    "pycharm": {
     "name": "#%%\n"
    }
   },
   "outputs": [],
   "source": [
    "import numpy as np"
   ]
  },
  {
   "cell_type": "code",
   "execution_count": 3,
   "metadata": {
    "pycharm": {
     "name": "#%%\n"
    }
   },
   "outputs": [],
   "source": [
    "def met_biseccion(f, a, b, tol=1e-4, n=50):\n",
    "    \"\"\"\n",
    "    Método de bisección\n",
    "    :param f: Funcion a la que se le intenta encontrar una solucion\n",
    "    para la ecuacion f(x)=0, previamente definida\n",
    "    :param a: límite inferior\n",
    "    :param b: límite superior\n",
    "    :param tol: toleracia, criterio de parada\n",
    "    :param n: número máximo de iteraciones, criterio de parada\n",
    "    :return: solución exacta o aproximada, si tiene.\n",
    "    \"\"\"\n",
    "    if not f(a)*f(b)<0:\n",
    "        print('El intervalo no funciona: f({})={:.2f}, f({})={:.2f}'.format(a, f(a), b, f(b)))\n",
    "        return None\n",
    "    i = 1\n",
    "    while i<=n:\n",
    "        p_i = (b + a)/2  # punto medio\n",
    "        print('ite {:<2}: a_{:<2} = {:.4f}, b_{:<2} = {:.4f}, p_{:<2} = {:.5f}'.format(i, i-1, a, i-1, b, i, p_i))\n",
    "        if f(p_i) == 0:\n",
    "            print('solución exacta encontrada')\n",
    "            return p_i\n",
    "        if f(a)*f(p_i) < 0:\n",
    "            b = p_i\n",
    "        else:\n",
    "            a = p_i\n",
    "        e_abs = abs(b - a)\n",
    "        if e_abs < tol:\n",
    "            print('solución encontrada')\n",
    "            return p_i\n",
    "        i += 1\n",
    "\n",
    "    print('solución no encontrada, iteraciones agotadas')\n",
    "    return None"
   ]
  },
  {
   "cell_type": "code",
   "execution_count": 10,
   "metadata": {
    "pycharm": {
     "name": "#%%\n"
    }
   },
   "outputs": [
    {
     "name": "stdout",
     "output_type": "stream",
     "text": [
      "ite 1 : a_0  = -1.5000, b_0  = -0.5000, p_1  = -1.00000\n",
      "ite 2 : a_1  = -1.5000, b_1  = -1.0000, p_2  = -1.25000\n",
      "ite 3 : a_2  = -1.2500, b_2  = -1.0000, p_3  = -1.12500\n",
      "ite 4 : a_3  = -1.2500, b_3  = -1.1250, p_4  = -1.18750\n",
      "ite 5 : a_4  = -1.1875, b_4  = -1.1250, p_5  = -1.15625\n",
      "ite 6 : a_5  = -1.1875, b_5  = -1.1562, p_6  = -1.17188\n",
      "ite 7 : a_6  = -1.1719, b_6  = -1.1562, p_7  = -1.16406\n",
      "ite 8 : a_7  = -1.1641, b_7  = -1.1562, p_8  = -1.16016\n",
      "ite 9 : a_8  = -1.1602, b_8  = -1.1562, p_9  = -1.15820\n",
      "ite 10: a_9  = -1.1582, b_9  = -1.1562, p_10 = -1.15723\n",
      "ite 11: a_10 = -1.1572, b_10 = -1.1562, p_11 = -1.15674\n",
      "ite 12: a_11 = -1.1572, b_11 = -1.1567, p_12 = -1.15698\n",
      "ite 13: a_12 = -1.1570, b_12 = -1.1567, p_13 = -1.15686\n",
      "ite 14: a_13 = -1.1570, b_13 = -1.1569, p_14 = -1.15692\n",
      "ite 15: a_14 = -1.1570, b_14 = -1.1569, p_15 = -1.15695\n",
      "ite 16: a_15 = -1.1570, b_15 = -1.1570, p_16 = -1.15697\n",
      "ite 17: a_16 = -1.1570, b_16 = -1.1570, p_17 = -1.15697\n",
      "ite 18: a_17 = -1.1570, b_17 = -1.1570, p_18 = -1.15697\n",
      "ite 19: a_18 = -1.1570, b_18 = -1.1570, p_19 = -1.15697\n",
      "ite 20: a_19 = -1.1570, b_19 = -1.1570, p_20 = -1.15697\n",
      "ite 21: a_20 = -1.1570, b_20 = -1.1570, p_21 = -1.15697\n",
      "ite 22: a_21 = -1.1570, b_21 = -1.1570, p_22 = -1.15697\n",
      "ite 23: a_22 = -1.1570, b_22 = -1.1570, p_23 = -1.15697\n",
      "ite 24: a_23 = -1.1570, b_23 = -1.1570, p_24 = -1.15697\n",
      "ite 25: a_24 = -1.1570, b_24 = -1.1570, p_25 = -1.15697\n",
      "ite 26: a_25 = -1.1570, b_25 = -1.1570, p_26 = -1.15697\n",
      "ite 27: a_26 = -1.1570, b_26 = -1.1570, p_27 = -1.15697\n",
      "ite 28: a_27 = -1.1570, b_27 = -1.1570, p_28 = -1.15697\n",
      "ite 29: a_28 = -1.1570, b_28 = -1.1570, p_29 = -1.15697\n",
      "ite 30: a_29 = -1.1570, b_29 = -1.1570, p_30 = -1.15697\n",
      "ite 31: a_30 = -1.1570, b_30 = -1.1570, p_31 = -1.15697\n",
      "ite 32: a_31 = -1.1570, b_31 = -1.1570, p_32 = -1.15697\n",
      "ite 33: a_32 = -1.1570, b_32 = -1.1570, p_33 = -1.15697\n",
      "ite 34: a_33 = -1.1570, b_33 = -1.1570, p_34 = -1.15697\n",
      "solución encontrada\n"
     ]
    },
    {
     "data": {
      "text/plain": [
       "-1.156969254661817"
      ]
     },
     "execution_count": 10,
     "metadata": {},
     "output_type": "execute_result"
    }
   ],
   "source": [
    "f = lambda x: np.sin(3*x) - np.cos(2*x) -1\n",
    "met_biseccion(f, -1.5, -0.5, 1e-10, n=50000)"
   ]
  },
  {
   "cell_type": "code",
   "execution_count": 4,
   "metadata": {
    "pycharm": {
     "name": "#%%\n"
    }
   },
   "outputs": [
    {
     "name": "stdout",
     "output_type": "stream",
     "text": [
      "ite 1 : a_0  = 0.0000, b_0  = 1.2000, p_1  = 0.60000\n",
      "ite 2 : a_1  = 0.6000, b_1  = 1.2000, p_2  = 0.90000\n",
      "ite 3 : a_2  = 0.9000, b_2  = 1.2000, p_3  = 1.05000\n",
      "ite 4 : a_3  = 0.9000, b_3  = 1.0500, p_4  = 0.97500\n",
      "ite 5 : a_4  = 0.9750, b_4  = 1.0500, p_5  = 1.01250\n",
      "ite 6 : a_5  = 0.9750, b_5  = 1.0125, p_6  = 0.99375\n",
      "ite 7 : a_6  = 0.9937, b_6  = 1.0125, p_7  = 1.00312\n",
      "ite 8 : a_7  = 0.9937, b_7  = 1.0031, p_8  = 0.99844\n",
      "ite 9 : a_8  = 0.9984, b_8  = 1.0031, p_9  = 1.00078\n",
      "ite 10: a_9  = 0.9984, b_9  = 1.0008, p_10 = 0.99961\n",
      "ite 11: a_10 = 0.9996, b_10 = 1.0008, p_11 = 1.00020\n",
      "ite 12: a_11 = 0.9996, b_11 = 1.0002, p_12 = 0.99990\n",
      "ite 13: a_12 = 0.9999, b_12 = 1.0002, p_13 = 1.00005\n",
      "ite 14: a_13 = 0.9999, b_13 = 1.0000, p_14 = 0.99998\n",
      "ite 15: a_14 = 1.0000, b_14 = 1.0000, p_15 = 1.00001\n",
      "ite 16: a_15 = 1.0000, b_15 = 1.0000, p_16 = 0.99999\n",
      "ite 17: a_16 = 1.0000, b_16 = 1.0000, p_17 = 1.00000\n",
      "ite 18: a_17 = 1.0000, b_17 = 1.0000, p_18 = 1.00000\n",
      "ite 19: a_18 = 1.0000, b_18 = 1.0000, p_19 = 1.00000\n",
      "ite 20: a_19 = 1.0000, b_19 = 1.0000, p_20 = 1.00000\n",
      "ite 21: a_20 = 1.0000, b_20 = 1.0000, p_21 = 1.00000\n",
      "ite 22: a_21 = 1.0000, b_21 = 1.0000, p_22 = 1.00000\n",
      "ite 23: a_22 = 1.0000, b_22 = 1.0000, p_23 = 1.00000\n",
      "ite 24: a_23 = 1.0000, b_23 = 1.0000, p_24 = 1.00000\n",
      "ite 25: a_24 = 1.0000, b_24 = 1.0000, p_25 = 1.00000\n",
      "ite 26: a_25 = 1.0000, b_25 = 1.0000, p_26 = 1.00000\n",
      "ite 27: a_26 = 1.0000, b_26 = 1.0000, p_27 = 1.00000\n",
      "solución encontrada\n"
     ]
    },
    {
     "data": {
      "text/plain": [
       "1.000000002980232"
      ]
     },
     "execution_count": 4,
     "metadata": {},
     "output_type": "execute_result"
    }
   ],
   "source": [
    "f = lambda x: x**20 - 1\n",
    "met_biseccion(f, 0, 1.2, tol=1e-8, n=500)"
   ]
  },
  {
   "cell_type": "code",
   "execution_count": null,
   "metadata": {
    "pycharm": {
     "name": "#%%\n"
    }
   },
   "outputs": [],
   "source": []
  }
 ],
 "metadata": {
  "kernelspec": {
   "display_name": "Python 3 (ipykernel)",
   "language": "python",
   "name": "python3"
  },
  "language_info": {
   "codemirror_mode": {
    "name": "ipython",
    "version": 3
   },
   "file_extension": ".py",
   "mimetype": "text/x-python",
   "name": "python",
   "nbconvert_exporter": "python",
   "pygments_lexer": "ipython3",
   "version": "3.9.12"
  }
 },
 "nbformat": 4,
 "nbformat_minor": 1
}