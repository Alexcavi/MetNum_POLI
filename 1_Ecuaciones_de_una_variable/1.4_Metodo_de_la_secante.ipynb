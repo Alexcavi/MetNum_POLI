{
 "cells": [
  {
   "cell_type": "markdown",
   "metadata": {
    "collapsed": true,
    "pycharm": {
     "name": "#%% md\n"
    }
   },
   "source": [
    "# 1.4 Método de la *secante*"
   ]
  },
  {
   "cell_type": "markdown",
   "source": [
    "[![Open In Colab](https://colab.research.google.com/assets/colab-badge.svg)](https://colab.research.google.com/github/caramirezs/MetNum_202210/blob/main/1_Ecuaciones_de_una_variable/1.4_Metodo_de_la_secante.ipynb)"
   ],
   "metadata": {
    "collapsed": false,
    "pycharm": {
     "name": "#%% md\n"
    }
   }
  },
  {
   "cell_type": "markdown",
   "source": [
    "# Algoritmo"
   ],
   "metadata": {
    "collapsed": false,
    "pycharm": {
     "name": "#%% md\n"
    }
   }
  },
  {
   "cell_type": "code",
   "execution_count": 1,
   "outputs": [],
   "source": [
    "import numpy as np"
   ],
   "metadata": {
    "collapsed": false,
    "pycharm": {
     "name": "#%%\n"
    }
   }
  },
  {
   "cell_type": "code",
   "execution_count": 1,
   "outputs": [],
   "source": [
    "def met_secante(f, p_m, p_n, tol=1e-4, n=50):\n",
    "    \"\"\"\n",
    "    Método de la Secante\n",
    "    :param f: Funcion a la que se le intenta encontrar una solucion\n",
    "    para la ecuacion f(x)=0, previamente definida\n",
    "    :param p_m: semilla 1\n",
    "    :param p_n: semilla 2\n",
    "    :param tol: toleracia, criterio de parada\n",
    "    :param n: número máximo de iteraciones, criterio de parada\n",
    "    :return: solución exacta o aproximada, si tiene.\n",
    "    \"\"\"\n",
    "    i = 1\n",
    "\n",
    "    while i<=n:\n",
    "        if f(p_m) == f(p_n):\n",
    "            print('Solución no encontrada (recta secante horizontal)')\n",
    "            return None\n",
    "\n",
    "        p_i = p_n - (f(p_n)*(p_m - p_n))/(f(p_m) - f(p_n))\n",
    "\n",
    "        e_abs = abs(p_n - p_i)\n",
    "\n",
    "        print('ite {:<2}: [p_{:<2}={:.5f}, p_{:<2}={:.5f}] p_{:<2}={:.7f}'\n",
    "              ' | e_abs: {:e}  '.format(i, i-2, p_m, i-1, p_n, i, p_i, e_abs))\n",
    "        if f(p_i) == 0:\n",
    "            print('solución exacta encontrada')\n",
    "            return p_i\n",
    "\n",
    "        if e_abs < tol:\n",
    "            print('solución encontrada')\n",
    "            return p_i\n",
    "\n",
    "        p_m = p_n\n",
    "        p_n = p_i\n",
    "\n",
    "        i += 1\n",
    "\n",
    "    print('solución no encontrada, iteraciones agotadas')\n",
    "    return None"
   ],
   "metadata": {
    "collapsed": false,
    "pycharm": {
     "name": "#%%\n"
    }
   }
  },
  {
   "cell_type": "code",
   "execution_count": 35,
   "outputs": [
    {
     "name": "stdout",
     "output_type": "stream",
     "text": [
      "ite 1 : [p_-1=2.30000, p_0 =2.50000] p_1 =2.2183354 | e_abs: 2.816646e-01  \n",
      "ite 2 : [p_0 =2.50000, p_1 =2.21834] p_2 =2.2035169 | e_abs: 1.481847e-02  \n",
      "ite 3 : [p_1 =2.21834, p_2 =2.20352] p_3 =2.2001069 | e_abs: 3.409951e-03  \n",
      "ite 4 : [p_2 =2.20352, p_3 =2.20011] p_4 =2.2000612 | e_abs: 4.577086e-05  \n",
      "ite 5 : [p_3 =2.20011, p_4 =2.20006] p_5 =2.2000611 | e_abs: 1.163164e-07  \n",
      "solución encontrada\n"
     ]
    },
    {
     "data": {
      "text/plain": "2.2000610602246646"
     },
     "execution_count": 35,
     "metadata": {},
     "output_type": "execute_result"
    }
   ],
   "source": [
    "f = lambda x: np.e**x - 3*np.sin(x) - 3*x\n",
    "met_secante(f, 2.3, 2.5, tol=1e-6, n=1000)"
   ],
   "metadata": {
    "collapsed": false,
    "pycharm": {
     "name": "#%%\n"
    }
   }
  },
  {
   "cell_type": "code",
   "execution_count": null,
   "outputs": [],
   "source": [],
   "metadata": {
    "collapsed": false,
    "pycharm": {
     "name": "#%%\n"
    }
   }
  }
 ],
 "metadata": {
  "kernelspec": {
   "display_name": "Python 3",
   "language": "python",
   "name": "python3"
  },
  "language_info": {
   "codemirror_mode": {
    "name": "ipython",
    "version": 2
   },
   "file_extension": ".py",
   "mimetype": "text/x-python",
   "name": "python",
   "nbconvert_exporter": "python",
   "pygments_lexer": "ipython2",
   "version": "2.7.6"
  }
 },
 "nbformat": 4,
 "nbformat_minor": 0
}