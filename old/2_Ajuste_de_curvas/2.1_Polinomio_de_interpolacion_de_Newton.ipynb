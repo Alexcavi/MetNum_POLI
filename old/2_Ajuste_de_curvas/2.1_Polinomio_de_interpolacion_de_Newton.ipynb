{
 "cells": [
  {
   "cell_type": "markdown",
   "metadata": {
    "collapsed": true,
    "pycharm": {
     "name": "#%% md\n"
    }
   },
   "source": [
    "# Polinomio de interpolación de Newton"
   ]
  },
  {
   "cell_type": "markdown",
   "source": [
    "[![Open In Colab](https://colab.research.google.com/assets/colab-badge.svg)](https://colab.research.google.com/github/caramirezs/MetNum_202210/blob/main/2_Ajuste_de_curvas/2.1_Polinomio_de_interpolacion_de_Newtow.ipynb)"
   ],
   "metadata": {
    "collapsed": false,
    "pycharm": {
     "name": "#%% md\n"
    }
   }
  },
  {
   "cell_type": "code",
   "execution_count": 16,
   "outputs": [],
   "source": [
    "def NewtonPol(dat):\n",
    "    \"\"\"\n",
    "    Implementación del interpolador de Newton\n",
    "    Entradas:\n",
    "    dat -- lista de puntos (x, y) en el plano\n",
    "\n",
    "    Salidas:\n",
    "    F -- tabla de diferencias divididas\n",
    "    P -- función de interpolación\n",
    "    \"\"\"\n",
    "    n = len(dat)-1\n",
    "    F = [[0 for x in dat] for x in dat]  # crear tabla nula\n",
    "\n",
    "    for i, p in enumerate(dat):  # condiciones iniciales\n",
    "        F[i][0] = p[1]\n",
    "\n",
    "    for i in range(1, n+1):  # tabla de diferencias divididas\n",
    "        for j in range(1, i+1):\n",
    "            F[i][j] = round((F[i][j-1]-F[i-1][j-1])/(dat[i][0]-dat[i-j][0]),4)\n",
    "\n",
    "    def L(k, x):\n",
    "        \"\"\"Implementación funciones L_k(x)\"\"\"\n",
    "        # polinomio $L_k(x)=\\prod\\limits_{i \\leq k}(x-x_i)$\n",
    "        out = 1\n",
    "        for i, p in enumerate(dat):\n",
    "            if i <= k:\n",
    "                out *= (x - p[0])\n",
    "        return out\n",
    "\n",
    "    def P(x):\n",
    "        \"\"\"Implementación polinomio P(x)\"\"\"\n",
    "        # $P(x)=f[x_0]+\\sum_{k=1}^{n}f[x_0,x_1,\\ldots,x_k]L_{k-1}(x)$\n",
    "        newt = 0\n",
    "        for i in range(1, n+1):\n",
    "            newt += F[i][i]*L(i-1, x)\n",
    "        return newt + F[0][0]\n",
    "\n",
    "    return F, P"
   ],
   "metadata": {
    "collapsed": false,
    "pycharm": {
     "name": "#%%\n"
    }
   }
  },
  {
   "cell_type": "code",
   "execution_count": 17,
   "outputs": [],
   "source": [
    "datos = [[2,6],[5,4],[8,4],[12,3],[6,5]]\n",
    "F, P = NewtonPol(datos)"
   ],
   "metadata": {
    "collapsed": false,
    "pycharm": {
     "name": "#%%\n"
    }
   }
  },
  {
   "cell_type": "code",
   "execution_count": 19,
   "outputs": [
    {
     "data": {
      "text/plain": "[[6, 0, 0, 0, 0],\n [4, -0.6667, 0, 0, 0],\n [4, 0.0, 0.1111, 0, 0],\n [3, -0.25, -0.0357, -0.0147, 0],\n [5, -0.3333, 0.0416, 0.0773, 0.023]]"
     },
     "execution_count": 19,
     "metadata": {},
     "output_type": "execute_result"
    }
   ],
   "source": [
    "F"
   ],
   "metadata": {
    "collapsed": false,
    "pycharm": {
     "name": "#%%\n"
    }
   }
  },
  {
   "cell_type": "code",
   "execution_count": 12,
   "outputs": [
    {
     "data": {
      "text/plain": "[<matplotlib.lines.Line2D at 0x1f2fd7a3280>,\n <matplotlib.lines.Line2D at 0x1f2fd7a33a0>]"
     },
     "execution_count": 12,
     "metadata": {},
     "output_type": "execute_result"
    },
    {
     "data": {
      "text/plain": "<Figure size 432x288 with 1 Axes>",
      "image/png": "[encoded data removed]"
     },
     "metadata": {
      "needs_background": "light"
     },
     "output_type": "display_data"
    }
   ],
   "source": [
    "import numpy as np\n",
    "import matplotlib.pyplot as plt\n",
    "x = np.array([2, 5, 6, 8, 12])\n",
    "y = np.array([6, 4, 5, 4, 3])\n",
    "xx = np.linspace(1.9,12.1,100)\n",
    "plt.plot(xx, P(xx), '-',x, y, 'ro')"
   ],
   "metadata": {
    "collapsed": false,
    "pycharm": {
     "name": "#%%\n"
    }
   }
  },
  {
   "cell_type": "code",
   "execution_count": null,
   "outputs": [],
   "source": [],
   "metadata": {
    "collapsed": false,
    "pycharm": {
     "name": "#%%\n"
    }
   }
  }
 ],
 "metadata": {
  "kernelspec": {
   "display_name": "Python 3",
   "language": "python",
   "name": "python3"
  },
  "language_info": {
   "codemirror_mode": {
    "name": "ipython",
    "version": 2
   },
   "file_extension": ".py",
   "mimetype": "text/x-python",
   "name": "python",
   "nbconvert_exporter": "python",
   "pygments_lexer": "ipython2",
   "version": "2.7.6"
  }
 },
 "nbformat": 4,
 "nbformat_minor": 0
}