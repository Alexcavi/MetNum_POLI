{
 "cells": [
  {
   "cell_type": "code",
   "execution_count": 3,
   "outputs": [],
   "source": [
    "def distinf(x, y):\n",
    "    \"\"\"Implementación distancia dada por la norma infinito\"\"\"\n",
    "    return max([abs(x[i]-y[i]) for i in range(len(x))])\n",
    "\n",
    "\n",
    "def GaussSeidel(A, b, x0, tol=1e-4, n_max=100):\n",
    "    \"\"\"\n",
    "    Implementación del método de Gauss-Seidel\n",
    "    Entradas:\n",
    "    A -- matriz cuadrada\n",
    "    b -- vector\n",
    "    x0 -- aproximación inicial\n",
    "    TOL -- tolerancia\n",
    "    MAX -- número máximo de iteraciones\n",
    "\n",
    "    Salida:\n",
    "    x -- aproximación a solución del sistema Ax = b\n",
    "    None -- en caso de agotar las iteraciones o presentar errores\n",
    "    \"\"\"\n",
    "    n = len(A)\n",
    "    x = [0.0 for x in range(n)]\n",
    "    k = 1\n",
    "    while k <= n_max:\n",
    "        for i in range(n):\n",
    "            if abs(A[i][i]) <= 1e-15:\n",
    "                print(\"Imposible iterar\")\n",
    "                return None\n",
    "            s1 = sum([A[i][j]*x[j] for j in range(i)])\n",
    "            s2 = sum([A[i][j]*x0[j] for j in range(i+1, n)])\n",
    "            x[i] = (b[i] - s1 - s2)/A[i][i]\n",
    "        print(x)\n",
    "        if distinf(x, x0) < tol:\n",
    "            print(f\"Solución encontrada ({k} iteraciones)\")\n",
    "            return x\n",
    "        k += 1\n",
    "        for i in range(n):\n",
    "            x0[i] = x[i]\n",
    "    print(\"Iteraciones agotadas\")\n",
    "    return None"
   ],
   "metadata": {
    "collapsed": false,
    "pycharm": {
     "name": "#%%\n"
    }
   }
  },
  {
   "cell_type": "code",
   "execution_count": 4,
   "outputs": [
    {
     "name": "stdout",
     "output_type": "stream",
     "text": [
      "[0.1, 1.92, 5.68]\n",
      "[-1.028, 3.7584000000000004, 4.7086]\n",
      "[-1.01756, 3.5557679999999996, 4.787197000000001]\n",
      "[-1.0130162000000003, 3.5678523600000007, 4.783801315]\n",
      "[-1.013545499, 3.5675966622000006, 4.783764876925]\n",
      "[-1.013512641605, 3.567563088669, 4.783785681347875]\n",
      "[-1.013513445136475, 3.5675678923787553, 4.7837836790738475]\n",
      "[-1.013513525052645, 3.5675675558568853, 4.783783785290507]\n",
      "[-1.0135135126437897, 3.5675675671731333, 4.7837837841491275]\n",
      "[-1.013513513547139, 3.567567567667537, 4.7837837837378885]\n",
      "Solución encontrada (10 iteraciones)\n"
     ]
    },
    {
     "data": {
      "text/plain": "[-1.013513513547139, 3.567567567667537, 4.7837837837378885]"
     },
     "execution_count": 4,
     "metadata": {},
     "output_type": "execute_result"
    }
   ],
   "source": [
    "A = [[10, 1, 2],\n",
    "     [4, 5, -1],\n",
    "     [-2, 3, 8]]\n",
    "b = [3, 9, 51]\n",
    "x0 =[-1, 0, 1]\n",
    "GaussSeidel(A, b, x0, tol=1e-9)"
   ],
   "metadata": {
    "collapsed": false,
    "pycharm": {
     "name": "#%%\n"
    }
   }
  }
 ],
 "metadata": {
  "kernelspec": {
   "display_name": "Python 3",
   "language": "python",
   "name": "python3"
  },
  "language_info": {
   "codemirror_mode": {
    "name": "ipython",
    "version": 2
   },
   "file_extension": ".py",
   "mimetype": "text/x-python",
   "name": "python",
   "nbconvert_exporter": "python",
   "pygments_lexer": "ipython2",
   "version": "2.7.6"
  }
 },
 "nbformat": 4,
 "nbformat_minor": 0
}