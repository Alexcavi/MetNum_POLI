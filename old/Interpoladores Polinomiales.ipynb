{
 "cells": [
  {
   "cell_type": "code",
   "execution_count": 35,
   "metadata": {
    "scrolled": true
   },
   "outputs": [],
   "source": [
    "import sympy as sym\n",
    "import numpy as np\n",
    "import math\n",
    "import matplotlib.pyplot as plt\n",
    "from pprint import pprint"
   ]
  },
  {
   "cell_type": "code",
   "execution_count": 10,
   "metadata": {},
   "outputs": [
    {
     "name": "stdout",
     "output_type": "stream",
     "text": [
      "polinomio sin simplificar\n",
      "-41.6666666666667*(x - 8.5)*(x - 8.3)*(x - 8.2) + 293.33333333333*(x - 8.5)*(x - 8.3)*(x - 8.0) - 243.33333333333*(x - 8.5)*(x - 8.2)*(x - 8.0) + 58.3333333333334*(x - 8.3)*(x - 8.2)*(x - 8.0)\n",
      "Simplificacion\n",
      "66.666666666666*x**3 - 1651.83333333332*x**2 + 13639.5833333332*x - 37531.4166666663\n"
     ]
    },
    {
     "data": {
      "image/png": "[encoded data removed]",
      "text/plain": [
       "<Figure size 432x288 with 1 Axes>"
      ]
     },
     "metadata": {
      "needs_background": "light"
     },
     "output_type": "display_data"
    }
   ],
   "source": [
    "xi = np.array([8,8.2,8.3,8.5]) #Se insertan los valores\n",
    "fi = np.array([1.25,1.76,1.46,1.75])\n",
    "\n",
    "#Proceso\n",
    "n = len(xi)\n",
    "x = sym.Symbol('x')\n",
    "polinomio = 0\n",
    "for i in range(0,n,1):\n",
    "    numerador = 1\n",
    "    denominador = 1\n",
    "\n",
    "    for j in range(0,n,1):\n",
    "        if (i!=j):\n",
    "            numerador = numerador * (x-xi[j])\n",
    "            denominador = denominador * (xi[i]-xi[j])\n",
    "            termino = (numerador/denominador)*fi[i]\n",
    "\n",
    "    polinomio = polinomio + termino\n",
    "\n",
    "polisimple = sym.expand(polinomio)\n",
    "px = sym.lambdify(x,polinomio)\n",
    "\n",
    "#Vectores\n",
    "muestras = 100\n",
    "a = np.min(xi)\n",
    "b = np.max(xi)\n",
    "p_xi= np.linspace(a,b,muestras)\n",
    "pfi = px(p_xi)\n",
    "\n",
    "#Salida\n",
    "print(\"polinomio sin simplificar\")\n",
    "print(polinomio)\n",
    "print(\"Simplificacion\")\n",
    "print(polisimple)\n",
    "#Grafica\n",
    "plt.plot(xi,fi,'o')\n",
    "plt.plot(p_xi, pfi)\n",
    "plt.show()"
   ]
  },
  {
   "cell_type": "code",
   "execution_count": 19,
   "metadata": {},
   "outputs": [
    {
     "data": {
      "text/plain": [
       "1.3233333333333341"
      ]
     },
     "execution_count": 19,
     "metadata": {},
     "output_type": "execute_result"
    }
   ],
   "source": [
    "px(8.4)"
   ]
  },
  {
   "cell_type": "code",
   "execution_count": 20,
   "metadata": {},
   "outputs": [
    {
     "name": "stdout",
     "output_type": "stream",
     "text": [
      "[    66.66666667  -1651.83333335  13639.58333347 -37531.41666704]\n",
      "       3        2\n",
      "66.67 x - 1652 x + 1.364e+04 x - 3.753e+04\n",
      "1.3233333333046176\n"
     ]
    }
   ],
   "source": [
    "xi = np.array([8,8.2,8.3,8.5]) #Se insertan los valores\n",
    "fi = np.array([1.25,1.76,1.46,1.75])\n",
    "c = np.polyfit(xi,fi,3)\n",
    "print(c)\n",
    "p = np.poly1d(c)\n",
    "print(p)\n",
    "print(np.polyval(p,8.4))"
   ]
  },
  {
   "cell_type": "code",
   "execution_count": 21,
   "metadata": {},
   "outputs": [],
   "source": [
    "def LagrangePol(datos):\n",
    "    \"\"\"\n",
    "    Implementación del interpolador de Lagrange \n",
    "    Entradas:\n",
    "    datos -- lista de puntos (x, y) en el plano\n",
    "\n",
    "    Salida:\n",
    "    P -- función de interpolación\n",
    "    \"\"\"\n",
    "\n",
    "    def L(k, x):\n",
    "        \"\"\"Implementación funciones L_k(x)\"\"\"\n",
    "        # pol $L_k(x)=\\prod\\limits_{i \\neq k}\\frac{x-x_i}{x_k-x_i}$\n",
    "        out = 1\n",
    "        for i, p in enumerate(datos):\n",
    "            if i != k:\n",
    "                out *= (x - p[0])/(datos[k][0] - p[0])\n",
    "        return out\n",
    "\n",
    "    def P(x):\n",
    "        \"\"\"Implementación polinomio P(x)\"\"\"\n",
    "        # polinomio $P(x)=\\sum\\limits_{k}f(x_k)L_k(x)$\n",
    "        lag = 0\n",
    "        for k, p in enumerate(datos):\n",
    "            lag += p[1]*L(k, x)\n",
    "        return lag\n",
    "\n",
    "    return P"
   ]
  },
  {
   "cell_type": "code",
   "execution_count": 50,
   "metadata": {},
   "outputs": [
    {
     "name": "stdout",
     "output_type": "stream",
     "text": [
      "1.323333333333337\n"
     ]
    }
   ],
   "source": [
    "xi = np.array([8,8.2,8.3,8.5]) #Se insertan los valores\n",
    "fi = np.array([1.25,1.76,1.46,1.75])\n",
    "datos=[(8,1.25),(8.2,1.76),(8.3,1.46),(8.5,1.75)]\n",
    "Pf=LagrangePol(datos)\n",
    "print(Pf(8.4))"
   ]
  },
  {
   "cell_type": "code",
   "execution_count": 30,
   "metadata": {},
   "outputs": [],
   "source": [
    "def NewtonPol(dat):\n",
    "    \"\"\"\n",
    "    Implementación del interpolador de Newton\n",
    "    Entradas:\n",
    "    dat -- lista de puntos (x, y) en el plano\n",
    "\n",
    "    Salidas:\n",
    "    F -- tabla de diferencias divididas\n",
    "    P -- función de interpolación\n",
    "    \"\"\"\n",
    "    n = len(dat)-1\n",
    "    F = [[0 for x in dat] for x in dat]  # crear tabla nula\n",
    "\n",
    "    for i, p in enumerate(dat):  # condiciones iniciales\n",
    "        F[i][0] = p[1]\n",
    "\n",
    "    for i in range(1, n+1):  # tabla de diferencias divididas\n",
    "        for j in range(1, i+1):\n",
    "            F[i][j] = (F[i][j-1]-F[i-1][j-1])/(dat[i][0]-dat[i-j][0])\n",
    "\n",
    "    def L(k, x):\n",
    "        \"\"\"Implementación funciones L_k(x)\"\"\"\n",
    "        # polinomio $L_k(x)=\\prod\\limits_{i \\leq k}(x-x_i)$\n",
    "        out = 1\n",
    "        for i, p in enumerate(dat):\n",
    "            if i <= k:\n",
    "                out *= (x - p[0])\n",
    "        return out\n",
    "\n",
    "    def P(x):\n",
    "        \"\"\"Implementación polinomio P(x)\"\"\"\n",
    "        # $P(x)=f[x_0]+\\sum_{k=1}^{n}f[x_0,x_1,\\ldots,x_k]L_{k-1}(x)$\n",
    "        newt = 0\n",
    "        for i in range(1, n+1):\n",
    "            newt += F[i][i]*L(i-1, x)\n",
    "        return newt + F[0][0]\n",
    "\n",
    "    return F, P\n"
   ]
  },
  {
   "cell_type": "code",
   "execution_count": 41,
   "metadata": {},
   "outputs": [],
   "source": [
    "datos1 = [(0,1), (1,3), (2,2), (3,1), (4,3)]\n",
    "F,Pn = NewtonPol(datos1)"
   ]
  },
  {
   "cell_type": "code",
   "execution_count": 42,
   "metadata": {},
   "outputs": [
    {
     "name": "stdout",
     "output_type": "stream",
     "text": [
      "[[1, 0, 0, 0, 0],\n",
      " [3, 2.0, 0, 0, 0],\n",
      " [2, -1.0, -1.5, 0, 0],\n",
      " [1, -1.0, 0.0, 0.5, 0],\n",
      " [3, 2.0, 1.5, 0.5, 0.0]]\n"
     ]
    }
   ],
   "source": [
    "pprint(F)"
   ]
  },
  {
   "cell_type": "code",
   "execution_count": 40,
   "metadata": {},
   "outputs": [
    {
     "data": {
      "text/plain": [
       "1.0"
      ]
     },
     "execution_count": 40,
     "metadata": {},
     "output_type": "execute_result"
    }
   ],
   "source": [
    "Pn(0)"
   ]
  },
  {
   "cell_type": "code",
   "execution_count": 45,
   "metadata": {},
   "outputs": [
    {
     "name": "stdout",
     "output_type": "stream",
     "text": [
      "[[1.25, 0, 0, 0],\n",
      " [1.76, 2.550000000000009, 0, 0],\n",
      " [1.46, -2.999999999999958, -18.499999999999847, 0],\n",
      " [1.75, 1.4500000000000053, 14.833333333333174, 66.66666666666605]]\n"
     ]
    }
   ],
   "source": [
    "F,Pn = NewtonPol(datos)\n",
    "pprint(F)"
   ]
  },
  {
   "cell_type": "code",
   "execution_count": 48,
   "metadata": {},
   "outputs": [
    {
     "data": {
      "text/plain": [
       "1.3233333333333372"
      ]
     },
     "execution_count": 48,
     "metadata": {},
     "output_type": "execute_result"
    }
   ],
   "source": [
    "Pn(8.4)"
   ]
  },
  {
   "cell_type": "code",
   "execution_count": null,
   "metadata": {},
   "outputs": [],
   "source": []
  }
 ],
 "metadata": {
  "kernelspec": {
   "display_name": "Python 3",
   "language": "python",
   "name": "python3"
  },
  "language_info": {
   "codemirror_mode": {
    "name": "ipython",
    "version": 3
   },
   "file_extension": ".py",
   "mimetype": "text/x-python",
   "name": "python",
   "nbconvert_exporter": "python",
   "pygments_lexer": "ipython3",
   "version": "3.8.5"
  }
 },
 "nbformat": 4,
 "nbformat_minor": 4
}
