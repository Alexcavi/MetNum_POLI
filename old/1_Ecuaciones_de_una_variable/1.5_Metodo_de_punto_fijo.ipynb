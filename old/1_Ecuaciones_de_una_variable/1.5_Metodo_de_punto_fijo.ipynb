{
 "cells": [
  {
   "cell_type": "markdown",
   "source": [
    "# 1.5 Método de *punto fijo*"
   ],
   "metadata": {
    "collapsed": false,
    "pycharm": {
     "name": "#%% md\n"
    }
   }
  },
  {
   "cell_type": "markdown",
   "source": [
    "[![Open In Colab](https://colab.research.google.com/assets/colab-badge.svg)](https://colab.research.google.com/github/caramirezs/MetNum_202210/blob/main/1_Ecuaciones_de_una_variable/1.5_Metodo_de_punto_fijo.ipynb)"
   ],
   "metadata": {
    "collapsed": false,
    "pycharm": {
     "name": "#%% md\n"
    }
   }
  },
  {
   "cell_type": "code",
   "execution_count": 7,
   "outputs": [],
   "source": [
    "def met_punto_fijo(g, p_0, tol=1e-4, n=200):\n",
    "    \"\"\"\n",
    "    Método del punto fijo\n",
    "    :param g: Funcion transformada -> punto fijo\n",
    "    :param p_0: semilla\n",
    "    :param tol: toleracia, criterio de parada\n",
    "    :param n: número máximo de iteraciones, criterio de parada\n",
    "    :return: solución exacta o aproximada, si tiene.\n",
    "    \"\"\"\n",
    "    i = 1\n",
    "\n",
    "    while i<=n:\n",
    "        try:\n",
    "            p_i = g(p_0)\n",
    "            e_abs = abs(p_0 - p_i)\n",
    "\n",
    "            print('ite {:<2}: p_{:<2}={:.5f} p_{:<2}={:.7f}'\n",
    "                  ' | e_abs: {:e}  '.format(i, i-1, p_0, i, p_i, e_abs))\n",
    "            if g(p_i) == p_i:\n",
    "                print('solución exacta encontrada')\n",
    "                return p_i\n",
    "\n",
    "            if e_abs < tol:\n",
    "                print('solución encontrada')\n",
    "                return p_i\n",
    "\n",
    "        except OverflowError:\n",
    "            print('solución no encontrada, OverflowError')\n",
    "            return None\n",
    "\n",
    "        p_0 = p_i\n",
    "        i += 1\n",
    "\n",
    "    print('solución no encontrada, iteraciones agotadas')\n",
    "    return None"
   ],
   "metadata": {
    "collapsed": false,
    "pycharm": {
     "name": "#%%\n"
    }
   }
  },
  {
   "cell_type": "code",
   "execution_count": 8,
   "outputs": [
    {
     "name": "stdout",
     "output_type": "stream",
     "text": [
      "ite 1 : p_0 =-1.00000 p_1 =0.0000000 | e_abs: 1.000000e+00  \n",
      "ite 2 : p_1 =0.00000 p_2 =6.0000000 | e_abs: 6.000000e+00  \n",
      "ite 3 : p_2 =6.00000 p_3 =84.0000000 | e_abs: 7.800000e+01  \n",
      "ite 4 : p_3 =84.00000 p_4 =7650.0000000 | e_abs: 7.566000e+03  \n",
      "ite 5 : p_4 =7650.00000 p_5 =58576056.0000000 | e_abs: 5.856841e+07  \n",
      "ite 6 : p_5 =58576056.00000 p_6 =3431154746547534.0000000 | e_abs: 3.431155e+15  \n",
      "ite 7 : p_6 =3431154746547534.00000 p_7 =11772822894755696192528614162432.0000000 | e_abs: 1.177282e+31  \n",
      "ite 8 : p_7 =11772822894755696192528614162432.00000 p_8 =138599358911283894910863220118034541352629026433366086452772864.0000000 | e_abs: 1.385994e+62  \n",
      "ite 9 : p_8 =138599358911283894910863220118034541352629026433366086452772864.00000 p_9 =19209782290618888609577880692498868033842861391211244031133413025149515671818826154789614058283459289746860720700526455422976.0000000 | e_abs: 1.920978e+124  \n",
      "ite 10: p_9 =19209782290618888609577880692498868033842861391211244031133413025149515671818826154789614058283459289746860720700526455422976.00000 p_10=369015735652975130495965940633046711032282852877035836636825141540239823644293040436128909224393665011023915915635842251045203761885189613006164266986805747291085983912836408162639279961748525304034579929425736419799932079668922501893912517888966656.0000000 | e_abs: 3.690157e+248  \n",
      "solución no encontrada, OverflowError\n"
     ]
    }
   ],
   "source": [
    "g = lambda x: x**2 + 7*x + 6\n",
    "met_punto_fijo(g,-1)"
   ],
   "metadata": {
    "collapsed": false,
    "pycharm": {
     "name": "#%%\n"
    }
   }
  },
  {
   "cell_type": "code",
   "execution_count": 9,
   "outputs": [
    {
     "name": "stdout",
     "output_type": "stream",
     "text": [
      "ite 1 : p_0 =-1.00000 p_1 =-1.2000000 | e_abs: 2.000000e-01  \n",
      "ite 2 : p_1 =-1.20000 p_2 =-1.2500000 | e_abs: 5.000000e-02  \n",
      "ite 3 : p_2 =-1.25000 p_3 =-1.2631579 | e_abs: 1.315789e-02  \n",
      "ite 4 : p_3 =-1.26316 p_4 =-1.2666667 | e_abs: 3.508772e-03  \n",
      "ite 5 : p_4 =-1.26667 p_5 =-1.2676056 | e_abs: 9.389671e-04  \n",
      "ite 6 : p_5 =-1.26761 p_6 =-1.2678571 | e_abs: 2.515091e-04  \n",
      "ite 7 : p_6 =-1.26786 p_7 =-1.2679245 | e_abs: 6.738544e-05  \n",
      "solución encontrada\n"
     ]
    },
    {
     "data": {
      "text/plain": "-1.2679245283018867"
     },
     "execution_count": 9,
     "metadata": {},
     "output_type": "execute_result"
    }
   ],
   "source": [
    "g = lambda x: -6 / (x+6)\n",
    "met_punto_fijo(g,-1)"
   ],
   "metadata": {
    "collapsed": false,
    "pycharm": {
     "name": "#%%\n"
    }
   }
  },
  {
   "cell_type": "code",
   "execution_count": 20,
   "outputs": [
    {
     "name": "stdout",
     "output_type": "stream",
     "text": [
      "ite 1 : p_0 =-3.00000 p_1 =-3.3333333 | e_abs: 3.333333e-01  \n",
      "ite 2 : p_1 =-3.33333 p_2 =-3.5933333 | e_abs: 2.600000e-01  \n",
      "ite 3 : p_2 =-3.59333 p_3 =-3.7984097 | e_abs: 2.050764e-01  \n",
      "ite 4 : p_3 =-3.79841 p_4 =-3.9621577 | e_abs: 1.637480e-01  \n",
      "ite 5 : p_4 =-3.96216 p_5 =-4.0942867 | e_abs: 1.321290e-01  \n",
      "ite 6 : p_5 =-4.09429 p_6 =-4.2018162 | e_abs: 1.075295e-01  \n",
      "ite 7 : p_6 =-4.20182 p_7 =-4.2899280 | e_abs: 8.811187e-02  \n",
      "ite 8 : p_7 =-4.28993 p_8 =-4.3625277 | e_abs: 7.259961e-02  \n",
      "ite 9 : p_8 =-4.36253 p_9 =-4.4226128 | e_abs: 6.008510e-02  \n",
      "ite 10: p_9 =-4.42261 p_10=-4.4725206 | e_abs: 4.990786e-02  \n",
      "ite 11: p_10=-4.47252 p_11=-4.5140976 | e_abs: 4.157700e-02  \n",
      "ite 12: p_11=-4.51410 p_12=-4.5488184 | e_abs: 3.472080e-02  \n",
      "ite 13: p_12=-4.54882 p_13=-4.5778716 | e_abs: 2.905320e-02  \n",
      "ite 14: p_13=-4.57787 p_14=-4.6022226 | e_abs: 2.435098e-02  \n",
      "ite 15: p_14=-4.60222 p_15=-4.6226604 | e_abs: 2.043784e-02  \n",
      "ite 16: p_15=-4.62266 p_16=-4.6398336 | e_abs: 1.717316e-02  \n",
      "ite 17: p_16=-4.63983 p_17=-4.6542773 | e_abs: 1.444375e-02  \n",
      "ite 18: p_17=-4.65428 p_18=-4.6664352 | e_abs: 1.215783e-02  \n",
      "ite 19: p_18=-4.66644 p_19=-4.6766757 | e_abs: 1.024053e-02  \n",
      "ite 20: p_19=-4.67668 p_20=-4.6853061 | e_abs: 8.630426e-03  \n",
      "ite 21: p_20=-4.68531 p_21=-4.6925830 | e_abs: 7.276904e-03  \n",
      "ite 22: p_21=-4.69258 p_22=-4.6987211 | e_abs: 6.138085e-03  \n",
      "ite 23: p_22=-4.69872 p_23=-4.7039003 | e_abs: 5.179214e-03  \n",
      "ite 24: p_23=-4.70390 p_24=-4.7082717 | e_abs: 4.371360e-03  \n",
      "ite 25: p_24=-4.70827 p_25=-4.7119621 | e_abs: 3.690387e-03  \n",
      "ite 26: p_25=-4.71196 p_26=-4.7150782 | e_abs: 3.116117e-03  \n",
      "ite 27: p_26=-4.71508 p_27=-4.7177098 | e_abs: 2.631653e-03  \n",
      "ite 28: p_27=-4.71771 p_28=-4.7199327 | e_abs: 2.222823e-03  \n",
      "ite 29: p_28=-4.71993 p_29=-4.7218104 | e_abs: 1.877730e-03  \n",
      "ite 30: p_29=-4.72181 p_30=-4.7233968 | e_abs: 1.586373e-03  \n",
      "ite 31: p_30=-4.72340 p_31=-4.7247371 | e_abs: 1.340338e-03  \n",
      "ite 32: p_31=-4.72474 p_32=-4.7258696 | e_abs: 1.132543e-03  \n",
      "ite 33: p_32=-4.72587 p_33=-4.7268267 | e_abs: 9.570208e-04  \n",
      "ite 34: p_33=-4.72683 p_34=-4.7276354 | e_abs: 8.087428e-04  \n",
      "ite 35: p_34=-4.72764 p_35=-4.7283189 | e_abs: 6.834682e-04  \n",
      "ite 36: p_35=-4.72832 p_36=-4.7288965 | e_abs: 5.776198e-04  \n",
      "ite 37: p_36=-4.72890 p_37=-4.7293847 | e_abs: 4.881792e-04  \n",
      "ite 38: p_37=-4.72938 p_38=-4.7297973 | e_abs: 4.125987e-04  \n",
      "ite 39: p_38=-4.72980 p_39=-4.7301460 | e_abs: 3.487274e-04  \n",
      "ite 40: p_39=-4.73015 p_40=-4.7304408 | e_abs: 2.947490e-04  \n",
      "ite 41: p_40=-4.73044 p_41=-4.7306899 | e_abs: 2.491297e-04  \n",
      "ite 42: p_41=-4.73069 p_42=-4.7309005 | e_abs: 2.105739e-04  \n",
      "ite 43: p_42=-4.73090 p_43=-4.7310784 | e_abs: 1.779870e-04  \n",
      "ite 44: p_43=-4.73108 p_44=-4.7312289 | e_abs: 1.504445e-04  \n",
      "ite 45: p_44=-4.73123 p_45=-4.7313561 | e_abs: 1.271651e-04  \n",
      "ite 46: p_45=-4.73136 p_46=-4.7314635 | e_abs: 1.074886e-04  \n",
      "ite 47: p_46=-4.73146 p_47=-4.7315544 | e_abs: 9.085716e-05  \n",
      "solución encontrada\n"
     ]
    },
    {
     "data": {
      "text/plain": "-4.731554401027114"
     },
     "execution_count": 20,
     "metadata": {},
     "output_type": "execute_result"
    }
   ],
   "source": [
    "g = lambda x: x + 1 + 6/x + 6/x**2\n",
    "met_punto_fijo(g,-3)"
   ],
   "metadata": {
    "collapsed": false,
    "pycharm": {
     "name": "#%%\n"
    }
   }
  },
  {
   "cell_type": "code",
   "execution_count": 27,
   "outputs": [
    {
     "name": "stdout",
     "output_type": "stream",
     "text": [
      "ite 1 : p_0 =-3.00000 p_1 =-3.2142857 | e_abs: 2.142857e-01  \n",
      "ite 2 : p_1 =-3.21429 p_2 =-3.4069646 | e_abs: 1.926789e-01  \n",
      "ite 3 : p_2 =-3.40696 p_3 =-3.5776342 | e_abs: 1.706696e-01  \n",
      "ite 4 : p_3 =-3.57763 p_4 =-3.7274330 | e_abs: 1.497988e-01  \n",
      "ite 5 : p_4 =-3.72743 p_5 =-3.8582085 | e_abs: 1.307755e-01  \n",
      "ite 6 : p_5 =-3.85821 p_6 =-3.9720325 | e_abs: 1.138240e-01  \n",
      "ite 7 : p_6 =-3.97203 p_7 =-4.0709471 | e_abs: 9.891460e-02  \n",
      "ite 8 : p_7 =-4.07095 p_8 =-4.1568464 | e_abs: 8.589931e-02  \n",
      "ite 9 : p_8 =-4.15685 p_9 =-4.2314314 | e_abs: 7.458497e-02  \n",
      "ite 10: p_9 =-4.23143 p_10=-4.2962022 | e_abs: 6.477083e-02  \n",
      "ite 11: p_10=-4.29620 p_11=-4.3524686 | e_abs: 5.626635e-02  \n",
      "ite 12: p_11=-4.35247 p_12=-4.4013673 | e_abs: 4.889866e-02  \n",
      "ite 13: p_12=-4.40137 p_13=-4.4438820 | e_abs: 4.251471e-02  \n",
      "ite 14: p_13=-4.44388 p_14=-4.4808628 | e_abs: 3.698083e-02  \n",
      "ite 15: p_14=-4.48086 p_15=-4.5130440 | e_abs: 3.218124e-02  \n",
      "ite 16: p_15=-4.51304 p_16=-4.5410600 | e_abs: 2.801600e-02  \n",
      "ite 17: p_16=-4.54106 p_17=-4.5654591 | e_abs: 2.439907e-02  \n",
      "ite 18: p_17=-4.56546 p_18=-4.5867155 | e_abs: 2.125639e-02  \n",
      "ite 19: p_18=-4.58672 p_19=-4.6052398 | e_abs: 1.852426e-02  \n",
      "ite 20: p_19=-4.60524 p_20=-4.6213876 | e_abs: 1.614780e-02  \n",
      "ite 21: p_20=-4.62139 p_21=-4.6354673 | e_abs: 1.407972e-02  \n",
      "ite 22: p_21=-4.63547 p_22=-4.6477465 | e_abs: 1.227923e-02  \n",
      "ite 23: p_22=-4.64775 p_23=-4.6584576 | e_abs: 1.071109e-02  \n",
      "ite 24: p_23=-4.65846 p_24=-4.6678024 | e_abs: 9.344830e-03  \n",
      "ite 25: p_24=-4.66780 p_25=-4.6759565 | e_abs: 8.154099e-03  \n",
      "ite 26: p_25=-4.67596 p_26=-4.6830726 | e_abs: 7.116055e-03  \n",
      "ite 27: p_26=-4.68307 p_27=-4.6892835 | e_abs: 6.210897e-03  \n",
      "ite 28: p_27=-4.68928 p_28=-4.6947049 | e_abs: 5.421442e-03  \n",
      "ite 29: p_28=-4.69470 p_29=-4.6994377 | e_abs: 4.732768e-03  \n",
      "ite 30: p_29=-4.69944 p_30=-4.7035696 | e_abs: 4.131909e-03  \n",
      "ite 31: p_30=-4.70357 p_31=-4.7071772 | e_abs: 3.607588e-03  \n",
      "ite 32: p_31=-4.70718 p_32=-4.7103272 | e_abs: 3.149997e-03  \n",
      "ite 33: p_32=-4.71033 p_33=-4.7130778 | e_abs: 2.750596e-03  \n",
      "ite 34: p_33=-4.71308 p_34=-4.7154797 | e_abs: 2.401952e-03  \n",
      "ite 35: p_34=-4.71548 p_35=-4.7175773 | e_abs: 2.097586e-03  \n",
      "ite 36: p_35=-4.71758 p_36=-4.7194092 | e_abs: 1.831855e-03  \n",
      "ite 37: p_36=-4.71941 p_37=-4.7210090 | e_abs: 1.599839e-03  \n",
      "ite 38: p_37=-4.72101 p_38=-4.7224063 | e_abs: 1.397249e-03  \n",
      "ite 39: p_38=-4.72241 p_39=-4.7236266 | e_abs: 1.220342e-03  \n",
      "ite 40: p_39=-4.72363 p_40=-4.7246924 | e_abs: 1.065857e-03  \n",
      "ite 41: p_40=-4.72469 p_41=-4.7256234 | e_abs: 9.309452e-04  \n",
      "ite 42: p_41=-4.72562 p_42=-4.7264365 | e_abs: 8.131235e-04  \n",
      "ite 43: p_42=-4.72644 p_43=-4.7271467 | e_abs: 7.102237e-04  \n",
      "ite 44: p_43=-4.72715 p_44=-4.7277671 | e_abs: 6.203534e-04  \n",
      "ite 45: p_44=-4.72777 p_45=-4.7283090 | e_abs: 5.418610e-04  \n",
      "ite 46: p_45=-4.72831 p_46=-4.7287823 | e_abs: 4.733047e-04  \n",
      "ite 47: p_46=-4.72878 p_47=-4.7291957 | e_abs: 4.134255e-04  \n",
      "ite 48: p_47=-4.72920 p_48=-4.7295568 | e_abs: 3.611245e-04  \n",
      "ite 49: p_48=-4.72956 p_49=-4.7298723 | e_abs: 3.154419e-04  \n",
      "ite 50: p_49=-4.72987 p_50=-4.7301478 | e_abs: 2.755397e-04  \n",
      "ite 51: p_50=-4.73015 p_51=-4.7303885 | e_abs: 2.406862e-04  \n",
      "ite 52: p_51=-4.73039 p_52=-4.7305987 | e_abs: 2.102422e-04  \n",
      "ite 53: p_52=-4.73060 p_53=-4.7307824 | e_abs: 1.836498e-04  \n",
      "ite 54: p_53=-4.73078 p_54=-4.7309428 | e_abs: 1.604213e-04  \n",
      "ite 55: p_54=-4.73094 p_55=-4.7310829 | e_abs: 1.401313e-04  \n",
      "ite 56: p_55=-4.73108 p_56=-4.7312053 | e_abs: 1.224078e-04  \n",
      "ite 57: p_56=-4.73121 p_57=-4.7313123 | e_abs: 1.069262e-04  \n",
      "ite 58: p_57=-4.73131 p_58=-4.7314057 | e_abs: 9.340286e-05  \n",
      "solución encontrada\n"
     ]
    },
    {
     "data": {
      "text/plain": "-4.73140566045163"
     },
     "execution_count": 27,
     "metadata": {},
     "output_type": "execute_result"
    }
   ],
   "source": [
    "g = lambda x: x + (x**2+6*x+6)/(x**2 + 5)\n",
    "met_punto_fijo(g, -3)"
   ],
   "metadata": {
    "collapsed": false,
    "pycharm": {
     "name": "#%%\n"
    }
   }
  },
  {
   "cell_type": "code",
   "execution_count": null,
   "outputs": [],
   "source": [],
   "metadata": {
    "collapsed": false,
    "pycharm": {
     "name": "#%%\n"
    }
   }
  }
 ],
 "metadata": {
  "kernelspec": {
   "display_name": "Python 3",
   "language": "python",
   "name": "python3"
  },
  "language_info": {
   "codemirror_mode": {
    "name": "ipython",
    "version": 2
   },
   "file_extension": ".py",
   "mimetype": "text/x-python",
   "name": "python",
   "nbconvert_exporter": "python",
   "pygments_lexer": "ipython2",
   "version": "2.7.6"
  }
 },
 "nbformat": 4,
 "nbformat_minor": 0
}