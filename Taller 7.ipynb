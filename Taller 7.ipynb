{
 "cells": [
  {
   "cell_type": "code",
   "execution_count": 3,
   "metadata": {
    "collapsed": true,
    "ExecuteTime": {
     "end_time": "2023-05-19T21:00:50.808332Z",
     "start_time": "2023-05-19T21:00:50.253834600Z"
    }
   },
   "outputs": [],
   "source": [
    "import numpy as np\n",
    "from pprint import pprint\n",
    "from sympy import *"
   ]
  },
  {
   "cell_type": "code",
   "execution_count": 4,
   "outputs": [],
   "source": [
    "def lu(A):\n",
    "    \"\"\"\n",
    "    Implementación del método LU\n",
    "    Entradas:\n",
    "    A -- matriz cuadrada\n",
    "\n",
    "    Salidas:\n",
    "    L, U -- matrices de la descomposición\n",
    "    None -- en caso de no ser posible la descomposición\n",
    "    \"\"\"\n",
    "    n = len(A)\n",
    "    # crear matrices nulas\n",
    "    L = [[0 for x in range(n)] for x in range(n)]\n",
    "    U = [[0 for x in range(n)] for x in range(n)]\n",
    "\n",
    "    # Doolittle\n",
    "    L[0][0] = 1\n",
    "    U[0][0] = A[0][0]\n",
    "\n",
    "    if abs(L[0][0]*U[0][0]) <= 1e-15:\n",
    "        print(\"Imposible descomponer\")\n",
    "        return None\n",
    "\n",
    "    for j in range(1, n):\n",
    "        U[0][j] = A[0][j]/L[0][0]\n",
    "        L[j][0] = A[j][0]/U[0][0]\n",
    "\n",
    "    for i in range(1, n-1):\n",
    "        L[i][i] = 1\n",
    "        s = sum([L[i][k]*U[k][i] for k in range(i)])\n",
    "        U[i][i] = A[i][i] - s\n",
    "\n",
    "        if abs(L[i][i]*U[i][i]) <= 1e-15:\n",
    "            print(\"Imposible descomponer\")\n",
    "            return None\n",
    "\n",
    "        for j in range(i+1, n):\n",
    "            s1 = sum([L[i][k]*U[k][j] for k in range(i)])\n",
    "            s2 = sum([L[j][k]*U[k][i] for k in range(i)])\n",
    "            U[i][j] = A[i][j] - s1\n",
    "            L[j][i] = (A[j][i] - s2)/U[i][i]\n",
    "\n",
    "    L[n-1][n-1] = 1.0\n",
    "    s3 = sum([L[n-1][k]*U[k][n-1] for k in range(n)])\n",
    "    U[n-1][n-1] = A[n-1][n-1] - s3\n",
    "\n",
    "    if abs(L[n-1][n-1]*U[n-1][n-1]) <= 1e-15:\n",
    "        print(\"Imposible descomponer\")\n",
    "        return None\n",
    "\n",
    "    print(\"Matriz L:\\n\")\n",
    "    pprint(Matrix(L))\n",
    "    print(\"Matriz U:\\n\")\n",
    "    pprint(Matrix(U))\n",
    "    return L, U"
   ],
   "metadata": {
    "collapsed": false,
    "ExecuteTime": {
     "end_time": "2023-05-19T21:01:10.647119200Z",
     "start_time": "2023-05-19T21:01:10.638044700Z"
    }
   }
  },
  {
   "cell_type": "code",
   "execution_count": 13,
   "outputs": [],
   "source": [
    "def distinf(x, y):\n",
    "    \"\"\"Implementación distancia dada por la norma infinito\"\"\"\n",
    "    return max([abs(x[i] - y[i]) for i in range(len(x))])\n",
    "\n",
    "\n",
    "def Jacobi(A, b, x0, TOL, MAX):\n",
    "    \"\"\"\n",
    "    Implementación del método de Jacobi\n",
    "    Entradas:\n",
    "    A -- matriz cuadrada\n",
    "    b -- vector\n",
    "    x0 -- aproximación inicial\n",
    "    TOL -- tolerancia\n",
    "    MAX -- número máximo de iteraciones\n",
    "\n",
    "    Salida:\n",
    "    x -- aproximación a solución del sistema Ax = b\n",
    "    None -- en caso de agotar las iteraciones o presentar errores\n",
    "    \"\"\"\n",
    "    n = len(A)\n",
    "    x = [0.0 for x in range(n)]\n",
    "    k = 1\n",
    "    while k <= MAX:\n",
    "        for i in range(n):\n",
    "            if abs(A[i][i]) <= 1e-15:\n",
    "                print(\"Imposible iterar\")\n",
    "                return None\n",
    "            s = sum([A[i][j]*x0[j] for j in range(n) if j != i])\n",
    "            x[i] = (b[i] - s)/A[i][i]\n",
    "        pprint(x)\n",
    "        if distinf(x, x0) < TOL:\n",
    "            print(r\"Solución encontrada\")\n",
    "            return x\n",
    "        k += 1\n",
    "        for i in range(n):\n",
    "            x0[i] = x[i]\n",
    "    print(\"Iteraciones agotadas\")\n",
    "    return None\n",
    "\n",
    "def GaussSeidel(A, b, x0, TOL, MAX):\n",
    "    \"\"\"\n",
    "    Implementación del método de Gauss-Seidel\n",
    "    Entradas:\n",
    "    A -- matriz cuadrada\n",
    "    b -- vector\n",
    "    x0 -- aproximación inicial\n",
    "    TOL -- tolerancia\n",
    "    MAX -- número máximo de iteraciones\n",
    "\n",
    "    Salida:\n",
    "    x -- aproximación a solución del sistema Ax = b\n",
    "    None -- en caso de agotar las iteraciones o presentar errores\n",
    "    \"\"\"\n",
    "    n = len(A)\n",
    "    x = [0.0 for x in range(n)]\n",
    "    k = 1\n",
    "    while k <= MAX:\n",
    "        for i in range(n):\n",
    "            if abs(A[i][i]) <= 1e-15:\n",
    "                print(\"Imposible iterar\")\n",
    "                return None\n",
    "            s1 = sum([A[i][j]*x[j] for j in range(i)])\n",
    "            s2 = sum([A[i][j]*x0[j] for j in range(i+1, n)])\n",
    "            x[i] = (b[i] - s1 - s2)/A[i][i]\n",
    "        pprint(x)\n",
    "        if distinf(x, x0) < TOL:\n",
    "            print(r\"Solución encontrada\")\n",
    "            return x\n",
    "        k += 1\n",
    "        for i in range(n):\n",
    "            x0[i] = x[i]\n",
    "    print(\"Iteraciones agotadas\")\n",
    "    return None"
   ],
   "metadata": {
    "collapsed": false,
    "ExecuteTime": {
     "end_time": "2023-05-19T21:05:47.850742800Z",
     "start_time": "2023-05-19T21:05:47.839753300Z"
    }
   }
  },
  {
   "cell_type": "code",
   "execution_count": 23,
   "outputs": [
    {
     "name": "stdout",
     "output_type": "stream",
     "text": [
      "[ 3.  1. -8.]\n"
     ]
    }
   ],
   "source": [
    "a = np.array([[11, -3, 0],\n",
    "              [-3, 6, -1],\n",
    "              [0, -1, 3]])\n",
    "b = np.array([30, 5, -25])\n",
    "sol = np.linalg.solve(a, b)\n",
    "print(sol)"
   ],
   "metadata": {
    "collapsed": false,
    "ExecuteTime": {
     "end_time": "2023-05-19T21:09:41.715926400Z",
     "start_time": "2023-05-19T21:09:41.691295800Z"
    }
   }
  },
  {
   "cell_type": "code",
   "execution_count": 6,
   "outputs": [
    {
     "name": "stdout",
     "output_type": "stream",
     "text": [
      "Matriz L:\n",
      "\n",
      "⎡        1                   0            0 ⎤\n",
      "⎢                                           ⎥\n",
      "⎢-0.272727272727273          1            0 ⎥\n",
      "⎢                                           ⎥\n",
      "⎣        0           -0.192982456140351  1.0⎦\n",
      "Matriz U:\n",
      "\n",
      "⎡11        -3.0               0        ⎤\n",
      "⎢                                      ⎥\n",
      "⎢0   5.18181818181818        -1.0      ⎥\n",
      "⎢                                      ⎥\n",
      "⎣0          0          2.80701754385965⎦\n"
     ]
    }
   ],
   "source": [
    "L, U = lu(a)"
   ],
   "metadata": {
    "collapsed": false,
    "ExecuteTime": {
     "end_time": "2023-05-19T21:01:53.430950100Z",
     "start_time": "2023-05-19T21:01:53.412949Z"
    }
   }
  },
  {
   "cell_type": "code",
   "execution_count": 16,
   "outputs": [
    {
     "name": "stdout",
     "output_type": "stream",
     "text": [
      "-0.2727272727272727 -0.19298245614035087 5.181818181818182 2.807017543859649\n"
     ]
    }
   ],
   "source": [
    "print(-3/11, -11/57, 57/11, 160/57)"
   ],
   "metadata": {
    "collapsed": false,
    "ExecuteTime": {
     "end_time": "2023-05-19T21:07:11.339994400Z",
     "start_time": "2023-05-19T21:07:11.322460900Z"
    }
   }
  },
  {
   "cell_type": "code",
   "execution_count": 26,
   "outputs": [
    {
     "name": "stdout",
     "output_type": "stream",
     "text": [
      "[ 30.          13.18181818 -22.45614035]\n",
      "[ 3.  1. -8.]\n"
     ]
    }
   ],
   "source": [
    "L = np.array(L)\n",
    "z = np.linalg.solve(L, b)\n",
    "print(z)\n",
    "U = np.array(U)\n",
    "x = np.linalg.solve(U, z)\n",
    "print(x)"
   ],
   "metadata": {
    "collapsed": false,
    "ExecuteTime": {
     "end_time": "2023-05-19T21:10:17.440244300Z",
     "start_time": "2023-05-19T21:10:17.410654900Z"
    }
   }
  },
  {
   "cell_type": "code",
   "execution_count": 53,
   "outputs": [
    {
     "name": "stdout",
     "output_type": "stream",
     "text": [
      "Matriz A:\n",
      "[[11 -3  0] \n",
      " [-3  6 -1] \n",
      " [ 0 -1  3]]\n",
      "Vector b:\n",
      "[ 30   5 -25]\n",
      "Semilla x0:\n",
      "[2, 0, -7]\n",
      "Iteración de Jacobi\n",
      "[2.727272727272727, 0.6666666666666666, -8.333333333333334]\n",
      "[2.909090909090909, 0.808080808080808, -8.11111111111111]\n",
      "[2.9476584022038566, 0.936026936026936, -8.063973063973064]\n",
      "[2.982552800734619, 0.9631670237730843, -8.021324354657688]\n",
      "Iteraciones agotadas\n",
      "[2, 0, -7]\n"
     ]
    }
   ],
   "source": [
    "print(\"Matriz A:\")\n",
    "pprint(a)\n",
    "print(\"Vector b:\")\n",
    "pprint(b)\n",
    "print(\"Semilla x0:\")\n",
    "sem=[2, 0, -7]\n",
    "x0=sem.copy()\n",
    "print(x0)\n",
    "print(\"Iteración de Jacobi\")\n",
    "Jacobi(a, b, x0, 1e-4, 4)"
   ],
   "metadata": {
    "collapsed": false,
    "ExecuteTime": {
     "end_time": "2023-05-19T21:34:38.675210200Z",
     "start_time": "2023-05-19T21:34:38.660748800Z"
    }
   }
  },
  {
   "cell_type": "code",
   "execution_count": 54,
   "outputs": [
    {
     "name": "stdout",
     "output_type": "stream",
     "text": [
      "Matriz A:\n",
      "[[11 -3  0] \n",
      " [-3  6 -1] \n",
      " [ 0 -1  3]]\n",
      "Vector b:\n",
      "[ 30   5 -25]\n",
      "Semilla x0:\n",
      "[2, 0, -7]\n",
      "m\n",
      "[2.727272727272727, 1.0303030303030303, -7.98989898989899]\n",
      "[3.0082644628099175, 1.0058157330884605, -7.998061422303846]\n",
      "[3.001586109024126, 1.0011161507947552, -7.999627949735082]\n",
      "[3.000304404762206, 1.0002142107585892, -7.999928596413803]\n",
      "Iteraciones agotadas\n"
     ]
    }
   ],
   "source": [
    "print(\"Matriz A:\")\n",
    "pprint(a)\n",
    "print(\"Vector b:\")\n",
    "pprint(b)\n",
    "print(\"Semilla x0:\")\n",
    "x0=sem.copy()\n",
    "print(x0)\n",
    "print('m')\n",
    "GaussSeidel(a, b, x0, 1e-4, 4)"
   ],
   "metadata": {
    "collapsed": false,
    "ExecuteTime": {
     "end_time": "2023-05-19T21:34:52.998316600Z",
     "start_time": "2023-05-19T21:34:52.984803600Z"
    }
   }
  },
  {
   "cell_type": "code",
   "execution_count": null,
   "outputs": [],
   "source": [],
   "metadata": {
    "collapsed": false
   }
  }
 ],
 "metadata": {
  "kernelspec": {
   "display_name": "Python 3",
   "language": "python",
   "name": "python3"
  },
  "language_info": {
   "codemirror_mode": {
    "name": "ipython",
    "version": 2
   },
   "file_extension": ".py",
   "mimetype": "text/x-python",
   "name": "python",
   "nbconvert_exporter": "python",
   "pygments_lexer": "ipython2",
   "version": "2.7.6"
  }
 },
 "nbformat": 4,
 "nbformat_minor": 0
}
