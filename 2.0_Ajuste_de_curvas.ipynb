{
 "cells": [
  {
   "cell_type": "markdown",
   "metadata": {
    "collapsed": true,
    "pycharm": {
     "name": "#%% md\n"
    }
   },
   "source": [
    "## Polinomio de interpolación de Lagrange"
   ]
  },
  {
   "cell_type": "markdown",
   "source": [
    "[![Open In Colab](https://colab.research.google.com/assets/colab-badge.svg)](https://colab.research.google.com/github/caramirezs/MetNum_POLI/blob/main/2.0_Ajuste_de_curvas.ipynb)"
   ],
   "metadata": {
    "collapsed": false,
    "pycharm": {
     "name": "#%% md\n"
    }
   }
  },
  {
   "cell_type": "markdown",
   "source": [
    "# Ajuste de curvas"
   ],
   "metadata": {
    "collapsed": false,
    "pycharm": {
     "name": "#%% md\n"
    }
   }
  },
  {
   "cell_type": "code",
   "execution_count": 2,
   "outputs": [],
   "source": [
    "import numpy as np\n",
    "import sympy as sym\n",
    "import matplotlib.pyplot as plt"
   ],
   "metadata": {
    "collapsed": false,
    "pycharm": {
     "name": "#%%\n"
    }
   }
  },
  {
   "cell_type": "code",
   "execution_count": 3,
   "outputs": [
    {
     "name": "stdout",
     "output_type": "stream",
     "text": [
      "    valores de fi:  [6 4 5 4 3]\n",
      "divisores en L(i):  [ 720.  -63.   48. -144. 1680.]\n",
      "\n",
      "Polinomio de Lagrange, expresiones\n",
      "(x - 12)*(x - 8)*(x - 6)*(x - 5)/120 - 4*(x - 12)*(x - 8)*(x - 6)*(x - 2)/63 + 5*(x - 12)*(x - 8)*(x - 5)*(x - 2)/48 - (x - 12)*(x - 6)*(x - 5)*(x - 2)/36 + (x - 8)*(x - 6)*(x - 5)*(x - 2)/560\n",
      "\n",
      "Polinomio de Lagrange: \n",
      "29*x**4/1260 - 229*x**3/360 + 15103*x**2/2520 - 1349*x/60 + 222/7\n"
     ]
    },
    {
     "data": {
      "text/plain": "<Figure size 432x288 with 1 Axes>",
      "image/png": "[encoded data removed]"
     },
     "metadata": {
      "needs_background": "light"
     },
     "output_type": "display_data"
    }
   ],
   "source": [
    "# Interpolacion de Lagrange\n",
    "# INGRESO , Datos de prueba\n",
    "xi = np.array([2, 5, 6, 8, 12])\n",
    "fi = np.array([6, 4, 5, 4, 3])\n",
    "\n",
    "# PROCEDIMIENTO\n",
    "n = len(xi)\n",
    "x = sym.Symbol('x')\n",
    "polinomio = 0\n",
    "divisorL = np.zeros(n, dtype = float)\n",
    "for i in range(0,n,1):\n",
    "\n",
    "    # Termino de Lagrange\n",
    "    numerador = 1\n",
    "    denominador = 1\n",
    "    for j  in range(0,n,1):\n",
    "        if (j!=i):\n",
    "            numerador = numerador*(x-xi[j])\n",
    "            denominador = denominador*(xi[i]-xi[j])\n",
    "    terminoLi = numerador/denominador\n",
    "\n",
    "    polinomio = polinomio + terminoLi*fi[i]\n",
    "    divisorL[i] = denominador\n",
    "\n",
    "# simplifica el polinomio\n",
    "polisimple = polinomio.expand()\n",
    "\n",
    "# para evaluación numérica\n",
    "px = sym.lambdify(x,polisimple)\n",
    "\n",
    "# Puntos para la gráfica\n",
    "muestras = 101\n",
    "a = np.min(xi)\n",
    "b = np.max(xi)\n",
    "pxi = np.linspace(a,b,muestras)\n",
    "pfi = px(pxi)\n",
    "\n",
    "# SALIDA\n",
    "print('    valores de fi: ',fi)\n",
    "print('divisores en L(i): ',divisorL)\n",
    "print()\n",
    "print('Polinomio de Lagrange, expresiones')\n",
    "print(polinomio)\n",
    "print()\n",
    "print('Polinomio de Lagrange: ')\n",
    "print(polisimple)\n",
    "\n",
    "# Gráfica\n",
    "plt.plot(xi,fi,'o', label = 'Puntos')\n",
    "plt.plot(pxi,pfi, label = 'Polinomio')\n",
    "plt.legend()\n",
    "plt.xlabel('xi')\n",
    "plt.ylabel('fi')\n",
    "plt.title('Interpolación Lagrange')\n",
    "plt.show()"
   ],
   "metadata": {
    "collapsed": false,
    "pycharm": {
     "name": "#%%\n"
    }
   }
  }
 ],
 "metadata": {
  "kernelspec": {
   "display_name": "Python 3",
   "language": "python",
   "name": "python3"
  },
  "language_info": {
   "codemirror_mode": {
    "name": "ipython",
    "version": 2
   },
   "file_extension": ".py",
   "mimetype": "text/x-python",
   "name": "python",
   "nbconvert_exporter": "python",
   "pygments_lexer": "ipython2",
   "version": "2.7.6"
  }
 },
 "nbformat": 4,
 "nbformat_minor": 0
}