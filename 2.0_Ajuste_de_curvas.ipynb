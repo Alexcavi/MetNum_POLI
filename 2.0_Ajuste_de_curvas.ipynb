{
 "cells": [
  {
   "cell_type": "markdown",
   "metadata": {
    "collapsed": true,
    "pycharm": {
     "name": "#%% md\n"
    }
   },
   "source": [
    "# Ajuste de curvas"
   ]
  },
  {
   "cell_type": "markdown",
   "source": [
    "[![Open In Colab](https://colab.research.google.com/assets/colab-badge.svg)](https://colab.research.google.com/github/caramirezs/MetNum_POLI/blob/main/2.0_Ajuste_de_curvas.ipynb)"
   ],
   "metadata": {
    "collapsed": false,
    "pycharm": {
     "name": "#%% md\n"
    }
   }
  },
  {
   "cell_type": "markdown",
   "source": [
    "## Polinomio de interpolación de Lagrange"
   ],
   "metadata": {
    "collapsed": false,
    "pycharm": {
     "name": "#%% md\n"
    }
   }
  },
  {
   "cell_type": "code",
   "execution_count": 3,
   "outputs": [],
   "source": [
    "import numpy as np\n",
    "import sympy as sym\n",
    "import matplotlib.pyplot as plt\n"
   ],
   "metadata": {
    "collapsed": false,
    "pycharm": {
     "name": "#%%\n"
    }
   }
  },
  {
   "cell_type": "code",
   "execution_count": 2,
   "outputs": [
    {
     "name": "stdout",
     "output_type": "stream",
     "text": [
      "    valores de fi:  [ -5   1 -29  19]\n",
      "divisores en L(i):  [ 18. -10. -90.  18.]\n",
      "\n",
      "Polinomio de Lagrange, expresiones\n",
      "29*(x - 4)*(x - 3)*(x - 1)/90 - 5*(x - 4)*(x - 3)*(x + 2)/18 - (x - 4)*(x - 1)*(x + 2)/10 + 19*(x - 3)*(x - 1)*(x + 2)/18\n",
      "\n",
      "Polinomio de Lagrange: \n",
      "x**3 - 3*x**2 + 2*x - 5\n"
     ]
    },
    {
     "data": {
      "text/plain": "<Figure size 640x480 with 1 Axes>",
      "image/png": "[encoded data removed]"
     },
     "metadata": {},
     "output_type": "display_data"
    }
   ],
   "source": [
    "# Interpolacion de Lagrange\n",
    "# INGRESO , Datos de prueba\n",
    "xi = np.array([1, 3, -2, 4])\n",
    "fi = np.array([-5, 1, -29, 19])\n",
    "\n",
    "# PROCEDIMIENTO\n",
    "n = len(xi)\n",
    "x = sym.Symbol('x')\n",
    "polinomio = 0\n",
    "divisorL = np.zeros(n, dtype = float)\n",
    "for i in range(0,n,1):\n",
    "    # Termino de Lagrange\n",
    "    numerador = 1\n",
    "    denominador = 1\n",
    "    for j  in range(0,n,1):\n",
    "        if (j!=i):\n",
    "            numerador = numerador*(x-xi[j])\n",
    "            denominador = denominador*(xi[i]-xi[j])\n",
    "    terminoLi = numerador/denominador\n",
    "\n",
    "    polinomio = polinomio + terminoLi*fi[i]\n",
    "    divisorL[i] = denominador\n",
    "\n",
    "# simplifica el polinomio\n",
    "polisimple = polinomio.expand()\n",
    "\n",
    "# para evaluación numérica\n",
    "px = sym.lambdify(x,polisimple)\n",
    "\n",
    "# Puntos para la gráfica\n",
    "muestras = 1001\n",
    "a = np.min(xi)\n",
    "b = np.max(xi)\n",
    "pxi = np.linspace(0.9*a,1.1*b,muestras)\n",
    "pfi = px(pxi)\n",
    "\n",
    "# SALIDA\n",
    "print('    valores de fi: ',fi)\n",
    "print('divisores en L(i): ',divisorL)\n",
    "print()\n",
    "print('Polinomio de Lagrange, expresiones')\n",
    "print(polinomio)\n",
    "print()\n",
    "print('Polinomio de Lagrange: ')\n",
    "print(polisimple)\n",
    "\n",
    "# Gráfica\n",
    "plt.plot(xi,fi,'o', label = 'Puntos')\n",
    "plt.plot(pxi,pfi, label = 'Polinomio')\n",
    "plt.legend()\n",
    "plt.xlabel('xi')\n",
    "plt.ylabel('fi')\n",
    "plt.title('Interpolación Lagrange')\n",
    "plt.show()"
   ],
   "metadata": {
    "collapsed": false,
    "pycharm": {
     "name": "#%%\n"
    }
   }
  },
  {
   "cell_type": "markdown",
   "source": [
    "# Método de Newton"
   ],
   "metadata": {
    "collapsed": false,
    "pycharm": {
     "name": "#%% md\n"
    }
   }
  },
  {
   "cell_type": "code",
   "execution_count": 1,
   "outputs": [],
   "source": [
    "from math import *\n",
    "from pprint import pprint\n",
    "\n",
    "\n",
    "def NewtonPol(dat):\n",
    "    \"\"\"\n",
    "    Implementación del interpolador de Newton\n",
    "    Entradas:\n",
    "    dat -- lista de puntos (x, y) en el plano\n",
    "\n",
    "    Salidas:\n",
    "    F -- tabla de diferencias divididas\n",
    "    P -- función de interpolación\n",
    "    \"\"\"\n",
    "    n = len(dat)-1\n",
    "    F = [[0 for x in dat] for x in dat]  # crear tabla nula\n",
    "\n",
    "    for i, p in enumerate(dat):  # condiciones iniciales\n",
    "        F[i][0] = p[1]\n",
    "\n",
    "    for i in range(1, n+1):  # tabla de diferencias divididas\n",
    "        for j in range(1, i+1):\n",
    "            F[i][j] = (F[i][j-1]-F[i-1][j-1])/(dat[i][0]-dat[i-j][0])\n",
    "\n",
    "    def L(k, x):\n",
    "        \"\"\"Implementación funciones L_k(x)\"\"\"\n",
    "        # polinomio $L_k(x)=\\prod\\limits_{i \\leq k}(x-x_i)$\n",
    "        out = 1\n",
    "        for i, p in enumerate(dat):\n",
    "            if i <= k:\n",
    "                out *= (x - p[0])\n",
    "        return out\n",
    "\n",
    "    def P(x):\n",
    "        \"\"\"Implementación polinomio P(x)\"\"\"\n",
    "        # $P(x)=f[x_0]+\\sum_{k=1}^{n}f[x_0,x_1,\\ldots,x_k]L_{k-1}(x)$\n",
    "        newt = 0\n",
    "        for i in range(1, n+1):\n",
    "            newt += F[i][i]*L(i-1, x)\n",
    "        return newt + F[0][0]\n",
    "\n",
    "    return F, P\n",
    "\n"
   ],
   "metadata": {
    "collapsed": false,
    "pycharm": {
     "name": "#%%\n"
    }
   }
  },
  {
   "cell_type": "code",
   "execution_count": 2,
   "outputs": [
    {
     "name": "stdout",
     "output_type": "stream",
     "text": [
      "Tabla de diferencias divididas:\n",
      "[[-1.0, 0, 0, 0],\n",
      " [0.49999999999999994, 0.7161972439135291, 0, 0],\n",
      " [0.7071067811865476, 0.7910896313685745, 0.031785316435797115, 0],\n",
      " [1.0, 0.37292322857805654, -0.3993195002344047, -0.1372249251275759]]\n",
      "Evaluar el polinomio en x = 0:\n"
     ]
    }
   ],
   "source": [
    "import numpy as np\n",
    "datost = [(-np.pi/2,np.sin(-np.pi/2)), (np.pi/6,np.sin(np.pi/6)), (np.pi/4,np.sin(np.pi/4)), (np.pi/2,np.sin(np.pi/2))]\n",
    "T, P = NewtonPol(datost)\n",
    "print(\"Tabla de diferencias divididas:\")\n",
    "pprint(T)\n",
    "print(\"Evaluar el polinomio en x = 0:\")\n"
   ],
   "metadata": {
    "collapsed": false,
    "pycharm": {
     "name": "#%%\n"
    }
   }
  },
  {
   "cell_type": "code",
   "execution_count": 5,
   "outputs": [
    {
     "data": {
      "text/plain": "0.8693248610171076"
     },
     "execution_count": 5,
     "metadata": {},
     "output_type": "execute_result"
    }
   ],
   "source": [
    "P(np.pi/3)"
   ],
   "metadata": {
    "collapsed": false,
    "pycharm": {
     "name": "#%%\n"
    }
   }
  },
  {
   "cell_type": "code",
   "execution_count": 6,
   "outputs": [
    {
     "data": {
      "text/plain": "0.8660254037844386"
     },
     "execution_count": 6,
     "metadata": {},
     "output_type": "execute_result"
    }
   ],
   "source": [
    "np.sin(np.pi/3)"
   ],
   "metadata": {
    "collapsed": false,
    "pycharm": {
     "name": "#%%\n"
    }
   }
  },
  {
   "cell_type": "code",
   "execution_count": 18,
   "outputs": [
    {
     "data": {
      "text/plain": "<Figure size 432x288 with 1 Axes>",
      "image/png": "[encoded data removed]"
     },
     "metadata": {
      "needs_background": "light"
     },
     "output_type": "display_data"
    }
   ],
   "source": [
    "# Gráfica\n",
    "f = lambda x: np.sin(x)\n",
    "pxi = np.linspace(-np.pi,np.pi,1000)\n",
    "pfi = P(pxi)\n",
    "xi = [-np.pi/2, np.pi/6, np.pi/4, np.pi/2]\n",
    "fi = f(xi)\n",
    "plt.plot(xi,fi,'o', label = 'Puntos')\n",
    "plt.plot(pxi,pfi , label = 'Polinomio')\n",
    "plt.plot(pxi,f(pxi) , label = 'función')\n",
    "plt.legend()\n",
    "plt.xlabel('xi')\n",
    "plt.ylabel('fi')\n",
    "plt.title('Interpolación Lagrange')\n",
    "plt.show()"
   ],
   "metadata": {
    "collapsed": false,
    "pycharm": {
     "name": "#%%\n"
    }
   }
  },
  {
   "cell_type": "markdown",
   "source": [
    "# Regresón Polinomial"
   ],
   "metadata": {
    "collapsed": false,
    "pycharm": {
     "name": "#%% md\n"
    }
   }
  },
  {
   "cell_type": "code",
   "execution_count": 116,
   "outputs": [],
   "source": [
    "import random\n",
    "a_0, a_1, a_2 = 10, 6, -3\n",
    "f = lambda x: a_0 + a_1*x + a_2*(x)**2\n",
    "def f_cuadrada(x):\n",
    "    noise = random.randrange(-100, 100, 1)/10\n",
    "    return a_0 + a_1*x + a_2*(x**2) + noise"
   ],
   "metadata": {
    "collapsed": false,
    "pycharm": {
     "name": "#%%\n"
    }
   }
  },
  {
   "cell_type": "code",
   "execution_count": 133,
   "outputs": [
    {
     "name": "stdout",
     "output_type": "stream",
     "text": [
      "[-5.    -4.999 -4.998 ...  4.998  4.999  5.   ]\n",
      "[-96.1, -73.35, -58.0, -54.65, -26.2, -14.35, -15.1, -5.65, 4.4, 11.85, 13.0, 3.65, 11.6, 5.35, 11.8, 6.65, 8.6, -15.35, -5.4, -25.75, -27.3]\n"
     ]
    },
    {
     "data": {
      "text/plain": "<Figure size 432x288 with 1 Axes>",
      "image/png": "[encoded data removed]"
     },
     "metadata": {
      "needs_background": "light"
     },
     "output_type": "display_data"
    }
   ],
   "source": [
    "x = np.linspace(-5,5,21)\n",
    "xi = np.linspace(-5,5,10001)\n",
    "images = list()\n",
    "for i in x:\n",
    "    images.append(round(f_cuadrada(i),2))\n",
    "x = np.array(x)\n",
    "y = np.array(images)\n",
    "print(xi)\n",
    "print(images)\n",
    "plt.plot(x, images,'o')\n",
    "#plt.plot(xi, f(xi),'-')\n",
    "plt.show()"
   ],
   "metadata": {
    "collapsed": false,
    "pycharm": {
     "name": "#%%\n"
    }
   }
  },
  {
   "cell_type": "code",
   "execution_count": 134,
   "outputs": [
    {
     "name": "stdout",
     "output_type": "stream",
     "text": [
      "0.0 192.5 0.0 3166.625\n",
      "-340.29999999999995 1136.45 -7164.2\n"
     ]
    }
   ],
   "source": [
    "sum_xi = np.sum(x)\n",
    "sum_xi_2 = np.sum(x**2)\n",
    "sum_xi_3 = np.sum(x**3)\n",
    "sum_xi_4 = np.sum(x**4)\n",
    "sum_yi = np.sum(y)\n",
    "sum_xiyi = np.sum(x*y)\n",
    "sum_xi_2yi = np.sum(x**2*y)\n",
    "print(sum_xi, sum_xi_2, sum_xi_3, sum_xi_4)\n",
    "print(sum_yi, sum_xiyi, sum_xi_2yi)"
   ],
   "metadata": {
    "collapsed": false,
    "pycharm": {
     "name": "#%%\n"
    }
   }
  },
  {
   "cell_type": "code",
   "execution_count": 135,
   "outputs": [
    {
     "name": "stdout",
     "output_type": "stream",
     "text": [
      "[-2.88492377  5.90363636 10.24037267]\n"
     ]
    }
   ],
   "source": [
    "a = np.array([[sum_xi_4, sum_xi_3, sum_xi_2],\n",
    "              [sum_xi_3, sum_xi_2, sum_xi],\n",
    "              [sum_xi_2, sum_xi, len(x)]])\n",
    "b = np.array([sum_xi_2yi, sum_xiyi ,sum_yi])\n",
    "solve = np.linalg.solve(a, b)\n",
    "print(solve)"
   ],
   "metadata": {
    "collapsed": false,
    "pycharm": {
     "name": "#%%\n"
    }
   }
  },
  {
   "cell_type": "code",
   "execution_count": 136,
   "outputs": [
    {
     "data": {
      "text/plain": "<Figure size 432x288 with 1 Axes>",
      "image/png": "[encoded data removed]"
     },
     "metadata": {
      "needs_background": "light"
     },
     "output_type": "display_data"
    }
   ],
   "source": [
    "g = lambda x: solve[0]*x**2 + solve[1]*x + solve[2]\n",
    "plt.plot(x, images,'o')\n",
    "plt.plot(xi, f(xi),'-')\n",
    "plt.plot(xi, g(xi),'-')\n",
    "plt.show()"
   ],
   "metadata": {
    "collapsed": false,
    "pycharm": {
     "name": "#%%\n"
    }
   }
  },
  {
   "cell_type": "code",
   "execution_count": null,
   "outputs": [],
   "source": [
    "import random\n",
    "a_0, a_1 = 7, 0.323\n",
    "f = lambda x: a_0*np.exp(a_1*x)\n",
    "def f_noise(x):\n",
    "    noise = random.randrange(-500, 500, 1)/200\n",
    "    return a_0*np.exp(a_1*x) + noise"
   ],
   "metadata": {
    "collapsed": false,
    "pycharm": {
     "name": "#%%\n"
    }
   }
  },
  {
   "cell_type": "code",
   "execution_count": null,
   "outputs": [],
   "source": [
    "x = np.linspace(0,5,21)\n",
    "xi = np.linspace(np.min(x),np.max(x),1001)\n",
    "y = list()\n",
    "for i in x:\n",
    "    y.append(round(f_noise(i),2))\n",
    "y = np.array(y)\n",
    "plt.plot(x, y,'o')\n",
    "# plt.plot(xi, f(xi),'-')\n",
    "plt.show()"
   ],
   "metadata": {
    "collapsed": false,
    "pycharm": {
     "name": "#%%\n"
    }
   }
  },
  {
   "cell_type": "code",
   "execution_count": null,
   "outputs": [],
   "source": [
    "print(x)\n",
    "print(y)"
   ],
   "metadata": {
    "collapsed": false,
    "pycharm": {
     "name": "#%%\n"
    }
   }
  },
  {
   "cell_type": "code",
   "execution_count": null,
   "outputs": [],
   "source": [
    "# Evaluar el logaritmo natural de y\n",
    "Y = np.log(y)\n",
    "print(Y)"
   ],
   "metadata": {
    "collapsed": false,
    "pycharm": {
     "name": "#%%\n"
    }
   }
  },
  {
   "cell_type": "code",
   "execution_count": null,
   "outputs": [],
   "source": [
    "sum_xi = np.sum(x)\n",
    "sum_xi_2 = np.sum(x**2)\n",
    "sum_yi = np.sum(y)\n",
    "sum_xiyi = np.sum(x*y)\n",
    "a = np.array([[sum_xi_2, sum_xi],\n",
    "              [sum_xi, len(x)]])\n",
    "b = np.array([sum_xiyi ,sum_yi])\n",
    "solve = np.linalg.solve(a, b)\n",
    "print(solve)"
   ],
   "metadata": {
    "collapsed": false,
    "pycharm": {
     "name": "#%%\n"
    }
   }
  },
  {
   "cell_type": "markdown",
   "source": [
    "# Transformaciones"
   ],
   "metadata": {
    "collapsed": false,
    "pycharm": {
     "name": "#%% md\n"
    }
   }
  },
  {
   "cell_type": "code",
   "execution_count": 1,
   "outputs": [
    {
     "ename": "NameError",
     "evalue": "name 'np' is not defined",
     "output_type": "error",
     "traceback": [
      "\u001B[1;31m---------------------------------------------------------------------------\u001B[0m",
      "\u001B[1;31mNameError\u001B[0m                                 Traceback (most recent call last)",
      "Input \u001B[1;32mIn [1]\u001B[0m, in \u001B[0;36m<cell line: 6>\u001B[1;34m()\u001B[0m\n\u001B[0;32m      4\u001B[0m x \u001B[38;5;241m=\u001B[39m [\u001B[38;5;241m0.\u001B[39m, \u001B[38;5;241m0.25\u001B[39m, \u001B[38;5;241m0.5\u001B[39m, \u001B[38;5;241m1.25\u001B[39m, \u001B[38;5;241m1.5\u001B[39m, \u001B[38;5;241m1.75\u001B[39m, \u001B[38;5;241m2.25\u001B[39m, \u001B[38;5;241m2.5\u001B[39m, \u001B[38;5;241m2.75\u001B[39m, \u001B[38;5;241m3\u001B[39m, \u001B[38;5;241m3.75\u001B[39m, \u001B[38;5;241m4\u001B[39m, \u001B[38;5;241m4.5\u001B[39m, \u001B[38;5;241m5\u001B[39m]\n\u001B[0;32m      5\u001B[0m y \u001B[38;5;241m=\u001B[39m [\u001B[38;5;241m6.55\u001B[39m, \u001B[38;5;241m7.71\u001B[39m, \u001B[38;5;241m6.3\u001B[39m, \u001B[38;5;241m10.19\u001B[39m, \u001B[38;5;241m9.15\u001B[39m, \u001B[38;5;241m9.96\u001B[39m, \u001B[38;5;241m15.45\u001B[39m, \u001B[38;5;241m13.43\u001B[39m, \u001B[38;5;241m15.11\u001B[39m, \u001B[38;5;241m17.16\u001B[39m, \u001B[38;5;241m25.44\u001B[39m, \u001B[38;5;241m27.97\u001B[39m, \u001B[38;5;241m31.17\u001B[39m, \u001B[38;5;241m37.57\u001B[39m]\n\u001B[1;32m----> 6\u001B[0m x, y \u001B[38;5;241m=\u001B[39m \u001B[43mnp\u001B[49m\u001B[38;5;241m.\u001B[39marray(x), np\u001B[38;5;241m.\u001B[39marray(y)\n\u001B[0;32m      7\u001B[0m plt\u001B[38;5;241m.\u001B[39mplot(x, y,\u001B[38;5;124m'\u001B[39m\u001B[38;5;124mo\u001B[39m\u001B[38;5;124m'\u001B[39m)\n\u001B[0;32m      8\u001B[0m \u001B[38;5;66;03m# plt.plot(xi, f(xi),'-') ORIGINAL\u001B[39;00m\n",
      "\u001B[1;31mNameError\u001B[0m: name 'np' is not defined"
     ]
    }
   ],
   "source": [
    "# parámetros a_0, a_1 = 7, 0.323\n",
    "# función a_0*np.exp(a_1*x)\n",
    "\n",
    "x = [0., 0.25, 0.5, 1.25, 1.5, 1.75, 2.25, 2.5, 2.75, 3, 3.75, 4, 4.5, 5]\n",
    "y = [6.55, 7.71, 6.3, 10.19, 9.15, 9.96, 15.45, 13.43, 15.11, 17.16, 25.44, 27.97, 31.17, 37.57]\n",
    "x, y = np.array(x), np.array(y)\n",
    "plt.plot(x, y,'o')\n",
    "# plt.plot(xi, f(xi),'-') ORIGINAL\n",
    "plt.show()"
   ],
   "metadata": {
    "collapsed": false,
    "pycharm": {
     "name": "#%%\n"
    }
   }
  },
  {
   "cell_type": "markdown",
   "source": [
    "# Regresión Lineal"
   ],
   "metadata": {
    "collapsed": false,
    "pycharm": {
     "name": "#%% md\n"
    }
   }
  },
  {
   "cell_type": "code",
   "execution_count": 33,
   "outputs": [
    {
     "name": "stdout",
     "output_type": "stream",
     "text": [
      "sum_xi: 33.000, sum_xi_2: 110.375\n",
      "sum_yi: 233.160, sum_xiyi: 745.735\n",
      "Solución del sistema: [6.01865205 2.46746301]\n",
      "Regresión lineal: y = 6.019x + 2.467\n"
     ]
    }
   ],
   "source": [
    "x = [0., 0.25, 0.5, 1.25, 1.5, 1.75, 2.25, 2.5, 2.75, 3, 3.75, 4, 4.5, 5]\n",
    "y = [6.55, 7.71, 6.3, 10.19, 9.15, 9.96, 15.45, 13.43, 15.11, 17.16, 25.44, 27.97, 31.17, 37.57]\n",
    "x, y = np.array(x), np.array(y)\n",
    "\n",
    "sum_xi = np.sum(x)\n",
    "sum_xi_2 = np.sum(x**2)\n",
    "sum_yi = np.sum(y)\n",
    "sum_xiyi = np.sum(x*y)\n",
    "print(f'sum_xi: {sum_xi:.3f}, sum_xi_2: {sum_xi_2:.3f}')\n",
    "print(f'sum_yi: {sum_yi:.3f}, sum_xiyi: {sum_xiyi:.3f}')\n",
    "a = np.array([[sum_xi_2, sum_xi],\n",
    "              [sum_xi, len(x)]])\n",
    "b = np.array([sum_xiyi ,sum_yi])\n",
    "solve = np.linalg.solve(a, b)\n",
    "print(f'Solución del sistema: {solve}')\n",
    "print(f'Regresión lineal: y = {solve[0]:.3f}x + {solve[1]:.3f}')\n",
    "f_lin = lambda x: solve[0]*x + solve[1]"
   ],
   "metadata": {
    "collapsed": false,
    "pycharm": {
     "name": "#%%\n"
    }
   }
  },
  {
   "cell_type": "code",
   "execution_count": 34,
   "outputs": [
    {
     "data": {
      "text/plain": "<Figure size 432x288 with 1 Axes>",
      "image/png": "[encoded data removed]"
     },
     "metadata": {
      "needs_background": "light"
     },
     "output_type": "display_data"
    }
   ],
   "source": [
    "xi = np.linspace(np.min(x),np.max(x),1001)\n",
    "plt.plot(x, y,'o')\n",
    "#plt.plot(xi, f_lin(xi),'-')\n",
    "plt.show()"
   ],
   "metadata": {
    "collapsed": false,
    "pycharm": {
     "name": "#%%\n"
    }
   }
  },
  {
   "cell_type": "code",
   "execution_count": 35,
   "outputs": [
    {
     "name": "stdout",
     "output_type": "stream",
     "text": [
      "2.4674630136986284 [6.01865205]\n"
     ]
    },
    {
     "data": {
      "text/plain": "0.9080105568188285"
     },
     "execution_count": 35,
     "metadata": {},
     "output_type": "execute_result"
    }
   ],
   "source": [
    "from sklearn.linear_model import LinearRegression\n",
    "x_reshape = x.reshape(-1, 1)\n",
    "lin_reg = LinearRegression().fit(x_reshape, y)\n",
    "print(lin_reg.intercept_, lin_reg.coef_)\n",
    "lin_reg.score(x_reshape, y)"
   ],
   "metadata": {
    "collapsed": false,
    "pycharm": {
     "name": "#%%\n"
    }
   }
  },
  {
   "cell_type": "code",
   "execution_count": null,
   "outputs": [],
   "source": [
    "xi = np.linspace(np.min(x),np.max(x),1001)\n",
    "y_pred = lin_reg.predict(xi.reshape((-1,1)))\n",
    "plt.plot(x, y,'o')\n",
    "plt.plot(xi, y_pred,'-')\n",
    "plt.show()"
   ],
   "metadata": {
    "collapsed": false,
    "pycharm": {
     "name": "#%%\n"
    }
   }
  },
  {
   "cell_type": "code",
   "execution_count": 20,
   "outputs": [
    {
     "name": "stdout",
     "output_type": "stream",
     "text": [
      "33.0 110.375 418.5 1708.6484375\n",
      "233.15999999999997 745.735 2875.64375\n",
      "Regresión cuadrática: y = 1.220x^2 + 0.090x + 6.822\n"
     ]
    },
    {
     "data": {
      "text/plain": "<Figure size 432x288 with 1 Axes>",
      "image/png": "[encoded data removed]"
     },
     "metadata": {
      "needs_background": "light"
     },
     "output_type": "display_data"
    }
   ],
   "source": [
    "x = [0., 0.25, 0.5, 1.25, 1.5, 1.75, 2.25, 2.5, 2.75, 3, 3.75, 4, 4.5, 5]\n",
    "y = [6.55, 7.71, 6.3, 10.19, 9.15, 9.96, 15.45, 13.43, 15.11, 17.16, 25.44, 27.97, 31.17, 37.57]\n",
    "x, y = np.array(x), np.array(y)\n",
    "\n",
    "sum_xi = np.sum(x)\n",
    "sum_xi_2 = np.sum(x**2)\n",
    "sum_xi_3 = np.sum(x**3)\n",
    "sum_xi_4 = np.sum(x**4)\n",
    "sum_yi = np.sum(y)\n",
    "sum_xiyi = np.sum(x*y)\n",
    "sum_xi_2yi = np.sum(x**2*y)\n",
    "print(sum_xi, sum_xi_2, sum_xi_3, sum_xi_4)\n",
    "print(sum_yi, sum_xiyi, sum_xi_2yi)\n",
    "a = np.array([[sum_xi_4, sum_xi_3, sum_xi_2],\n",
    "              [sum_xi_3, sum_xi_2, sum_xi],\n",
    "              [sum_xi_2, sum_xi, len(x)]])\n",
    "b = np.array([sum_xi_2yi, sum_xiyi ,sum_yi])\n",
    "solve_2 = np.linalg.solve(a, b)\n",
    "f_cuad = lambda x: solve_2[0]*x**2 + solve_2[1]*x + solve_2[2]\n",
    "print(f'Regresión cuadrática: y = {solve_2[0]:.3f}x^2 + {solve_2[1]:.3f}x + {solve_2[2]:.3f}')\n",
    "xi = np.linspace(np.min(x),np.max(x),1001)\n",
    "plt.plot(x, y,'o')\n",
    "plt.plot(xi, f_lin(xi),'-')\n",
    "plt.plot(xi, f_cuad(xi),'-')\n",
    "plt.show()\n"
   ],
   "metadata": {
    "collapsed": false,
    "pycharm": {
     "name": "#%%\n"
    }
   }
  },
  {
   "cell_type": "markdown",
   "source": [
    "# Regresión exponencial"
   ],
   "metadata": {
    "collapsed": false,
    "pycharm": {
     "name": "#%% md\n"
    }
   }
  },
  {
   "cell_type": "code",
   "execution_count": 21,
   "outputs": [
    {
     "name": "stdout",
     "output_type": "stream",
     "text": [
      "[1.87946505 2.04251819 1.84054963 2.32140685 2.21375388 2.29857707\n",
      " 2.737609   2.59749101 2.71535678 2.84258109 3.23632274 3.33113251\n",
      " 3.43945609 3.62620586]\n"
     ]
    }
   ],
   "source": [
    "x = [0., 0.25, 0.5, 1.25, 1.5, 1.75, 2.25, 2.5, 2.75, 3, 3.75, 4, 4.5, 5]\n",
    "y = [6.55, 7.71, 6.3, 10.19, 9.15, 9.96, 15.45, 13.43, 15.11, 17.16, 25.44, 27.97, 31.17, 37.57]\n",
    "x, y = np.array(x), np.array(y)\n",
    "Y = np.log(y)\n",
    "print(Y)"
   ],
   "metadata": {
    "collapsed": false,
    "pycharm": {
     "name": "#%%\n"
    }
   }
  },
  {
   "cell_type": "code",
   "execution_count": null,
   "outputs": [],
   "source": [
    "x = [0., 0.25, 0.5, 1.25, 1.5, 1.75, 2.25, 2.5, 2.75, 3, 3.75, 4, 4.5, 5]\n",
    "y = [6.55, 7.71, 6.3, 10.19, 9.15, 9.96, 15.45, 13.43, 15.11, 17.16, 25.44, 27.97, 31.17, 37.57]\n",
    "Y = [1.87946505, 2.04251819, 1.84054963, 2.32140685, 2.21375388, 2.29857707, 2.737609, 2.59749101, 2.71535678, 2.84258109, 3.23632274, 3.33113251, 3.43945609, 3.62620586]\n",
    "\n",
    "x, y = np.array(x), np.array(y)"
   ],
   "metadata": {
    "collapsed": false,
    "pycharm": {
     "name": "#%%\n"
    }
   }
  },
  {
   "cell_type": "code",
   "execution_count": 22,
   "outputs": [
    {
     "data": {
      "text/plain": "<Figure size 432x288 with 1 Axes>",
      "image/png": "[encoded data removed]"
     },
     "metadata": {
      "needs_background": "light"
     },
     "output_type": "display_data"
    }
   ],
   "source": [
    "plt.plot(x, Y,'ro')\n",
    "plt.show()"
   ],
   "metadata": {
    "collapsed": false,
    "pycharm": {
     "name": "#%%\n"
    }
   }
  },
  {
   "cell_type": "code",
   "execution_count": 27,
   "outputs": [
    {
     "name": "stdout",
     "output_type": "stream",
     "text": [
      "sum_xi: 33.000, sum_xi_2: 110.375\n",
      "sum_yi: 37.122, sum_xiyi: 99.393\n",
      "Solución del sistema: [0.36486185 1.79157033]\n",
      "Ecuación lineal (transformada semi-log): Y = 0.365x + 1.792\n"
     ]
    }
   ],
   "source": [
    "sum_xi = np.sum(x)\n",
    "sum_xi_2 = np.sum(x**2)\n",
    "sum_Yi = np.sum(Y)\n",
    "sum_xiYi = np.sum(x*Y)\n",
    "print(f'sum_xi: {sum_xi:.3f}, sum_xi_2: {sum_xi_2:.3f}')\n",
    "print(f'sum_yi: {sum_Yi:.3f}, sum_xiyi: {sum_xiYi:.3f}')\n",
    "a = np.array([[sum_xi_2, sum_xi],\n",
    "              [sum_xi, len(x)]])\n",
    "b = np.array([sum_xiYi ,sum_Yi])\n",
    "solve_3 = np.linalg.solve(a, b)\n",
    "print(f'Solución del sistema: {solve}')\n",
    "print(f'Regresión lineal (transformada semi-log): Y = {solve_3[0]:.3f}x + {solve_3[1]:.3f}')\n",
    "f_trans_lin = lambda x: solve_3[0]*x + solve_3[1]"
   ],
   "metadata": {
    "collapsed": false,
    "pycharm": {
     "name": "#%%\n"
    }
   }
  },
  {
   "cell_type": "code",
   "execution_count": 28,
   "outputs": [
    {
     "data": {
      "text/plain": "<Figure size 432x288 with 1 Axes>",
      "image/png": "[encoded data removed]"
     },
     "metadata": {
      "needs_background": "light"
     },
     "output_type": "display_data"
    }
   ],
   "source": [
    "xi = np.linspace(np.min(x),np.max(x),1001)\n",
    "plt.plot(x, Y,'ro')\n",
    "plt.plot(xi, f_trans_lin(xi),'-')\n",
    "plt.show()"
   ],
   "metadata": {
    "collapsed": false,
    "pycharm": {
     "name": "#%%\n"
    }
   }
  },
  {
   "cell_type": "code",
   "source": [
    "f_exp = lambda x: np.exp(solve_3[1]) * np.exp(solve_3[0]*x)\n",
    "a_0, a_1  = np.exp(solve_3[1]), solve_3[0]\n",
    "print(f'Regresión exponencial: Y = {a_0:.3f}*e^({a_1:.3f}*x)')"
   ],
   "metadata": {
    "collapsed": false,
    "pycharm": {
     "name": "#%%\n"
    }
   },
   "execution_count": 31,
   "outputs": [
    {
     "name": "stdout",
     "output_type": "stream",
     "text": [
      "Regresión exponencial: Y = 5.999*e^(0.365*x)\n"
     ]
    }
   ]
  },
  {
   "cell_type": "code",
   "execution_count": 37,
   "outputs": [
    {
     "data": {
      "text/plain": "<Figure size 432x288 with 1 Axes>",
      "image/png": "[encoded data removed]"
     },
     "metadata": {
      "needs_background": "light"
     },
     "output_type": "display_data"
    }
   ],
   "source": [
    "xi = np.linspace(np.min(x),np.max(x),1001)\n",
    "plt.plot(x, y,'o')\n",
    "# plt.plot(xi, f_lin(xi),'-')\n",
    "# plt.plot(xi, f_cuad(xi),'-')\n",
    "plt.plot(xi, f_exp(xi),'-')\n",
    "plt.show()"
   ],
   "metadata": {
    "collapsed": false,
    "pycharm": {
     "name": "#%%\n"
    }
   }
  },
  {
   "cell_type": "markdown",
   "source": [
    "## Potencia"
   ],
   "metadata": {
    "collapsed": false,
    "pycharm": {
     "name": "#%% md\n"
    }
   }
  },
  {
   "cell_type": "code",
   "execution_count": 39,
   "outputs": [
    {
     "name": "stdout",
     "output_type": "stream",
     "text": [
      "[1.87946505 2.04251819 1.84054963 2.32140685 2.21375388 2.29857707\n",
      " 2.737609   2.59749101 2.71535678 2.84258109 3.23632274 3.33113251\n",
      " 3.43945609 3.62620586]\n",
      "[-6.90775528 -1.38629436 -0.69314718  0.22314355  0.40546511  0.55961579\n",
      "  0.81093022  0.91629073  1.01160091  1.09861229  1.32175584  1.38629436\n",
      "  1.5040774   1.60943791]\n"
     ]
    }
   ],
   "source": [
    "x = [0.001, 0.25, 0.5, 1.25, 1.5, 1.75, 2.25, 2.5, 2.75, 3, 3.75, 4, 4.5, 5]\n",
    "y = [6.55, 7.71, 6.3, 10.19, 9.15, 9.96, 15.45, 13.43, 15.11, 17.16, 25.44, 27.97, 31.17, 37.57]\n",
    "x, y = np.array(x), np.array(y)\n",
    "Y = np.log(y)\n",
    "X = np.log(x)\n",
    "print(Y)\n",
    "print(X)"
   ],
   "metadata": {
    "collapsed": false,
    "pycharm": {
     "name": "#%%\n"
    }
   }
  },
  {
   "cell_type": "code",
   "execution_count": 40,
   "outputs": [
    {
     "data": {
      "text/plain": "<Figure size 432x288 with 1 Axes>",
      "image/png": "[encoded data removed]"
     },
     "metadata": {
      "needs_background": "light"
     },
     "output_type": "display_data"
    }
   ],
   "source": [
    "Xi = np.linspace(np.min(X),np.max(X),1001)\n",
    "plt.plot(X, Y,'o')\n",
    "plt.show()"
   ],
   "metadata": {
    "collapsed": false,
    "pycharm": {
     "name": "#%%\n"
    }
   }
  },
  {
   "cell_type": "code",
   "execution_count": null,
   "outputs": [],
   "source": [],
   "metadata": {
    "collapsed": false,
    "pycharm": {
     "name": "#%%\n"
    }
   }
  },
  {
   "cell_type": "code",
   "execution_count": 42,
   "outputs": [
    {
     "data": {
      "text/plain": "<Figure size 640x480 with 1 Axes>",
      "image/png": "[encoded data removed]"
     },
     "metadata": {},
     "output_type": "display_data"
    }
   ],
   "source": [
    "# parámetros a_0, a_1 = 7, 0.323\n",
    "# función a_0*np.exp(a_1*x)\n",
    "\n",
    "x = [0., 0.25, 0.5, 1.25, 1.5, 1.75, 2.25, 2.5, 2.75, 3, 3.75, 4, 4.5, 5]\n",
    "y = [6.55, 7.71, 6.3, 10.19, 9.15, 9.96, 15.45, 13.43, 15.11, 17.16, 25.44, 27.97, 31.17, 37.57]\n",
    "x, y = np.array(x), np.array(y)\n",
    "plt.plot(x, y,'o')\n",
    "# plt.plot(xi, f(xi),'-') ORIGINAL\n",
    "plt.show()"
   ],
   "metadata": {
    "collapsed": false
   }
  },
  {
   "cell_type": "markdown",
   "source": [
    "# Regresión Lineal"
   ],
   "metadata": {
    "collapsed": false
   }
  },
  {
   "cell_type": "code",
   "execution_count": 85,
   "outputs": [
    {
     "name": "stdout",
     "output_type": "stream",
     "text": [
      "sum_xi: 33.000, sum_xi_2: 110.375\n",
      "sum_yi: 233.160, sum_xiyi: 745.735\n",
      "Solución del sistema: [6.01865205 2.46746301]\n",
      "Ecuación lineal: y = 6.019x + 2.467\n"
     ]
    }
   ],
   "source": [
    "x = [0., 0.25, 0.5, 1.25, 1.5, 1.75, 2.25, 2.5, 2.75, 3, 3.75, 4, 4.5, 5]\n",
    "y = [6.55, 7.71, 6.3, 10.19, 9.15, 9.96, 15.45, 13.43, 15.11, 17.16, 25.44, 27.97, 31.17, 37.57]\n",
    "x, y = np.array(x), np.array(y)\n",
    "\n",
    "sum_xi = np.sum(x)\n",
    "sum_xi_2 = np.sum(x**2)\n",
    "sum_yi = np.sum(y)\n",
    "sum_xiyi = np.sum(x*y)\n",
    "print(f'sum_xi: {sum_xi:.3f}, sum_xi_2: {sum_xi_2:.3f}')\n",
    "print(f'sum_yi: {sum_yi:.3f}, sum_xiyi: {sum_xiyi:.3f}')\n",
    "a = np.array([[sum_xi_2, sum_xi],\n",
    "              [sum_xi, len(x)]])\n",
    "b = np.array([sum_xiyi ,sum_yi])\n",
    "solve = np.linalg.solve(a, b)\n",
    "print(f'Solución del sistema: {solve}')\n",
    "print(f'Ecuación lineal: y = {solve[0]:.3f}x + {solve[1]:.3f}')\n",
    "f_lin = lambda x: solve[0]*x + solve[1]"
   ],
   "metadata": {
    "collapsed": false
   }
  },
  {
   "cell_type": "code",
   "execution_count": 87,
   "outputs": [
    {
     "data": {
      "text/plain": "<Figure size 640x480 with 1 Axes>",
      "image/png": "[encoded data removed]"
     },
     "metadata": {},
     "output_type": "display_data"
    }
   ],
   "source": [
    "xi = np.linspace(np.min(x),np.max(x),1001)\n",
    "plt.plot(x, y,'o')\n",
    "plt.plot(xi, f_lin(xi),'-')\n",
    "plt.show()"
   ],
   "metadata": {
    "collapsed": false
   }
  },
  {
   "cell_type": "code",
   "execution_count": 68,
   "outputs": [
    {
     "name": "stdout",
     "output_type": "stream",
     "text": [
      "2.4674630136986284 [6.01865205]\n"
     ]
    },
    {
     "data": {
      "text/plain": "0.9080105568188285"
     },
     "execution_count": 68,
     "metadata": {},
     "output_type": "execute_result"
    }
   ],
   "source": [
    "from sklearn.linear_model import LinearRegression\n",
    "x_reshape = x.reshape(-1, 1)\n",
    "lin_reg = LinearRegression().fit(x_reshape, y)\n",
    "print(lin_reg.intercept_, lin_reg.coef_)\n",
    "lin_reg.score(x_reshape, y)"
   ],
   "metadata": {
    "collapsed": false
   }
  },
  {
   "cell_type": "code",
   "execution_count": 71,
   "outputs": [
    {
     "data": {
      "text/plain": "<Figure size 640x480 with 1 Axes>",
      "image/png": "[encoded data removed]"
     },
     "metadata": {},
     "output_type": "display_data"
    }
   ],
   "source": [
    "xi = np.linspace(np.min(x),np.max(x),1001)\n",
    "y_pred = lin_reg.predict(xi.reshape((-1,1)))\n",
    "plt.plot(x, y,'o')\n",
    "plt.plot(xi, y_pred,'-')\n",
    "plt.show()"
   ],
   "metadata": {
    "collapsed": false
   }
  },
  {
   "cell_type": "markdown",
   "source": [
    "# Regresión exponencial"
   ],
   "metadata": {
    "collapsed": false
   }
  },
  {
   "cell_type": "code",
   "execution_count": 75,
   "outputs": [
    {
     "name": "stdout",
     "output_type": "stream",
     "text": [
      "[1.87946505 2.04251819 1.84054963 2.32140685 2.21375388 2.29857707\n",
      " 2.737609   2.59749101 2.71535678 2.84258109 3.23632274 3.33113251\n",
      " 3.43945609 3.62620586]\n"
     ]
    }
   ],
   "source": [
    "x = [0., 0.25, 0.5, 1.25, 1.5, 1.75, 2.25, 2.5, 2.75, 3, 3.75, 4, 4.5, 5]\n",
    "y = [6.55, 7.71, 6.3, 10.19, 9.15, 9.96, 15.45, 13.43, 15.11, 17.16, 25.44, 27.97, 31.17, 37.57]\n",
    "x, y = np.array(x), np.array(y)\n",
    "Y = np.log(y)\n",
    "print(Y)"
   ],
   "metadata": {
    "collapsed": false
   }
  },
  {
   "cell_type": "code",
   "execution_count": null,
   "outputs": [],
   "source": [
    "Y = [1.87946505, 2.04251819, 1.84054963, 2.32140685, 2.21375388, 2.29857707, 2.737609, 2.59749101, 2.71535678, 2.84258109, 3.23632274, 3.33113251, 3.43945609, 3.62620586]"
   ],
   "metadata": {
    "collapsed": false
   }
  },
  {
   "cell_type": "code",
   "execution_count": 79,
   "outputs": [
    {
     "data": {
      "text/plain": "<Figure size 640x480 with 1 Axes>",
      "image/png": "[encoded data removed]"
     },
     "metadata": {},
     "output_type": "display_data"
    }
   ],
   "source": [
    "plt.plot(x, Y,'ro')\n",
    "plt.show()"
   ],
   "metadata": {
    "collapsed": false
   }
  },
  {
   "cell_type": "code",
   "execution_count": 88,
   "outputs": [
    {
     "name": "stdout",
     "output_type": "stream",
     "text": [
      "sum_xi: 33.000, sum_xi_2: 110.375\n",
      "sum_yi: 37.122, sum_xiyi: 99.393\n",
      "Solución del sistema: [0.36486185 1.79157033]\n",
      "Ecuación lineal (transformada semi-log): Y = 0.365x + 1.792\n"
     ]
    }
   ],
   "source": [
    "sum_xi = np.sum(x)\n",
    "sum_xi_2 = np.sum(x**2)\n",
    "sum_Yi = np.sum(Y)\n",
    "sum_xiYi = np.sum(x*Y)\n",
    "print(f'sum_xi: {sum_xi:.3f}, sum_xi_2: {sum_xi_2:.3f}')\n",
    "print(f'sum_yi: {sum_Yi:.3f}, sum_xiyi: {sum_xiYi:.3f}')\n",
    "a = np.array([[sum_xi_2, sum_xi],\n",
    "              [sum_xi, len(x)]])\n",
    "b = np.array([sum_xiYi ,sum_Yi])\n",
    "solve = np.linalg.solve(a, b)\n",
    "print(f'Solución del sistema: {solve}')\n",
    "print(f'Ecuación lineal (transformada semi-log): Y = {solve[0]:.3f}x + {solve[1]:.3f}')\n",
    "f_trans_lin = lambda x: solve[0]*x + solve[1]"
   ],
   "metadata": {
    "collapsed": false
   }
  },
  {
   "cell_type": "code",
   "execution_count": 90,
   "outputs": [
    {
     "data": {
      "text/plain": "<Figure size 640x480 with 1 Axes>",
      "image/png": "[encoded data removed]"
     },
     "metadata": {},
     "output_type": "display_data"
    }
   ],
   "source": [
    "xi = np.linspace(np.min(x),np.max(x),1001)\n",
    "plt.plot(x, Y,'ro')\n",
    "plt.plot(xi, f_trans_lin(xi),'-')\n",
    "plt.show()"
   ],
   "metadata": {
    "collapsed": false
   }
  },
  {
   "cell_type": "code",
   "execution_count": null,
   "outputs": [],
   "source": [],
   "metadata": {
    "collapsed": false
   }
  }
 ],
 "metadata": {
  "kernelspec": {
   "display_name": "Python 3",
   "language": "python",
   "name": "python3"
  },
  "language_info": {
   "codemirror_mode": {
    "name": "ipython",
    "version": 2
   },
   "file_extension": ".py",
   "mimetype": "text/x-python",
   "name": "python",
   "nbconvert_exporter": "python",
   "pygments_lexer": "ipython2",
   "version": "2.7.6"
  }
 },
 "nbformat": 4,
 "nbformat_minor": 0
}