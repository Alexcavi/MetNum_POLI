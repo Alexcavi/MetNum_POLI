{
 "cells": [
  {
   "cell_type": "markdown",
   "metadata": {
    "collapsed": true,
    "pycharm": {
     "name": "#%% md\n"
    }
   },
   "source": [
    "# Ajuste de curvas"
   ]
  },
  {
   "cell_type": "markdown",
   "source": [
    "[![Open In Colab](https://colab.research.google.com/assets/colab-badge.svg)](https://colab.research.google.com/github/caramirezs/MetNum_POLI/blob/main/2.0_Ajuste_de_curvas.ipynb)"
   ],
   "metadata": {
    "collapsed": false,
    "pycharm": {
     "name": "#%% md\n"
    }
   }
  },
  {
   "cell_type": "markdown",
   "source": [
    "## Polinomio de interpolación de Lagrange"
   ],
   "metadata": {
    "collapsed": false,
    "pycharm": {
     "name": "#%% md\n"
    }
   }
  },
  {
   "cell_type": "code",
   "execution_count": 16,
   "outputs": [],
   "source": [
    "import numpy as np\n",
    "import sympy as sym\n",
    "import matplotlib.pyplot as plt\n"
   ],
   "metadata": {
    "collapsed": false,
    "pycharm": {
     "name": "#%%\n"
    }
   }
  },
  {
   "cell_type": "code",
   "execution_count": 2,
   "outputs": [
    {
     "name": "stdout",
     "output_type": "stream",
     "text": [
      "    valores de fi:  [ -5   1 -29  19]\n",
      "divisores en L(i):  [ 18. -10. -90.  18.]\n",
      "\n",
      "Polinomio de Lagrange, expresiones\n",
      "29*(x - 4)*(x - 3)*(x - 1)/90 - 5*(x - 4)*(x - 3)*(x + 2)/18 - (x - 4)*(x - 1)*(x + 2)/10 + 19*(x - 3)*(x - 1)*(x + 2)/18\n",
      "\n",
      "Polinomio de Lagrange: \n",
      "x**3 - 3*x**2 + 2*x - 5\n"
     ]
    },
    {
     "data": {
      "text/plain": "<Figure size 640x480 with 1 Axes>",
      "image/png": "[encoded data removed]"
     },
     "metadata": {},
     "output_type": "display_data"
    }
   ],
   "source": [
    "# Interpolacion de Lagrange\n",
    "# INGRESO , Datos de prueba\n",
    "xi = np.array([1, 3, -2, 4])\n",
    "fi = np.array([-5, 1, -29, 19])\n",
    "\n",
    "# PROCEDIMIENTO\n",
    "n = len(xi)\n",
    "x = sym.Symbol('x')\n",
    "polinomio = 0\n",
    "divisorL = np.zeros(n, dtype = float)\n",
    "for i in range(0,n,1):\n",
    "    # Termino de Lagrange\n",
    "    numerador = 1\n",
    "    denominador = 1\n",
    "    for j  in range(0,n,1):\n",
    "        if (j!=i):\n",
    "            numerador = numerador*(x-xi[j])\n",
    "            denominador = denominador*(xi[i]-xi[j])\n",
    "    terminoLi = numerador/denominador\n",
    "\n",
    "    polinomio = polinomio + terminoLi*fi[i]\n",
    "    divisorL[i] = denominador\n",
    "\n",
    "# simplifica el polinomio\n",
    "polisimple = polinomio.expand()\n",
    "\n",
    "# para evaluación numérica\n",
    "px = sym.lambdify(x,polisimple)\n",
    "\n",
    "# Puntos para la gráfica\n",
    "muestras = 1001\n",
    "a = np.min(xi)\n",
    "b = np.max(xi)\n",
    "pxi = np.linspace(0.9*a,1.1*b,muestras)\n",
    "pfi = px(pxi)\n",
    "\n",
    "# SALIDA\n",
    "print('    valores de fi: ',fi)\n",
    "print('divisores en L(i): ',divisorL)\n",
    "print()\n",
    "print('Polinomio de Lagrange, expresiones')\n",
    "print(polinomio)\n",
    "print()\n",
    "print('Polinomio de Lagrange: ')\n",
    "print(polisimple)\n",
    "\n",
    "# Gráfica\n",
    "plt.plot(xi,fi,'o', label = 'Puntos')\n",
    "plt.plot(pxi,pfi, label = 'Polinomio')\n",
    "plt.legend()\n",
    "plt.xlabel('xi')\n",
    "plt.ylabel('fi')\n",
    "plt.title('Interpolación Lagrange')\n",
    "plt.show()"
   ],
   "metadata": {
    "collapsed": false,
    "pycharm": {
     "name": "#%%\n"
    }
   }
  },
  {
   "cell_type": "markdown",
   "source": [
    "# Método de Newton"
   ],
   "metadata": {
    "collapsed": false,
    "pycharm": {
     "name": "#%% md\n"
    }
   }
  },
  {
   "cell_type": "code",
   "execution_count": 1,
   "outputs": [],
   "source": [
    "from math import *\n",
    "from pprint import pprint\n",
    "\n",
    "\n",
    "def NewtonPol(dat):\n",
    "    \"\"\"\n",
    "    Implementación del interpolador de Newton\n",
    "    Entradas:\n",
    "    dat -- lista de puntos (x, y) en el plano\n",
    "\n",
    "    Salidas:\n",
    "    F -- tabla de diferencias divididas\n",
    "    P -- función de interpolación\n",
    "    \"\"\"\n",
    "    n = len(dat)-1\n",
    "    F = [[0 for x in dat] for x in dat]  # crear tabla nula\n",
    "\n",
    "    for i, p in enumerate(dat):  # condiciones iniciales\n",
    "        F[i][0] = p[1]\n",
    "\n",
    "    for i in range(1, n+1):  # tabla de diferencias divididas\n",
    "        for j in range(1, i+1):\n",
    "            F[i][j] = (F[i][j-1]-F[i-1][j-1])/(dat[i][0]-dat[i-j][0])\n",
    "\n",
    "    def L(k, x):\n",
    "        \"\"\"Implementación funciones L_k(x)\"\"\"\n",
    "        # polinomio $L_k(x)=\\prod\\limits_{i \\leq k}(x-x_i)$\n",
    "        out = 1\n",
    "        for i, p in enumerate(dat):\n",
    "            if i <= k:\n",
    "                out *= (x - p[0])\n",
    "        return out\n",
    "\n",
    "    def P(x):\n",
    "        \"\"\"Implementación polinomio P(x)\"\"\"\n",
    "        # $P(x)=f[x_0]+\\sum_{k=1}^{n}f[x_0,x_1,\\ldots,x_k]L_{k-1}(x)$\n",
    "        newt = 0\n",
    "        for i in range(1, n+1):\n",
    "            newt += F[i][i]*L(i-1, x)\n",
    "        return newt + F[0][0]\n",
    "\n",
    "    return F, P\n",
    "\n"
   ],
   "metadata": {
    "collapsed": false,
    "pycharm": {
     "name": "#%%\n"
    }
   }
  },
  {
   "cell_type": "code",
   "execution_count": 2,
   "outputs": [
    {
     "name": "stdout",
     "output_type": "stream",
     "text": [
      "Tabla de diferencias divididas:\n",
      "[[-1.0, 0, 0, 0],\n",
      " [0.49999999999999994, 0.7161972439135291, 0, 0],\n",
      " [0.7071067811865476, 0.7910896313685745, 0.031785316435797115, 0],\n",
      " [1.0, 0.37292322857805654, -0.3993195002344047, -0.1372249251275759]]\n",
      "Evaluar el polinomio en x = 0:\n"
     ]
    }
   ],
   "source": [
    "import numpy as np\n",
    "datost = [(-np.pi/2,np.sin(-np.pi/2)), (np.pi/6,np.sin(np.pi/6)), (np.pi/4,np.sin(np.pi/4)), (np.pi/2,np.sin(np.pi/2))]\n",
    "T, P = NewtonPol(datost)\n",
    "print(\"Tabla de diferencias divididas:\")\n",
    "pprint(T)\n",
    "print(\"Evaluar el polinomio en x = 0:\")\n"
   ],
   "metadata": {
    "collapsed": false,
    "pycharm": {
     "name": "#%%\n"
    }
   }
  },
  {
   "cell_type": "code",
   "execution_count": 5,
   "outputs": [
    {
     "data": {
      "text/plain": "0.8693248610171076"
     },
     "execution_count": 5,
     "metadata": {},
     "output_type": "execute_result"
    }
   ],
   "source": [
    "P(np.pi/3)"
   ],
   "metadata": {
    "collapsed": false,
    "pycharm": {
     "name": "#%%\n"
    }
   }
  },
  {
   "cell_type": "code",
   "execution_count": 6,
   "outputs": [
    {
     "data": {
      "text/plain": "0.8660254037844386"
     },
     "execution_count": 6,
     "metadata": {},
     "output_type": "execute_result"
    }
   ],
   "source": [
    "np.sin(np.pi/3)"
   ],
   "metadata": {
    "collapsed": false,
    "pycharm": {
     "name": "#%%\n"
    }
   }
  },
  {
   "cell_type": "code",
   "execution_count": 18,
   "outputs": [
    {
     "data": {
      "text/plain": "<Figure size 432x288 with 1 Axes>",
      "image/png": "[encoded data removed]"
     },
     "metadata": {
      "needs_background": "light"
     },
     "output_type": "display_data"
    }
   ],
   "source": [
    "# Gráfica\n",
    "f = lambda x: np.sin(x)\n",
    "pxi = np.linspace(-np.pi,np.pi,1000)\n",
    "pfi = P(pxi)\n",
    "xi = [-np.pi/2, np.pi/6, np.pi/4, np.pi/2]\n",
    "fi = f(xi)\n",
    "plt.plot(xi,fi,'o', label = 'Puntos')\n",
    "plt.plot(pxi,pfi , label = 'Polinomio')\n",
    "plt.plot(pxi,f(pxi) , label = 'función')\n",
    "plt.legend()\n",
    "plt.xlabel('xi')\n",
    "plt.ylabel('fi')\n",
    "plt.title('Interpolación Lagrange')\n",
    "plt.show()"
   ],
   "metadata": {
    "collapsed": false,
    "pycharm": {
     "name": "#%%\n"
    }
   }
  },
  {
   "cell_type": "markdown",
   "source": [
    "# Regresón Polinomial"
   ],
   "metadata": {
    "collapsed": false,
    "pycharm": {
     "name": "#%% md\n"
    }
   }
  },
  {
   "cell_type": "code",
   "execution_count": 116,
   "outputs": [],
   "source": [
    "import random\n",
    "a_0, a_1, a_2 = 10, 6, -3\n",
    "f = lambda x: a_0 + a_1*x + a_2*(x)**2\n",
    "def f_cuadrada(x):\n",
    "    noise = random.randrange(-100, 100, 1)/10\n",
    "    return a_0 + a_1*x + a_2*(x**2) + noise"
   ],
   "metadata": {
    "collapsed": false,
    "pycharm": {
     "name": "#%%\n"
    }
   }
  },
  {
   "cell_type": "code",
   "execution_count": 133,
   "outputs": [
    {
     "name": "stdout",
     "output_type": "stream",
     "text": [
      "[-5.    -4.999 -4.998 ...  4.998  4.999  5.   ]\n",
      "[-96.1, -73.35, -58.0, -54.65, -26.2, -14.35, -15.1, -5.65, 4.4, 11.85, 13.0, 3.65, 11.6, 5.35, 11.8, 6.65, 8.6, -15.35, -5.4, -25.75, -27.3]\n"
     ]
    },
    {
     "data": {
      "text/plain": "<Figure size 432x288 with 1 Axes>",
      "image/png": "[encoded data removed]"
     },
     "metadata": {
      "needs_background": "light"
     },
     "output_type": "display_data"
    }
   ],
   "source": [
    "x = np.linspace(-5,5,21)\n",
    "xi = np.linspace(-5,5,10001)\n",
    "images = list()\n",
    "for i in x:\n",
    "    images.append(round(f_cuadrada(i),2))\n",
    "x = np.array(x)\n",
    "y = np.array(images)\n",
    "print(xi)\n",
    "print(images)\n",
    "plt.plot(x, images,'o')\n",
    "#plt.plot(xi, f(xi),'-')\n",
    "plt.show()"
   ],
   "metadata": {
    "collapsed": false,
    "pycharm": {
     "name": "#%%\n"
    }
   }
  },
  {
   "cell_type": "code",
   "execution_count": 134,
   "outputs": [
    {
     "name": "stdout",
     "output_type": "stream",
     "text": [
      "0.0 192.5 0.0 3166.625\n",
      "-340.29999999999995 1136.45 -7164.2\n"
     ]
    }
   ],
   "source": [
    "sum_xi = np.sum(x)\n",
    "sum_xi_2 = np.sum(x**2)\n",
    "sum_xi_3 = np.sum(x**3)\n",
    "sum_xi_4 = np.sum(x**4)\n",
    "sum_yi = np.sum(y)\n",
    "sum_xiyi = np.sum(x*y)\n",
    "sum_xi_2yi = np.sum(x**2*y)\n",
    "print(sum_xi, sum_xi_2, sum_xi_3, sum_xi_4)\n",
    "print(sum_yi, sum_xiyi, sum_xi_2yi)"
   ],
   "metadata": {
    "collapsed": false,
    "pycharm": {
     "name": "#%%\n"
    }
   }
  },
  {
   "cell_type": "code",
   "execution_count": 135,
   "outputs": [
    {
     "name": "stdout",
     "output_type": "stream",
     "text": [
      "[-2.88492377  5.90363636 10.24037267]\n"
     ]
    }
   ],
   "source": [
    "a = np.array([[sum_xi_4, sum_xi_3, sum_xi_2],\n",
    "              [sum_xi_3, sum_xi_2, sum_xi],\n",
    "              [sum_xi_2, sum_xi, len(x)]])\n",
    "b = np.array([sum_xi_2yi, sum_xiyi ,sum_yi])\n",
    "solve = np.linalg.solve(a, b)\n",
    "print(solve)"
   ],
   "metadata": {
    "collapsed": false,
    "pycharm": {
     "name": "#%%\n"
    }
   }
  },
  {
   "cell_type": "code",
   "execution_count": 136,
   "outputs": [
    {
     "data": {
      "text/plain": "<Figure size 432x288 with 1 Axes>",
      "image/png": "[encoded data removed]"
     },
     "metadata": {
      "needs_background": "light"
     },
     "output_type": "display_data"
    }
   ],
   "source": [
    "g = lambda x: solve[0]*x**2 + solve[1]*x + solve[2]\n",
    "plt.plot(x, images,'o')\n",
    "plt.plot(xi, f(xi),'-')\n",
    "plt.plot(xi, g(xi),'-')\n",
    "plt.show()"
   ],
   "metadata": {
    "collapsed": false,
    "pycharm": {
     "name": "#%%\n"
    }
   }
  },
  {
   "cell_type": "code",
   "execution_count": null,
   "outputs": [],
   "source": [],
   "metadata": {
    "collapsed": false,
    "pycharm": {
     "name": "#%%\n"
    }
   }
  }
 ],
 "metadata": {
  "kernelspec": {
   "display_name": "Python 3",
   "language": "python",
   "name": "python3"
  },
  "language_info": {
   "codemirror_mode": {
    "name": "ipython",
    "version": 2
   },
   "file_extension": ".py",
   "mimetype": "text/x-python",
   "name": "python",
   "nbconvert_exporter": "python",
   "pygments_lexer": "ipython2",
   "version": "2.7.6"
  }
 },
 "nbformat": 4,
 "nbformat_minor": 0
}