{
 "cells": [
  {
   "cell_type": "code",
   "execution_count": 1,
   "metadata": {
    "pycharm": {
     "name": "#%%\n"
    }
   },
   "outputs": [],
   "source": [
    "import numpy as np\n",
    "import pandas as pd\n",
    "import sympy as sym\n",
    "import matplotlib.pyplot as plt\n",
    "\n",
    "def met_newton_raphson(f, df, p_0, tol=1e-4, n=50, verbose=True, print_error=False,\n",
    "                       deploy_error=False):\n",
    "    \"\"\"\n",
    "    Método de Newton-Rapphson\n",
    "    :param f: Funcion a la que se le intenta encontrar una solucion\n",
    "    para la ecuacion f(x)=0, previamente definida\n",
    "    :param df: Derivada de la función\n",
    "    :param p_0: semilla, valor inicial\n",
    "    :param tol: toleracia, criterio de parada\n",
    "    :param n: número máximo de iteraciones, criterio de parada\n",
    "    :param verbose:\n",
    "    :param print_error:\n",
    "    :param deploy_error:\n",
    "    :return: solución exacta o aproximada, si tiene.\n",
    "    \"\"\"\n",
    "    i = 1\n",
    "    lista_errores = list()\n",
    "    while i <= n:\n",
    "        if df(p_0) == 0:\n",
    "            print('Solución no encontrada (df(x)=0)')\n",
    "            return None\n",
    "\n",
    "        p_i = p_0 - f(p_0) / df(p_0)\n",
    "        e_abs = abs(p_0 - p_i)\n",
    "        lista_errores.append(e_abs)\n",
    "        if verbose:\n",
    "            print(f'ite {i:<2}: p_{i - 1:<2} = {p_0:.4f}, p_{i:<2} = {p_i:.5f}'\n",
    "                  f' | e_abs: {e_abs:e}')\n",
    "\n",
    "        if f(p_i) == 0:\n",
    "            if print_error:\n",
    "                print(f'error x iteración: {lista_errores}')\n",
    "            print(f'>>> Solución exacta encontrada después de {i} iteraciones: x->{p_i:.15f}')\n",
    "            if deploy_error:\n",
    "                return lista_errores, p_i\n",
    "            else:\n",
    "                return p_i\n",
    "\n",
    "        if e_abs < tol:\n",
    "            if print_error:\n",
    "                print(f'error x iteración: {lista_errores}')\n",
    "            print(f'>>> Solución encontrada después de {i} iteraciones: x->{p_i:.15f}')\n",
    "            if deploy_error:\n",
    "                return lista_errores, p_i\n",
    "            else:\n",
    "                return p_i\n",
    "\n",
    "        p_0 = p_i\n",
    "        i += 1\n",
    "    if print_error:\n",
    "        print(f'error x iteración: {lista_errores}')\n",
    "    print('solución no encontrada, iteraciones agotadas')\n",
    "    return None"
   ]
  },
  {
   "cell_type": "markdown",
   "source": [
    "# Ejercicio 01\n",
    "Dados los siguientes puntos\n",
    "[[0., 10], [0.2, 11.9873], [0.4, 12.9426], [0.6, 12.1635], [0.8, 9.64213], [1., 6.06531], [1.2, 2.54919], [1.4, 0.21057], [1.6, -0.261993], [1.8, 1.12677], [2., 3.67879], [2.2, 6.26764]]\n",
    "    - Encuentre una regresión polinomial cúbica para los datos dados.\n",
    "    - Encuentre el coeficiente de determinación.\n",
    "\t- (Bonus) Use el modelo polinomial para estimar el valor cuando $x = 2.5$.\n",
    "\t- (Bonus) Encuentre los cortes de la función encontrada con el $eje-x$."
   ],
   "metadata": {
    "collapsed": false,
    "pycharm": {
     "name": "#%% md\n"
    }
   }
  },
  {
   "cell_type": "code",
   "execution_count": 3,
   "outputs": [
    {
     "data": {
      "text/plain": "<Figure size 432x288 with 1 Axes>",
      "image/png": "[encoded data removed]"
     },
     "metadata": {
      "needs_background": "light"
     },
     "output_type": "display_data"
    }
   ],
   "source": [
    "data = np.array([[0., 10], [0.2, 11.9873], [0.4, 12.9426], [0.6, 12.1635], [0.8, 9.64213], [1., 6.06531], [1.2, 2.54919], [1.4, 0.21057], [1.6, -0.261993], [1.8, 1.12677], [2., 3.67879], [2.2, 6.26764]])\n",
    "x, y = data.T\n",
    "plt.plot(x, y,'o')\n",
    "plt.show()"
   ],
   "metadata": {
    "collapsed": false,
    "pycharm": {
     "name": "#%%\n"
    }
   }
  },
  {
   "cell_type": "code",
   "execution_count": 4,
   "outputs": [
    {
     "name": "stdout",
     "output_type": "stream",
     "text": [
      "Regresión cúbica: y = 10.75401x^3 + -32.29843x^2 + 17.76525x + 10.06957\n",
      "Coeficiente de determinación: 0.9751709224842486\n",
      "Estimar el valor cuando x=2.5: f(2.5)=20.648967220479484\n"
     ]
    }
   ],
   "source": [
    "# Encuentre una regresión polinomial cúbica para los datos dados.\n",
    "x, y = data.T\n",
    "sum_xi = np.sum(x)\n",
    "sum_xi_2 = np.sum(x**2)\n",
    "sum_xi_3 = np.sum(x**3)\n",
    "sum_xi_4 = np.sum(x**4)\n",
    "sum_xi_5 = np.sum(x**5)\n",
    "sum_xi_6 = np.sum(x**6)\n",
    "sum_yi = np.sum(y)\n",
    "sum_xiyi = np.sum(x*y)\n",
    "sum_xi_2yi = np.sum(x**2*y)\n",
    "sum_xi_3yi = np.sum(x**3*y)\n",
    "a = np.array([[sum_xi_6, sum_xi_5, sum_xi_4, sum_xi_3],\n",
    "              [sum_xi_5, sum_xi_4, sum_xi_3, sum_xi_2],\n",
    "              [sum_xi_4, sum_xi_3, sum_xi_2, sum_xi],\n",
    "              [sum_xi_3, sum_xi_2, sum_xi, len(x)]])\n",
    "b = np.array([sum_xi_3yi, sum_xi_2yi, sum_xiyi ,sum_yi])\n",
    "solve_cubic = np.linalg.solve(a, b)\n",
    "\n",
    "print(f'Regresión cúbica: y = {solve_cubic[0]:.5f}x^3 + {solve_cubic[1]:.5f}x^2 + {solve_cubic[2]:.5f}x + {solve_cubic[3]:.5f}')\n",
    "f_cubic = lambda x: solve_cubic[0]*x**3 + solve_cubic[1]*x**2 + solve_cubic[2]*x + solve_cubic[3]\n",
    "\n",
    "y_media = y.mean()\n",
    "y_predict = f_cubic(x)\n",
    "s_t = ((y - y_media)**2).sum()\n",
    "s_r = ((y - y_predict)**2).sum()\n",
    "r_2 = (s_t - s_r) / s_t\n",
    "print(f'Coeficiente de determinación: {r_2}')\n",
    "\n",
    "#Bonus: f(2.5)\n",
    "print(f'Estimar el valor cuando x=2.5: f(2.5)={f_cubic(2.5)}')"
   ],
   "metadata": {
    "collapsed": false,
    "pycharm": {
     "name": "#%%\n"
    }
   }
  },
  {
   "cell_type": "code",
   "execution_count": 5,
   "outputs": [
    {
     "data": {
      "text/plain": "<function matplotlib.pyplot.show(close=None, block=None)>"
     },
     "execution_count": 5,
     "metadata": {},
     "output_type": "execute_result"
    },
    {
     "data": {
      "text/plain": "<Figure size 432x288 with 1 Axes>",
      "image/png": "[encoded data removed]"
     },
     "metadata": {
      "needs_background": "light"
     },
     "output_type": "display_data"
    }
   ],
   "source": [
    "xi = np.linspace(np.min(x),np.max(x),1001)\n",
    "plt.plot(xi,f_cubic(xi), label = 'regresion cúbica')\n",
    "plt.plot(x, y,'o')\n",
    "plt.legend()\n",
    "plt.xlabel('xi')\n",
    "plt.ylabel('fi')\n",
    "plt.title('Interpolación Lagrange')\n",
    "plt.show"
   ],
   "metadata": {
    "collapsed": false,
    "pycharm": {
     "name": "#%%\n"
    }
   }
  },
  {
   "cell_type": "code",
   "execution_count": 27,
   "outputs": [
    {
     "name": "stdout",
     "output_type": "stream",
     "text": [
      ">>> Solución encontrada después de 4 iteraciones: x->1.561931978273927\n",
      ">>> Solución encontrada después de 5 iteraciones: x->1.778521303359274\n"
     ]
    },
    {
     "data": {
      "text/plain": "1.778521303359274"
     },
     "execution_count": 27,
     "metadata": {},
     "output_type": "execute_result"
    }
   ],
   "source": [
    "# Bonus: Cortes\n",
    "f_d = lambda x: 3*solve_cubic[0]*x**2 + 2*solve_cubic[1]*x + solve_cubic[2]\n",
    "met_newton_raphson(f_cubic, f_d, 1.5, verbose=False)\n",
    "met_newton_raphson(f_cubic, f_d, 2, verbose=False)"
   ],
   "metadata": {
    "collapsed": false,
    "pycharm": {
     "name": "#%%\n"
    }
   }
  },
  {
   "cell_type": "markdown",
   "source": [
    "# Ejercicio 02"
   ],
   "metadata": {
    "collapsed": false,
    "pycharm": {
     "name": "#%% md\n"
    }
   }
  },
  {
   "cell_type": "markdown",
   "source": [
    "Un objeto se suspende en un túnel de viento y se mide la fuerza para varios niveles de velocidad del viento"
   ],
   "metadata": {
    "collapsed": false,
    "pycharm": {
     "name": "#%% md\n"
    }
   }
  },
  {
   "cell_type": "code",
   "execution_count": 6,
   "outputs": [
    {
     "data": {
      "text/plain": "<Figure size 432x288 with 1 Axes>",
      "image/png": "[encoded data removed]"
     },
     "metadata": {
      "needs_background": "light"
     },
     "output_type": "display_data"
    }
   ],
   "source": [
    "data = np.array([[10, 20], [20, 210], [30, 420], [40, 520], [50, 650], [60, 720], [70, 800], [80, 880]])\n",
    "x, y = data.T\n",
    "plt.plot(x, y,'o')\n",
    "plt.show()"
   ],
   "metadata": {
    "collapsed": false,
    "pycharm": {
     "name": "#%%\n"
    }
   }
  },
  {
   "cell_type": "code",
   "execution_count": 7,
   "outputs": [
    {
     "data": {
      "text/plain": "<Figure size 432x288 with 1 Axes>",
      "image/png": "[encoded data removed]"
     },
     "metadata": {
      "needs_background": "light"
     },
     "output_type": "display_data"
    }
   ],
   "source": [
    "x, y = data.T\n",
    "Y = np.log(y)\n",
    "X = np.log(x)\n",
    "Xi = np.linspace(np.min(X),np.max(X),1001)\n",
    "plt.plot(X, Y,'go')\n",
    "plt.show()"
   ],
   "metadata": {
    "collapsed": false,
    "pycharm": {
     "name": "#%%\n"
    }
   }
  },
  {
   "cell_type": "code",
   "execution_count": 14,
   "outputs": [
    {
     "name": "stdout",
     "output_type": "stream",
     "text": [
      "Regresión lineal (transformada log-log): Y = 1.680X + -0.202\n",
      "Regresión potencia: y = 0.817*x^(1.680)\n",
      "Coeficiente de determinación: 0.5476152560508584\n"
     ]
    },
    {
     "data": {
      "text/plain": "<Figure size 432x288 with 1 Axes>",
      "image/png": "[encoded data removed]"
     },
     "metadata": {
      "needs_background": "light"
     },
     "output_type": "display_data"
    }
   ],
   "source": [
    "data = np.array([[10, 20], [20, 210], [30, 420], [40, 520], [50, 650], [60, 720], [70, 800], [80, 880]])\n",
    "x, y = data.T\n",
    "X, Y = np.log(x), np.log(y)\n",
    "\n",
    "sum_Xi = np.sum(X)\n",
    "sum_Xi_2 = np.sum(X**2)\n",
    "sum_Yi = np.sum(Y)\n",
    "sum_XiYi = np.sum(X*Y)\n",
    "a = np.array([[sum_Xi_2, sum_Xi],\n",
    "              [sum_Xi, len(X)]])\n",
    "b = np.array([sum_XiYi ,sum_Yi])\n",
    "solve = np.linalg.solve(a, b)\n",
    "\n",
    "print(f'Regresión lineal (transformada log-log): Y = {solve[0]:.3f}X + {solve[1]:.3f}')\n",
    "\n",
    "a_0, a_1  = np.exp(solve[1]), solve[0]\n",
    "f_pot = lambda x: a_0 * x**(a_1)\n",
    "print(f'Regresión potencia: y = {a_0:.3f}*x^({a_1:.3f})')\n",
    "\n",
    "y_media = y.mean()\n",
    "y_predict = f_pot(x)\n",
    "s_t = ((y - y_media)**2).sum()\n",
    "s_r = ((y - y_predict)**2).sum()\n",
    "r_2 = (s_t - s_r) / s_t\n",
    "print(f'Coeficiente de determinación: {r_2}')\n",
    "\n",
    "xi = np.linspace(np.min(x),np.max(x),1001)\n",
    "plt.plot(x, y,'o')\n",
    "plt.plot(xi, f_pot(xi),'-')\n",
    "plt.show()"
   ],
   "metadata": {
    "collapsed": false,
    "pycharm": {
     "name": "#%%\n"
    }
   }
  },
  {
   "cell_type": "code",
   "execution_count": 15,
   "outputs": [
    {
     "name": "stdout",
     "output_type": "stream",
     "text": [
      "Regresión cuadrática: y = -0.117x^2 + 22.405x + -183.214\n"
     ]
    },
    {
     "data": {
      "text/plain": "<Figure size 432x288 with 1 Axes>",
      "image/png": "[encoded data removed]"
     },
     "metadata": {
      "needs_background": "light"
     },
     "output_type": "display_data"
    },
    {
     "name": "stdout",
     "output_type": "stream",
     "text": [
      "Coeficiente de determinación: 0.9960595631371556\n"
     ]
    }
   ],
   "source": [
    "data = np.array([[10, 20], [20, 210], [30, 420], [40, 520], [50, 650], [60, 720], [70, 800], [80, 880]])\n",
    "x, y = data.T\n",
    "sum_xi = np.sum(x)\n",
    "sum_xi_2 = np.sum(x**2)\n",
    "sum_xi_3 = np.sum(x**3)\n",
    "sum_xi_4 = np.sum(x**4)\n",
    "sum_yi = np.sum(y)\n",
    "sum_xiyi = np.sum(x*y)\n",
    "sum_xi_2yi = np.sum(x**2*y)\n",
    "a = np.array([[sum_xi_4, sum_xi_3, sum_xi_2],\n",
    "              [sum_xi_3, sum_xi_2, sum_xi],\n",
    "              [sum_xi_2, sum_xi, len(x)]])\n",
    "b = np.array([sum_xi_2yi, sum_xiyi ,sum_yi])\n",
    "solve_cuad = np.linalg.solve(a, b)\n",
    "f_cuad = lambda x: solve_cuad[0]*x**2 + solve_cuad[1]*x + solve_cuad[2]\n",
    "print(f'Regresión cuadrática: y = {solve_cuad[0]:.3f}x^2 + {solve_cuad[1]:.3f}x + {solve_cuad[2]:.3f}')\n",
    "\n",
    "xi = np.linspace(10,150,1001)\n",
    "plt.plot(x, y,'o')\n",
    "plt.plot(xi, f_cuad(xi),'-')\n",
    "plt.show()\n",
    "\n",
    "y_media = y.mean()\n",
    "y_predict = f_cuad(x)\n",
    "s_t = ((y - y_media)**2).sum()\n",
    "s_r = ((y - y_predict)**2).sum()\n",
    "r_2_cuad = (s_t - s_r) / s_t\n",
    "print(f'Coeficiente de determinación: {r_2_cuad}')"
   ],
   "metadata": {
    "collapsed": false,
    "pycharm": {
     "name": "#%%\n"
    }
   }
  },
  {
   "cell_type": "code",
   "execution_count": 23,
   "outputs": [
    {
     "name": "stdout",
     "output_type": "stream",
     "text": [
      "360 20400 1296000 87720000 1882632704 287401216\n",
      "4220 239900 15065000 1008050000\n",
      "Regresión cúbica: y = 0.00005x^3 + 0.00131x^2 + 11.44540x + 1.21198\n",
      "Coeficiente de determinación: 0.9541908994900234\n"
     ]
    },
    {
     "data": {
      "text/plain": "<Figure size 432x288 with 1 Axes>",
      "image/png": "[encoded data removed]"
     },
     "metadata": {
      "needs_background": "light"
     },
     "output_type": "display_data"
    }
   ],
   "source": [
    "data = np.array([[10, 20], [20, 210], [30, 420], [40, 520], [50, 650], [60, 720], [70, 800], [80, 880]])\n",
    "x, y = data.T\n",
    "sum_xi = np.sum(x)\n",
    "sum_xi_2 = np.sum(x**2)\n",
    "sum_xi_3 = np.sum(x**3)\n",
    "sum_xi_4 = np.sum(x**4)\n",
    "sum_xi_5 = np.sum(x**5)\n",
    "sum_xi_6 = np.sum(x**6)\n",
    "sum_yi = np.sum(y)\n",
    "sum_xiyi = np.sum(x*y)\n",
    "sum_xi_2yi = np.sum(x**2*y)\n",
    "sum_xi_3yi = np.sum(x**3*y)\n",
    "print(sum_xi, sum_xi_2, sum_xi_3, sum_xi_4, sum_xi_5, sum_xi_6)\n",
    "print(sum_yi, sum_xiyi, sum_xi_2yi, sum_xi_3yi)\n",
    "a = np.array([[sum_xi_6, sum_xi_5, sum_xi_4, sum_xi_3],\n",
    "              [sum_xi_5, sum_xi_4, sum_xi_3, sum_xi_2],\n",
    "              [sum_xi_4, sum_xi_3, sum_xi_2, sum_xi],\n",
    "              [sum_xi_3, sum_xi_2, sum_xi, len(x)]])\n",
    "b = np.array([sum_xi_3yi, sum_xi_2yi, sum_xiyi ,sum_yi])\n",
    "solve_cubic = np.linalg.solve(a, b)\n",
    "\n",
    "print(f'Regresión cúbica: y = {solve_cubic[0]:.5f}x^3 + {solve_cubic[1]:.5f}x^2 + {solve_cubic[2]:.5f}x + {solve_cubic[3]:.5f}')\n",
    "f_cubic = lambda x: solve_cubic[0]*x**3 + solve_cubic[1]*x**2 + solve_cubic[2]*x + solve_cubic[3]\n",
    "\n",
    "y_media = y.mean()\n",
    "y_predict = f_cubic(x)\n",
    "s_t = ((y - y_media)**2).sum()\n",
    "s_r = ((y - y_predict)**2).sum()\n",
    "r_2 = (s_t - s_r) / s_t\n",
    "print(f'Coeficiente de determinación: {r_2}')\n",
    "\n",
    "xi = np.linspace(10,80,1001)\n",
    "plt.plot(x, y,'o')\n",
    "plt.plot(xi, f_cubic(xi),'-')\n",
    "plt.show()"
   ],
   "metadata": {
    "collapsed": false,
    "pycharm": {
     "name": "#%%\n"
    }
   }
  },
  {
   "cell_type": "code",
   "execution_count": 35,
   "outputs": [
    {
     "name": "stdout",
     "output_type": "stream",
     "text": [
      "[10 20 30 40 50 60 70 80]\n",
      "[     100000     3200000    24300000   102400000   312500000   777600000\n",
      "  1680700000 -1018167296]\n",
      "3276800000\n"
     ]
    },
    {
     "data": {
      "text/plain": "6177600000"
     },
     "execution_count": 35,
     "metadata": {},
     "output_type": "execute_result"
    }
   ],
   "source": [
    "data = np.array([[10, 20], [20, 210], [30, 420], [40, 520], [50, 650], [60, 720], [70, 800], [80, 880]])\n",
    "x = np.array([10, 20, 30, 40, 50, 60, 70, 80])\n",
    "print(x)\n",
    "print(x**5)\n",
    "print(80**5)\n",
    "10**5 + 20**5 + 30**5 + 40**5 + 50**5 + 60**5 + 70**5 + 80**5"
   ],
   "metadata": {
    "collapsed": false,
    "pycharm": {
     "name": "#%%\n"
    }
   }
  },
  {
   "cell_type": "code",
   "execution_count": null,
   "outputs": [],
   "source": [
    "sum_xi = np.sum(x)\n",
    "sum_xi_2 = np.sum(x**2)\n",
    "sum_yi = np.sum(y)\n",
    "sum_xiyi = np.sum(x*y)\n",
    "a = np.array([[sum_xi_2, sum_xi],\n",
    "              [sum_xi, len(x)]])\n",
    "b = np.array([sum_xiyi ,sum_yi])\n",
    "solve_lineal = np.linalg.solve(a, b)\n",
    "\n",
    "print(f'Regresión lineal: y = {solve_lineal[0]:.3f}x + {solve_lineal[1]:.3f}')\n",
    "f_lin = lambda x: solve_lineal[0]*x + solve_lineal[1]\n",
    "\n",
    "xi = np.linspace(np.min(x),np.max(x),1001)\n",
    "plt.plot(x, y,'o')\n",
    "plt.plot(xi, f_lin(xi),'-')\n",
    "plt.show()\n",
    "\n",
    "y_media = y.mean()\n",
    "y_predict = f_lin(x)\n",
    "s_t = ((y - y_media)**2).sum()\n",
    "s_r = ((y - y_predict)**2).sum()\n",
    "r_2_lin = (s_t - s_r) / s_t\n",
    "print(f'Coeficiente de determinación: {r_2_lin}')"
   ],
   "metadata": {
    "collapsed": false,
    "pycharm": {
     "name": "#%%\n"
    }
   }
  }
 ],
 "metadata": {
  "kernelspec": {
   "display_name": "Python 3 (ipykernel)",
   "language": "python",
   "name": "python3"
  },
  "language_info": {
   "codemirror_mode": {
    "name": "ipython",
    "version": 3
   },
   "file_extension": ".py",
   "mimetype": "text/x-python",
   "name": "python",
   "nbconvert_exporter": "python",
   "pygments_lexer": "ipython3",
   "version": "3.9.12"
  }
 },
 "nbformat": 4,
 "nbformat_minor": 1
}